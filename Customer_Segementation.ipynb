{
 "cells": [
  {
   "cell_type": "code",
   "id": "initial_id",
   "metadata": {
    "collapsed": true,
    "ExecuteTime": {
     "end_time": "2025-10-21T20:15:00.518163Z",
     "start_time": "2025-10-21T20:15:00.323493Z"
    }
   },
   "source": [
    "import pandas as pd\n",
    "from sklearn.preprocessing import StandardScaler\n",
    "from sklearn.cluster import KMeans\n",
    "import numpy as np # Often useful, good to import\n",
    "\n",
    "# --- Step 3.2: Load Data from CSV ---\n",
    "print(\"Loading data from 'v_Sales_Performance_Master.csv'...\")\n",
    "\n",
    "# !!! IMPORTANT: Change this to the correct path where you saved your file !!!\n",
    "file_path = r'C:\\Users\\jaiku\\PycharmProjects\\Retail_Sales_Customer_Segementation\\SQL_VIEW_Sales_Performance_Master.csv' \n",
    "\n",
    "try:\n",
    "    df_sales = pd.read_csv(file_path)\n",
    "    print(\"Data loaded successfully.\")\n",
    "    \n",
    "    # Convert order_date to datetime objects for calculations\n",
    "    df_sales['order_date'] = pd.to_datetime(df_sales['order_date'])\n",
    "\n",
    "except FileNotFoundError:\n",
    "    print(f\"Error: File not found at {file_path}\")\n",
    "    print(\"Please update the 'file_path' variable to the correct location.\")\n",
    "except Exception as e:\n",
    "    print(f\"Error loading data: {e}\")\n",
    "\n",
    "# Check if df_sales was loaded successfully before proceeding\n",
    "if 'df_sales' in locals():\n",
    "    # Display the first 5 rows and columns/data types\n",
    "    print(\"\\n--- DataFrame Head ---\")\n",
    "    print(df_sales.head())\n",
    "    print(\"\\n--- DataFrame Info ---\")\n",
    "    df_sales.info()\n",
    "\n",
    "    # --- Step 3.3: Calculate RFM Metrics ---\n",
    "    print(\"\\n--- Calculating RFM Metrics ---\")\n",
    "\n",
    "    # 1. Calculate Recency\n",
    "    snapshot_date = df_sales['order_date'].max() + pd.Timedelta(days=1)\n",
    "    df_recency = df_sales.groupby('customer_id')['order_date'].max().reset_index()\n",
    "    df_recency['recency'] = (snapshot_date - df_recency['order_date']).dt.days\n",
    "\n",
    "    # 2. Calculate Frequency\n",
    "    df_frequency = df_sales.groupby('customer_id')['order_id'].nunique().reset_index()\n",
    "    df_frequency.columns = ['customer_id', 'frequency']\n",
    "\n",
    "    # 3. Calculate Monetary\n",
    "    df_monetary = df_sales.groupby('customer_id')['net_sales'].sum().reset_index()\n",
    "    df_monetary.columns = ['customer_id', 'monetary']\n",
    "\n",
    "    # Merge R, F, and M tables into one DataFrame\n",
    "    df_rfm = df_recency[['customer_id', 'recency']].merge(\n",
    "        df_frequency, on='customer_id'\n",
    "    ).merge(\n",
    "        df_monetary, on='customer_id'\n",
    "    )\n",
    "\n",
    "    print(\"\\n--- RFM DataFrame Head ---\")\n",
    "    print(df_rfm.head())\n",
    "\n",
    "    # --- Step 3.4: Segment Customers with K-Means Clustering ---\n",
    "    print(\"\\n--- Performing K-Means Clustering ---\")\n",
    "\n",
    "    rfm_for_clustering = df_rfm[['recency', 'frequency', 'monetary']]\n",
    "    \n",
    "    scaler = StandardScaler()\n",
    "    rfm_scaled = scaler.fit_transform(rfm_for_clustering)\n",
    "\n",
    "    k = 4 # Number of clusters\n",
    "    kmeans = KMeans(n_clusters=k, random_state=42, n_init=10)\n",
    "    kmeans.fit(rfm_scaled)\n",
    "\n",
    "    df_rfm['cluster'] = kmeans.labels_\n",
    "\n",
    "    print(\"\\n--- RFM DataFrame with Clusters ---\")\n",
    "    print(df_rfm.head())\n",
    "\n",
    "    # --- Step 3.5: Analyze the Segments ---\n",
    "    print(\"\\n--- Analyzing Cluster Segments ---\")\n",
    "    cluster_analysis = df_rfm.groupby('cluster')[['recency', 'frequency', 'monetary']].mean().reset_index()\n",
    "    print(cluster_analysis.sort_values(by='monetary', ascending=False))\n",
    "    \n",
    "    # --- Final Step: Save the results ---\n",
    "    output_csv_path = r'C:\\Users\\jaiku\\PycharmProjects\\Retail_Sales_Customer_Segementation\\customer_segments.csv'\n",
    "    df_rfm.to_csv(output_csv_path, index=False)\n",
    "    print(f\"\\nCustomer segmentation complete. Results saved to '{output_csv_path}'\")"
   ],
   "outputs": [
    {
     "name": "stdout",
     "output_type": "stream",
     "text": [
      "Loading data from 'v_Sales_Performance_Master.csv'...\n",
      "Data loaded successfully.\n",
      "\n",
      "--- DataFrame Head ---\n",
      "   order_id  item_id order_date required_date shipped_date  \\\n",
      "0         1        1 2016-01-01    2016-01-03   2016-01-03   \n",
      "1         4        4 2016-01-03    2016-01-04   2016-01-05   \n",
      "2         9        2 2016-01-05    2016-01-08   2016-01-08   \n",
      "3        12        2 2016-01-06    2016-01-08   2016-01-09   \n",
      "4        14        1 2016-01-09    2016-01-11   2016-01-12   \n",
      "\n",
      "   shipment_delay_days  product_id  \\\n",
      "0                  0.0          20   \n",
      "1                  1.0          16   \n",
      "2                  0.0          20   \n",
      "3                  1.0          17   \n",
      "4                  1.0          18   \n",
      "\n",
      "                                        product_name      category_name  \\\n",
      "0     Electra Townie Original 7D EQ - Women's - 2016  Cruisers Bicycles   \n",
      "1               Electra Townie Original 7D EQ - 2016  Cruisers Bicycles   \n",
      "2     Electra Townie Original 7D EQ - Women's - 2016  Cruisers Bicycles   \n",
      "3                    Pure Cycles Vine 8-Speed - 2016  Cruisers Bicycles   \n",
      "4  Pure Cycles Western 3-Speed - Women's - 2015/2016  Cruisers Bicycles   \n",
      "\n",
      "    brand_name  ...  customer_id   customer_full_name customer_city  \\\n",
      "0      Electra  ...          259  Johnathan Velazquez    Pleasanton   \n",
      "1      Electra  ...          175            Nova Hess        Duarte   \n",
      "2      Electra  ...           60          Neil Mccall    San Carlos   \n",
      "3  Pure Cycles  ...           91       Marvin Mullins     San Diego   \n",
      "4  Pure Cycles  ...          258      Maribel William      Torrance   \n",
      "\n",
      "  customer_region quantity  list_price discount  total_revenue  \\\n",
      "0              CA        1      599.99     0.20         599.99   \n",
      "1              CA        2      599.99     0.05        1199.98   \n",
      "2              CA        1      599.99     0.05         599.99   \n",
      "3              CA        1      429.00     0.07         429.00   \n",
      "4              CA        1      449.00     0.07         449.00   \n",
      "\n",
      "  discount_amount  net_sales  \n",
      "0        119.9980   479.9920  \n",
      "1         59.9990  1139.9810  \n",
      "2         29.9995   569.9905  \n",
      "3         30.0300   398.9700  \n",
      "4         31.4300   417.5700  \n",
      "\n",
      "[5 rows x 27 columns]\n",
      "\n",
      "--- DataFrame Info ---\n",
      "<class 'pandas.core.frame.DataFrame'>\n",
      "RangeIndex: 1615 entries, 0 to 1614\n",
      "Data columns (total 27 columns):\n",
      " #   Column               Non-Null Count  Dtype         \n",
      "---  ------               --------------  -----         \n",
      " 0   order_id             1615 non-null   int64         \n",
      " 1   item_id              1615 non-null   int64         \n",
      " 2   order_date           1615 non-null   datetime64[ns]\n",
      " 3   required_date        1615 non-null   object        \n",
      " 4   shipped_date         1445 non-null   object        \n",
      " 5   shipment_delay_days  1445 non-null   float64       \n",
      " 6   product_id           1615 non-null   int64         \n",
      " 7   product_name         1615 non-null   object        \n",
      " 8   category_name        1615 non-null   object        \n",
      " 9   brand_name           1615 non-null   object        \n",
      " 10  model_year           1615 non-null   int64         \n",
      " 11  store_id             1615 non-null   int64         \n",
      " 12  store_name           1615 non-null   object        \n",
      " 13  store_city           1615 non-null   object        \n",
      " 14  store_region         1615 non-null   object        \n",
      " 15  staff_id             1615 non-null   int64         \n",
      " 16  staff_full_name      1615 non-null   object        \n",
      " 17  customer_id          1615 non-null   int64         \n",
      " 18  customer_full_name   1615 non-null   object        \n",
      " 19  customer_city        1615 non-null   object        \n",
      " 20  customer_region      1615 non-null   object        \n",
      " 21  quantity             1615 non-null   int64         \n",
      " 22  list_price           1615 non-null   float64       \n",
      " 23  discount             1615 non-null   float64       \n",
      " 24  total_revenue        1615 non-null   float64       \n",
      " 25  discount_amount      1615 non-null   float64       \n",
      " 26  net_sales            1615 non-null   float64       \n",
      "dtypes: datetime64[ns](1), float64(6), int64(8), object(12)\n",
      "memory usage: 340.8+ KB\n",
      "\n",
      "--- Calculating RFM Metrics ---\n",
      "\n",
      "--- RFM DataFrame Head ---\n",
      "   customer_id  recency  frequency    monetary\n",
      "0            1       41          3   5339.9670\n",
      "1            2      264          3   3298.3750\n",
      "2            3       69          3   5271.0737\n",
      "3            4      255          3  12952.4555\n",
      "4            5      256          3   1829.0715\n",
      "\n",
      "--- Performing K-Means Clustering ---\n",
      "\n",
      "--- RFM DataFrame with Clusters ---\n",
      "   customer_id  recency  frequency    monetary  cluster\n",
      "0            1       41          3   5339.9670        2\n",
      "1            2      264          3   3298.3750        2\n",
      "2            3       69          3   5271.0737        2\n",
      "3            4      255          3  12952.4555        2\n",
      "4            5      256          3   1829.0715        2\n",
      "\n",
      "--- Analyzing Cluster Segments ---\n",
      "   cluster     recency  frequency     monetary\n",
      "1        1  658.875969   1.000000  5143.911199\n",
      "2        2  247.207692   2.300000  3086.778779\n",
      "3        3  483.205502   1.000000   967.061232\n",
      "0        0  887.663732   1.001761   960.432788\n",
      "\n",
      "Customer segmentation complete. Results saved to 'C:\\Users\\jaiku\\PycharmProjects\\Retail_Sales_Customer_Segementation\\customer_segments.csv'\n"
     ]
    }
   ],
   "execution_count": 13
  },
  {
   "metadata": {
    "ExecuteTime": {
     "end_time": "2025-10-21T20:15:17.586312Z",
     "start_time": "2025-10-21T20:15:17.286981Z"
    }
   },
   "cell_type": "code",
   "source": [
    "import pandas as pd\n",
    "import plotly.express as px\n",
    "import plotly.graph_objects as go\n",
    "from plotly.subplots import make_subplots\n",
    "\n",
    "# --- 1. Load Data ---\n",
    "# Load the CSV file created in the previous phase\n",
    "try:\n",
    "    df_rfm = pd.read_csv('customer_segments.csv')\n",
    "except FileNotFoundError:\n",
    "    print(\"Error: 'customer_segments.csv' not found.\")\n",
    "    print(\"Please run the previous segmentation script first.\")\n",
    "    exit()\n",
    "\n",
    "# --- 2. Analyze & Rename Segments ---\n",
    "# First, let's understand the segments to give them meaningful names\n",
    "# Group by cluster and find the mean of R, F, and M\n",
    "df_rfm_agg = df_rfm.groupby('cluster')[['recency', 'frequency', 'monetary']].mean().reset_index()\n",
    "\n",
    "# Sort by Monetary, Frequency, and Recency to identify the personas\n",
    "# Sorting by Monetary (High to Low) is a good start\n",
    "df_rfm_agg = df_rfm_agg.sort_values(by='monetary', ascending=False)\n",
    "\n",
    "# Create a mapping dictionary for segment names\n",
    "# This requires you to look at the output of df_rfm_agg and decide\n",
    "# For example, the cluster with highest monetary & frequency is 'Champions'\n",
    "# The cluster with highest recency (long time ago) is 'At Risk'\n",
    "# This is a *sample* mapping, you MUST adjust this based on your data\n",
    "segment_mapping = {\n",
    "    df_rfm_agg.iloc[0]['cluster']: 'Champions (High-Value)',\n",
    "    df_rfm_agg.iloc[1]['cluster']: 'Loyal Customers (Mid-Value)',\n",
    "    df_rfm_agg.iloc[2]['cluster']: 'New / Potential Customers',\n",
    "    df_rfm_agg.iloc[3]['cluster']: 'At Risk / Churned'\n",
    "}\n",
    "\n",
    "# Apply the new names\n",
    "df_rfm['segment_name'] = df_rfm['cluster'].map(segment_mapping)\n",
    "# Also apply to the aggregated table for plotting\n",
    "df_rfm_agg['segment_name'] = df_rfm_agg['cluster'].map(segment_mapping)\n",
    "\n",
    "# Ensure segment_name is treated as a category for sorting\n",
    "df_rfm['segment_name'] = pd.Categorical(df_rfm['segment_name'], categories=[\n",
    "    'Champions (High-Value)', \n",
    "    'Loyal Customers (Mid-Value)', \n",
    "    'New / Potential Customers', \n",
    "    'At Risk / Churned'\n",
    "])\n",
    "df_rfm_agg['segment_name'] = pd.Categorical(df_rfm_agg['segment_name'], categories=[\n",
    "    'Champions (High-Value)', \n",
    "    'Loyal Customers (Mid-Value)', \n",
    "    'New / Potential Customers', \n",
    "    'At Risk / Churned'\n",
    "])\n",
    "\n",
    "\n",
    "print(\"--- Segment Analysis (Avg. Values) ---\")\n",
    "print(df_rfm_agg.sort_values(by='segment_name'))\n",
    "\n",
    "\n",
    "# --- 3. Plot 1: 3D Interactive Cluster View (The \"Hero\" Chart) ---\n",
    "print(\"Generating Plot 1: 3D RFM Cluster Plot\")\n",
    "fig_3d = px.scatter_3d(\n",
    "    df_rfm,\n",
    "    x='recency',\n",
    "    y='frequency',\n",
    "    z='monetary',\n",
    "    color='segment_name',\n",
    "    color_discrete_map={\n",
    "        'Champions (High-Value)': '#107C10', # Green\n",
    "        'Loyal Customers (Mid-Value)': '#0078D4', # Blue\n",
    "        'New / Potential Customers': '#FFB900', # Yellow/Gold\n",
    "        'At Risk / Churned': '#D83B01' # Red/Orange\n",
    "    },\n",
    "    title='3D Interactive RFM Customer Segments',\n",
    "    hover_data=['customer_id']\n",
    ")\n",
    "\n",
    "fig_3d.update_layout(\n",
    "    margin=dict(l=0, r=0, b=0, t=40),\n",
    "    legend_title_text='Customer Segment'\n",
    ")\n",
    "fig_3d.show()\n",
    "\n",
    "\n",
    "# --- 4. Plot 2: Segment Characteristics (Bar Charts) ---\n",
    "print(\"Generating Plot 2: Segment Characteristics\")\n",
    "# We will create 3 subplots (one for R, one for F, one for M)\n",
    "fig_bars = make_subplots(\n",
    "    rows=1, cols=3,\n",
    "    subplot_titles=('Average Recency (Days)', 'Average Frequency (Orders)', 'Average Monetary Value ($)')\n",
    ")\n",
    "\n",
    "# Bar plot for Recency\n",
    "fig_bars.add_trace(go.Bar(\n",
    "    x=df_rfm_agg['segment_name'],\n",
    "    y=df_rfm_agg['recency'],\n",
    "    name='Recency',\n",
    "    marker_color=px.colors.sequential.Blues_r\n",
    "), row=1, col=1)\n",
    "\n",
    "# Bar plot for Frequency\n",
    "fig_bars.add_trace(go.Bar(\n",
    "    x=df_rfm_agg['segment_name'],\n",
    "    y=df_rfm_agg['frequency'],\n",
    "    name='Frequency',\n",
    "    marker_color=px.colors.sequential.Greens_r\n",
    "), row=1, col=2)\n",
    "\n",
    "# Bar plot for Monetary\n",
    "fig_bars.add_trace(go.Bar(\n",
    "    x=df_rfm_agg['segment_name'],\n",
    "    y=df_rfm_agg['monetary'],\n",
    "    name='Monetary',\n",
    "    marker_color=px.colors.sequential.Oranges_r\n",
    "), row=1, col=3)\n",
    "\n",
    "fig_bars.update_layout(\n",
    "    title_text='Customer Segment Characteristics',\n",
    "    showlegend=False\n",
    ")\n",
    "fig_bars.show()\n",
    "\n",
    "\n",
    "# --- 5. Plot 3: Segment Size & Value (Treemap) ---\n",
    "print(\"Generating Plot 3: Segment Size & Value Treemap\")\n",
    "# To get the count of customers in each segment\n",
    "df_rfm_counts = df_rfm.groupby('segment_name').agg(\n",
    "    customer_count=('customer_id', 'count'),\n",
    "    total_value=('monetary', 'sum')\n",
    ").reset_index()\n",
    "\n",
    "fig_tree = px.treemap(\n",
    "    df_rfm_counts,\n",
    "    path=[px.Constant(\"All Customers\"), 'segment_name'], # Create levels\n",
    "    values='customer_count',\n",
    "    color='total_value',\n",
    "    color_continuous_scale='Greens',\n",
    "    title='Customer Segment Size (by Count) & Total Value (by Color)',\n",
    "    hover_data={'segment_name': False, 'customer_count': ':.', 'total_value': ':$,.2f'}\n",
    ")\n",
    "\n",
    "fig_tree.update_traces(\n",
    "    texttemplate=\"<b>%{label}</b><br>%{value} Customers<br>%{percentParent:.1%} of Total\",\n",
    "    textposition=\"middle center\"\n",
    ")\n",
    "fig_tree.update_layout(margin=dict(l=0, r=0, b=0, t=30))\n",
    "fig_tree.show()"
   ],
   "id": "9ff2466a8c223c78",
   "outputs": [
    {
     "name": "stdout",
     "output_type": "stream",
     "text": [
      "--- Segment Analysis (Avg. Values) ---\n",
      "   cluster     recency  frequency     monetary                 segment_name\n",
      "1        1  658.875969   1.000000  5143.911199       Champions (High-Value)\n",
      "2        2  247.207692   2.300000  3086.778779  Loyal Customers (Mid-Value)\n",
      "3        3  483.205502   1.000000   967.061232    New / Potential Customers\n",
      "0        0  887.663732   1.001761   960.432788            At Risk / Churned\n",
      "Generating Plot 1: 3D RFM Cluster Plot\n"
     ]
    },
    {
     "data": {
      "application/vnd.plotly.v1+json": {
       "data": [
        {
         "customdata": [
          [
           1
          ],
          [
           2
          ],
          [
           3
          ],
          [
           4
          ],
          [
           5
          ],
          [
           6
          ],
          [
           7
          ],
          [
           8
          ],
          [
           9
          ],
          [
           10
          ],
          [
           11
          ],
          [
           12
          ],
          [
           13
          ],
          [
           14
          ],
          [
           15
          ],
          [
           16
          ],
          [
           17
          ],
          [
           18
          ],
          [
           19
          ],
          [
           20
          ],
          [
           21
          ],
          [
           22
          ],
          [
           23
          ],
          [
           24
          ],
          [
           25
          ],
          [
           26
          ],
          [
           27
          ],
          [
           28
          ],
          [
           29
          ],
          [
           30
          ],
          [
           31
          ],
          [
           32
          ],
          [
           33
          ],
          [
           34
          ],
          [
           35
          ],
          [
           36
          ],
          [
           37
          ],
          [
           38
          ],
          [
           39
          ],
          [
           40
          ],
          [
           41
          ],
          [
           42
          ],
          [
           43
          ],
          [
           44
          ],
          [
           45
          ],
          [
           46
          ],
          [
           47
          ],
          [
           48
          ],
          [
           49
          ],
          [
           50
          ],
          [
           51
          ],
          [
           52
          ],
          [
           53
          ],
          [
           54
          ],
          [
           55
          ],
          [
           56
          ],
          [
           57
          ],
          [
           58
          ],
          [
           59
          ],
          [
           60
          ],
          [
           61
          ],
          [
           62
          ],
          [
           63
          ],
          [
           64
          ],
          [
           65
          ],
          [
           66
          ],
          [
           67
          ],
          [
           68
          ],
          [
           69
          ],
          [
           70
          ],
          [
           71
          ],
          [
           72
          ],
          [
           73
          ],
          [
           74
          ],
          [
           75
          ],
          [
           76
          ],
          [
           77
          ],
          [
           78
          ],
          [
           79
          ],
          [
           80
          ],
          [
           81
          ],
          [
           82
          ],
          [
           83
          ],
          [
           84
          ],
          [
           85
          ],
          [
           86
          ],
          [
           87
          ],
          [
           88
          ],
          [
           89
          ],
          [
           90
          ],
          [
           91
          ],
          [
           92
          ],
          [
           93
          ],
          [
           94
          ],
          [
           97
          ],
          [
           104
          ],
          [
           109
          ],
          [
           110
          ],
          [
           116
          ],
          [
           119
          ],
          [
           120
          ],
          [
           121
          ],
          [
           123
          ],
          [
           124
          ],
          [
           135
          ],
          [
           136
          ],
          [
           138
          ],
          [
           151
          ],
          [
           153
          ],
          [
           157
          ],
          [
           165
          ],
          [
           169
          ],
          [
           170
          ],
          [
           172
          ],
          [
           175
          ],
          [
           176
          ],
          [
           181
          ],
          [
           187
          ],
          [
           188
          ],
          [
           191
          ],
          [
           192
          ],
          [
           194
          ],
          [
           208
          ],
          [
           217
          ],
          [
           224
          ],
          [
           231
          ],
          [
           233
          ],
          [
           237
          ],
          [
           239
          ],
          [
           240
          ]
         ],
         "hovertemplate": "segment_name=Loyal Customers (Mid-Value)<br>recency=%{x}<br>frequency=%{y}<br>monetary=%{z}<br>customer_id=%{customdata[0]}<extra></extra>",
         "legendgroup": "Loyal Customers (Mid-Value)",
         "marker": {
          "color": "#0078D4",
          "symbol": "circle"
         },
         "mode": "markers",
         "name": "Loyal Customers (Mid-Value)",
         "scene": "scene",
         "showlegend": true,
         "x": [
          41,
          264,
          69,
          255,
          256,
          114,
          195,
          261,
          246,
          128,
          247,
          250,
          261,
          251,
          126,
          264,
          256,
          259,
          259,
          261,
          245,
          265,
          272,
          250,
          264,
          262,
          272,
          260,
          251,
          255,
          267,
          263,
          171,
          259,
          271,
          258,
          261,
          261,
          256,
          246,
          269,
          253,
          244,
          248,
          245,
          252,
          262,
          250,
          244,
          261,
          271,
          267,
          170,
          251,
          243,
          245,
          253,
          257,
          261,
          252,
          263,
          272,
          254,
          269,
          253,
          262,
          256,
          264,
          268,
          256,
          245,
          252,
          256,
          243,
          265,
          257,
          253,
          261,
          258,
          251,
          267,
          269,
          267,
          271,
          265,
          268,
          263,
          253,
          252,
          244,
          256,
          265,
          250,
          272,
          262,
          249,
          247,
          260,
          258,
          172,
          267,
          254,
          181,
          250,
          31,
          1,
          246,
          267,
          637,
          247,
          246,
          256,
          256,
          255,
          262,
          247,
          270,
          257,
          248,
          249,
          252,
          270,
          266,
          270,
          250,
          247,
          260,
          265,
          244,
          248
         ],
         "y": [
          3,
          3,
          3,
          3,
          3,
          3,
          3,
          3,
          3,
          3,
          3,
          3,
          3,
          3,
          3,
          3,
          3,
          3,
          3,
          3,
          3,
          2,
          2,
          3,
          2,
          2,
          2,
          2,
          2,
          3,
          3,
          3,
          3,
          2,
          2,
          2,
          2,
          2,
          2,
          3,
          2,
          2,
          3,
          2,
          2,
          3,
          3,
          2,
          2,
          3,
          2,
          2,
          3,
          2,
          2,
          3,
          2,
          2,
          2,
          2,
          3,
          2,
          2,
          3,
          2,
          3,
          2,
          3,
          2,
          2,
          2,
          2,
          2,
          2,
          2,
          2,
          3,
          2,
          2,
          2,
          2,
          2,
          2,
          2,
          2,
          2,
          2,
          2,
          2,
          2,
          2,
          2,
          2,
          2,
          2,
          2,
          2,
          2,
          3,
          2,
          2,
          2,
          2,
          2,
          2,
          2,
          2,
          2,
          2,
          2,
          2,
          2,
          2,
          2,
          2,
          2,
          2,
          2,
          2,
          2,
          2,
          2,
          2,
          2,
          2,
          2,
          2,
          2,
          2,
          2
         ],
         "z": [
          5339.967000000001,
          3298.375,
          5271.073700000001,
          12952.4555,
          1829.0715,
          3799.9732,
          1596.5324999999998,
          8238.0654,
          2616.7645,
          4242.073,
          4621.4732,
          893.6327,
          5121.383,
          2243.906,
          6886.1448,
          3844.0627,
          3297.9468,
          7924.0812,
          1744.113,
          2775.3625,
          3242.1464,
          1304.091,
          4597.9305,
          2291.9561,
          3239.982,
          2240.554,
          1913.966,
          1406.9816999999998,
          6226.963,
          4409.0631,
          2486.5225,
          2079.96,
          7525.103,
          3708.9725,
          1615.192,
          821.0812,
          5039.972,
          2348.031,
          3136.4745,
          4032.6127,
          737.0727,
          6039.9827000000005,
          2603.0825,
          5896.081,
          3114.5607,
          6579.7474,
          1494.4654999999998,
          2049.3027,
          8454.9715,
          2267.967,
          3500.7725,
          1442.975,
          1815.114,
          669.541,
          917.966,
          6055.975,
          1043.9727,
          1064.9827,
          3597.981,
          992.9815,
          4873.065,
          751.4815,
          2738.892,
          3637.112,
          3269.972,
          1301.0587,
          1518.3919999999998,
          2218.3724,
          1624.972,
          5125.966,
          3779.9727,
          7696.4719,
          4859.973,
          3212.0745,
          3776.9727,
          3319.976,
          4456.112999999999,
          1995.9654,
          3583.7727,
          2394.9215,
          3359.9812,
          1046.972,
          6329.9634,
          1557.962,
          1157.9734,
          1530.963,
          5159.184,
          1210.4717,
          812.9815,
          5019.983,
          893.961,
          755.972,
          3092.192,
          2877.9827,
          3986.091,
          1316.973,
          2732.9719,
          4242.6228,
          3812.559,
          1285.974,
          1652.1840000000002,
          7513.566,
          1282.481,
          1267.4812,
          1814.4114,
          1303.4745,
          1506.0312,
          1647.968,
          1808.776,
          6957.974700000001,
          2461.532,
          1393.1307,
          2889.2727,
          2105.9634,
          1396.4715,
          2019.983,
          1657.4747,
          1837.966,
          1379.966,
          776.77,
          2424.774,
          4709.9727,
          5794.9715,
          778.981,
          1890.963,
          926.975,
          3247.8812,
          1015.1624,
          1082.9715,
          3872.9719
         ],
         "type": "scatter3d"
        },
        {
         "customdata": [
          [
           95
          ],
          [
           100
          ],
          [
           106
          ],
          [
           108
          ],
          [
           112
          ],
          [
           113
          ],
          [
           114
          ],
          [
           115
          ],
          [
           122
          ],
          [
           125
          ],
          [
           126
          ],
          [
           128
          ],
          [
           129
          ],
          [
           137
          ],
          [
           139
          ],
          [
           140
          ],
          [
           141
          ],
          [
           142
          ],
          [
           143
          ],
          [
           146
          ],
          [
           147
          ],
          [
           152
          ],
          [
           161
          ],
          [
           162
          ],
          [
           166
          ],
          [
           167
          ],
          [
           168
          ],
          [
           171
          ],
          [
           173
          ],
          [
           174
          ],
          [
           177
          ],
          [
           179
          ],
          [
           180
          ],
          [
           182
          ],
          [
           184
          ],
          [
           185
          ],
          [
           186
          ],
          [
           189
          ],
          [
           195
          ],
          [
           196
          ],
          [
           198
          ],
          [
           200
          ],
          [
           203
          ],
          [
           207
          ],
          [
           209
          ],
          [
           213
          ],
          [
           214
          ],
          [
           215
          ],
          [
           216
          ],
          [
           219
          ],
          [
           220
          ],
          [
           221
          ],
          [
           222
          ],
          [
           225
          ],
          [
           226
          ],
          [
           227
          ],
          [
           232
          ],
          [
           234
          ],
          [
           238
          ],
          [
           242
          ],
          [
           243
          ],
          [
           244
          ],
          [
           246
          ],
          [
           247
          ],
          [
           248
          ],
          [
           249
          ],
          [
           253
          ],
          [
           254
          ],
          [
           255
          ],
          [
           256
          ],
          [
           262
          ],
          [
           263
          ],
          [
           265
          ],
          [
           266
          ],
          [
           268
          ],
          [
           269
          ],
          [
           270
          ],
          [
           273
          ],
          [
           275
          ],
          [
           278
          ],
          [
           279
          ],
          [
           284
          ],
          [
           285
          ],
          [
           286
          ],
          [
           287
          ],
          [
           289
          ],
          [
           290
          ],
          [
           292
          ],
          [
           293
          ],
          [
           294
          ],
          [
           296
          ],
          [
           300
          ],
          [
           301
          ],
          [
           302
          ],
          [
           303
          ],
          [
           305
          ],
          [
           308
          ],
          [
           310
          ],
          [
           311
          ],
          [
           312
          ],
          [
           315
          ],
          [
           318
          ],
          [
           320
          ],
          [
           322
          ],
          [
           323
          ],
          [
           325
          ],
          [
           326
          ],
          [
           328
          ],
          [
           329
          ],
          [
           330
          ],
          [
           333
          ],
          [
           334
          ],
          [
           335
          ],
          [
           339
          ],
          [
           340
          ],
          [
           342
          ],
          [
           345
          ],
          [
           346
          ],
          [
           351
          ],
          [
           352
          ],
          [
           353
          ],
          [
           354
          ],
          [
           356
          ],
          [
           358
          ],
          [
           364
          ],
          [
           367
          ],
          [
           369
          ],
          [
           372
          ],
          [
           374
          ],
          [
           375
          ],
          [
           376
          ],
          [
           379
          ],
          [
           384
          ],
          [
           386
          ],
          [
           387
          ],
          [
           388
          ],
          [
           389
          ],
          [
           391
          ],
          [
           392
          ],
          [
           395
          ],
          [
           400
          ],
          [
           402
          ],
          [
           404
          ],
          [
           405
          ],
          [
           406
          ],
          [
           407
          ],
          [
           408
          ],
          [
           412
          ],
          [
           415
          ],
          [
           418
          ],
          [
           419
          ],
          [
           420
          ],
          [
           426
          ],
          [
           427
          ],
          [
           428
          ],
          [
           429
          ],
          [
           430
          ],
          [
           431
          ],
          [
           432
          ],
          [
           433
          ],
          [
           435
          ],
          [
           436
          ],
          [
           440
          ],
          [
           443
          ],
          [
           444
          ],
          [
           446
          ],
          [
           452
          ],
          [
           453
          ],
          [
           455
          ],
          [
           456
          ],
          [
           457
          ],
          [
           458
          ],
          [
           461
          ],
          [
           463
          ],
          [
           464
          ],
          [
           467
          ],
          [
           473
          ],
          [
           474
          ],
          [
           476
          ],
          [
           479
          ],
          [
           482
          ],
          [
           483
          ],
          [
           485
          ],
          [
           486
          ],
          [
           488
          ],
          [
           490
          ],
          [
           491
          ],
          [
           493
          ],
          [
           494
          ],
          [
           495
          ],
          [
           500
          ],
          [
           502
          ],
          [
           503
          ],
          [
           507
          ],
          [
           508
          ],
          [
           509
          ],
          [
           511
          ],
          [
           515
          ],
          [
           517
          ],
          [
           518
          ],
          [
           519
          ],
          [
           524
          ],
          [
           525
          ],
          [
           531
          ],
          [
           533
          ],
          [
           534
          ],
          [
           537
          ],
          [
           539
          ],
          [
           544
          ],
          [
           545
          ],
          [
           547
          ],
          [
           548
          ],
          [
           554
          ],
          [
           564
          ],
          [
           567
          ],
          [
           570
          ],
          [
           571
          ],
          [
           572
          ],
          [
           580
          ],
          [
           582
          ],
          [
           585
          ],
          [
           588
          ],
          [
           589
          ],
          [
           590
          ],
          [
           593
          ],
          [
           595
          ],
          [
           596
          ],
          [
           598
          ],
          [
           599
          ],
          [
           601
          ],
          [
           602
          ],
          [
           604
          ],
          [
           605
          ],
          [
           607
          ],
          [
           609
          ],
          [
           611
          ],
          [
           617
          ],
          [
           618
          ],
          [
           619
          ],
          [
           621
          ],
          [
           623
          ],
          [
           625
          ],
          [
           628
          ],
          [
           629
          ],
          [
           631
          ],
          [
           645
          ],
          [
           647
          ],
          [
           650
          ],
          [
           651
          ],
          [
           652
          ],
          [
           653
          ],
          [
           655
          ],
          [
           656
          ],
          [
           658
          ],
          [
           661
          ],
          [
           663
          ],
          [
           665
          ],
          [
           666
          ],
          [
           669
          ],
          [
           671
          ],
          [
           672
          ],
          [
           674
          ],
          [
           675
          ],
          [
           680
          ],
          [
           687
          ],
          [
           689
          ],
          [
           692
          ],
          [
           694
          ],
          [
           698
          ],
          [
           699
          ],
          [
           701
          ],
          [
           706
          ],
          [
           708
          ],
          [
           713
          ],
          [
           715
          ],
          [
           718
          ],
          [
           722
          ],
          [
           723
          ],
          [
           725
          ],
          [
           731
          ],
          [
           734
          ],
          [
           735
          ],
          [
           736
          ],
          [
           738
          ],
          [
           744
          ],
          [
           747
          ],
          [
           748
          ],
          [
           749
          ],
          [
           751
          ],
          [
           752
          ],
          [
           754
          ],
          [
           761
          ],
          [
           765
          ],
          [
           768
          ],
          [
           769
          ],
          [
           772
          ],
          [
           775
          ],
          [
           776
          ],
          [
           777
          ],
          [
           778
          ],
          [
           782
          ],
          [
           783
          ],
          [
           784
          ],
          [
           787
          ],
          [
           789
          ],
          [
           794
          ],
          [
           798
          ],
          [
           799
          ],
          [
           803
          ],
          [
           804
          ],
          [
           805
          ],
          [
           807
          ],
          [
           810
          ],
          [
           812
          ],
          [
           816
          ],
          [
           818
          ],
          [
           820
          ],
          [
           821
          ],
          [
           822
          ],
          [
           826
          ],
          [
           829
          ],
          [
           830
          ],
          [
           832
          ],
          [
           836
          ],
          [
           837
          ],
          [
           838
          ],
          [
           839
          ],
          [
           840
          ],
          [
           842
          ],
          [
           844
          ],
          [
           845
          ],
          [
           846
          ],
          [
           856
          ],
          [
           857
          ],
          [
           859
          ],
          [
           860
          ],
          [
           862
          ],
          [
           865
          ],
          [
           866
          ],
          [
           867
          ],
          [
           868
          ],
          [
           870
          ],
          [
           871
          ],
          [
           878
          ],
          [
           880
          ],
          [
           881
          ],
          [
           883
          ],
          [
           886
          ],
          [
           887
          ],
          [
           888
          ],
          [
           889
          ],
          [
           890
          ],
          [
           893
          ],
          [
           895
          ],
          [
           897
          ],
          [
           898
          ],
          [
           900
          ],
          [
           902
          ],
          [
           903
          ],
          [
           904
          ],
          [
           905
          ],
          [
           906
          ],
          [
           909
          ],
          [
           910
          ],
          [
           911
          ],
          [
           914
          ],
          [
           915
          ],
          [
           916
          ],
          [
           920
          ],
          [
           930
          ],
          [
           931
          ],
          [
           934
          ],
          [
           935
          ],
          [
           936
          ],
          [
           938
          ],
          [
           939
          ],
          [
           940
          ],
          [
           945
          ],
          [
           946
          ],
          [
           947
          ],
          [
           950
          ],
          [
           953
          ],
          [
           955
          ],
          [
           957
          ],
          [
           960
          ],
          [
           962
          ],
          [
           966
          ],
          [
           967
          ],
          [
           968
          ],
          [
           969
          ],
          [
           970
          ],
          [
           971
          ],
          [
           972
          ],
          [
           974
          ],
          [
           978
          ],
          [
           980
          ],
          [
           982
          ],
          [
           983
          ],
          [
           987
          ],
          [
           992
          ],
          [
           993
          ],
          [
           998
          ],
          [
           999
          ],
          [
           1000
          ],
          [
           1002
          ],
          [
           1003
          ],
          [
           1005
          ],
          [
           1006
          ],
          [
           1007
          ],
          [
           1008
          ],
          [
           1009
          ],
          [
           1010
          ],
          [
           1013
          ],
          [
           1014
          ],
          [
           1015
          ],
          [
           1016
          ],
          [
           1017
          ],
          [
           1018
          ],
          [
           1020
          ],
          [
           1021
          ],
          [
           1022
          ],
          [
           1023
          ],
          [
           1024
          ],
          [
           1025
          ],
          [
           1026
          ],
          [
           1029
          ],
          [
           1031
          ],
          [
           1033
          ],
          [
           1036
          ],
          [
           1037
          ],
          [
           1038
          ],
          [
           1041
          ],
          [
           1043
          ],
          [
           1044
          ],
          [
           1046
          ],
          [
           1050
          ],
          [
           1052
          ],
          [
           1053
          ],
          [
           1057
          ],
          [
           1059
          ],
          [
           1063
          ],
          [
           1065
          ],
          [
           1066
          ],
          [
           1067
          ],
          [
           1068
          ],
          [
           1072
          ],
          [
           1076
          ],
          [
           1077
          ],
          [
           1083
          ],
          [
           1084
          ],
          [
           1086
          ],
          [
           1087
          ],
          [
           1088
          ],
          [
           1090
          ],
          [
           1091
          ],
          [
           1092
          ],
          [
           1098
          ],
          [
           1099
          ],
          [
           1100
          ],
          [
           1101
          ],
          [
           1104
          ],
          [
           1105
          ],
          [
           1106
          ],
          [
           1109
          ],
          [
           1111
          ],
          [
           1113
          ],
          [
           1114
          ],
          [
           1115
          ],
          [
           1116
          ],
          [
           1118
          ],
          [
           1120
          ],
          [
           1122
          ],
          [
           1123
          ],
          [
           1126
          ],
          [
           1128
          ],
          [
           1132
          ],
          [
           1133
          ],
          [
           1134
          ],
          [
           1135
          ],
          [
           1136
          ],
          [
           1138
          ],
          [
           1139
          ],
          [
           1142
          ],
          [
           1145
          ],
          [
           1148
          ],
          [
           1150
          ],
          [
           1154
          ],
          [
           1155
          ],
          [
           1158
          ],
          [
           1160
          ],
          [
           1164
          ],
          [
           1166
          ],
          [
           1170
          ],
          [
           1171
          ],
          [
           1172
          ],
          [
           1177
          ],
          [
           1178
          ],
          [
           1180
          ],
          [
           1181
          ],
          [
           1184
          ],
          [
           1186
          ],
          [
           1187
          ],
          [
           1188
          ],
          [
           1190
          ],
          [
           1191
          ],
          [
           1195
          ],
          [
           1197
          ],
          [
           1201
          ],
          [
           1203
          ],
          [
           1206
          ],
          [
           1207
          ],
          [
           1214
          ],
          [
           1216
          ],
          [
           1221
          ],
          [
           1224
          ],
          [
           1225
          ],
          [
           1226
          ],
          [
           1230
          ],
          [
           1231
          ],
          [
           1236
          ],
          [
           1240
          ],
          [
           1244
          ],
          [
           1246
          ],
          [
           1251
          ],
          [
           1254
          ],
          [
           1256
          ],
          [
           1258
          ],
          [
           1260
          ],
          [
           1262
          ],
          [
           1266
          ],
          [
           1268
          ],
          [
           1269
          ],
          [
           1270
          ],
          [
           1273
          ],
          [
           1276
          ],
          [
           1277
          ],
          [
           1278
          ],
          [
           1279
          ],
          [
           1281
          ],
          [
           1283
          ],
          [
           1284
          ],
          [
           1287
          ],
          [
           1289
          ],
          [
           1290
          ],
          [
           1291
          ],
          [
           1292
          ],
          [
           1293
          ],
          [
           1294
          ],
          [
           1298
          ],
          [
           1303
          ],
          [
           1304
          ],
          [
           1308
          ],
          [
           1310
          ],
          [
           1311
          ],
          [
           1312
          ],
          [
           1316
          ],
          [
           1317
          ],
          [
           1319
          ],
          [
           1320
          ],
          [
           1323
          ],
          [
           1327
          ],
          [
           1329
          ],
          [
           1330
          ],
          [
           1336
          ],
          [
           1339
          ],
          [
           1342
          ],
          [
           1343
          ],
          [
           1344
          ],
          [
           1345
          ],
          [
           1346
          ],
          [
           1347
          ],
          [
           1363
          ],
          [
           1364
          ],
          [
           1367
          ],
          [
           1370
          ],
          [
           1372
          ],
          [
           1379
          ],
          [
           1382
          ],
          [
           1383
          ],
          [
           1384
          ],
          [
           1385
          ],
          [
           1388
          ],
          [
           1389
          ],
          [
           1390
          ],
          [
           1392
          ],
          [
           1393
          ],
          [
           1394
          ],
          [
           1395
          ],
          [
           1399
          ],
          [
           1401
          ],
          [
           1402
          ],
          [
           1403
          ],
          [
           1407
          ],
          [
           1408
          ],
          [
           1409
          ],
          [
           1410
          ],
          [
           1411
          ],
          [
           1412
          ],
          [
           1414
          ],
          [
           1415
          ],
          [
           1416
          ],
          [
           1417
          ],
          [
           1418
          ],
          [
           1419
          ],
          [
           1421
          ],
          [
           1422
          ],
          [
           1423
          ],
          [
           1424
          ],
          [
           1426
          ],
          [
           1427
          ],
          [
           1432
          ],
          [
           1433
          ],
          [
           1436
          ],
          [
           1438
          ],
          [
           1439
          ],
          [
           1441
          ],
          [
           1442
          ],
          [
           1445
          ]
         ],
         "hovertemplate": "segment_name=New / Potential Customers<br>recency=%{x}<br>frequency=%{y}<br>monetary=%{z}<br>customer_id=%{customdata[0]}<extra></extra>",
         "legendgroup": "New / Potential Customers",
         "marker": {
          "color": "#FFB900",
          "symbol": "circle"
         },
         "mode": "markers",
         "name": "New / Potential Customers",
         "scene": "scene",
         "showlegend": true,
         "x": [
          640,
          307,
          499,
          380,
          274,
          400,
          275,
          335,
          338,
          524,
          297,
          390,
          566,
          668,
          282,
          504,
          660,
          561,
          474,
          316,
          671,
          278,
          518,
          613,
          668,
          563,
          527,
          593,
          684,
          528,
          616,
          586,
          273,
          501,
          670,
          509,
          438,
          505,
          296,
          599,
          500,
          681,
          357,
          684,
          506,
          428,
          600,
          580,
          441,
          535,
          495,
          634,
          429,
          499,
          420,
          393,
          665,
          639,
          553,
          578,
          416,
          366,
          629,
          348,
          556,
          651,
          342,
          464,
          665,
          357,
          390,
          289,
          567,
          532,
          484,
          434,
          554,
          363,
          472,
          562,
          387,
          662,
          384,
          452,
          284,
          407,
          525,
          446,
          301,
          632,
          285,
          300,
          634,
          274,
          413,
          495,
          293,
          340,
          369,
          333,
          638,
          432,
          391,
          378,
          323,
          504,
          491,
          551,
          620,
          286,
          412,
          477,
          664,
          561,
          641,
          582,
          587,
          413,
          466,
          588,
          524,
          534,
          524,
          606,
          300,
          654,
          441,
          623,
          645,
          405,
          589,
          487,
          593,
          603,
          399,
          479,
          557,
          667,
          273,
          284,
          551,
          583,
          557,
          284,
          626,
          518,
          525,
          497,
          632,
          367,
          538,
          640,
          408,
          334,
          623,
          517,
          653,
          627,
          649,
          669,
          401,
          545,
          343,
          359,
          370,
          610,
          311,
          499,
          625,
          504,
          557,
          405,
          547,
          289,
          348,
          399,
          611,
          300,
          344,
          647,
          423,
          293,
          536,
          440,
          325,
          656,
          321,
          499,
          470,
          529,
          676,
          346,
          533,
          597,
          436,
          401,
          553,
          287,
          466,
          289,
          581,
          637,
          563,
          663,
          380,
          450,
          564,
          510,
          421,
          407,
          318,
          447,
          462,
          660,
          362,
          558,
          415,
          661,
          352,
          517,
          565,
          521,
          489,
          535,
          431,
          290,
          499,
          472,
          299,
          284,
          499,
          367,
          588,
          642,
          585,
          560,
          460,
          562,
          643,
          536,
          279,
          681,
          577,
          636,
          570,
          535,
          440,
          559,
          593,
          453,
          646,
          501,
          577,
          561,
          604,
          468,
          418,
          631,
          428,
          658,
          682,
          629,
          494,
          327,
          551,
          338,
          281,
          670,
          668,
          581,
          660,
          543,
          456,
          372,
          621,
          580,
          560,
          540,
          633,
          664,
          397,
          482,
          565,
          278,
          290,
          484,
          528,
          475,
          541,
          488,
          284,
          359,
          336,
          420,
          577,
          650,
          616,
          619,
          508,
          387,
          503,
          427,
          602,
          458,
          455,
          651,
          480,
          528,
          424,
          570,
          683,
          427,
          465,
          497,
          274,
          327,
          287,
          372,
          285,
          450,
          605,
          594,
          671,
          555,
          524,
          300,
          301,
          425,
          661,
          607,
          678,
          368,
          317,
          590,
          289,
          339,
          362,
          455,
          324,
          561,
          607,
          678,
          597,
          378,
          560,
          579,
          617,
          427,
          582,
          454,
          454,
          626,
          394,
          517,
          677,
          500,
          451,
          610,
          414,
          354,
          353,
          318,
          570,
          672,
          498,
          319,
          536,
          350,
          317,
          481,
          369,
          454,
          397,
          470,
          297,
          671,
          625,
          471,
          660,
          383,
          400,
          663,
          356,
          572,
          441,
          678,
          578,
          386,
          657,
          678,
          354,
          588,
          288,
          609,
          466,
          393,
          289,
          330,
          315,
          646,
          631,
          415,
          297,
          627,
          429,
          497,
          305,
          464,
          331,
          342,
          483,
          344,
          334,
          393,
          650,
          347,
          425,
          654,
          585,
          370,
          442,
          477,
          600,
          564,
          361,
          284,
          451,
          390,
          479,
          349,
          594,
          420,
          303,
          290,
          603,
          465,
          317,
          307,
          642,
          622,
          464,
          442,
          351,
          454,
          580,
          666,
          463,
          514,
          361,
          341,
          497,
          461,
          378,
          440,
          429,
          552,
          406,
          404,
          478,
          282,
          662,
          641,
          497,
          447,
          445,
          669,
          438,
          531,
          296,
          336,
          441,
          358,
          551,
          324,
          488,
          473,
          623,
          509,
          277,
          405,
          677,
          618,
          293,
          545,
          639,
          443,
          288,
          427,
          550,
          494,
          637,
          411,
          414,
          313,
          306,
          611,
          467,
          419,
          633,
          560,
          331,
          319,
          407,
          551,
          430,
          595,
          415,
          664,
          637,
          600,
          422,
          348,
          379,
          454,
          572,
          512,
          429,
          611,
          298,
          398,
          309,
          456,
          684,
          635,
          323,
          330,
          351,
          492,
          454,
          552,
          397,
          475,
          509,
          520,
          559,
          430,
          587,
          280,
          516,
          517,
          385,
          550,
          433,
          424,
          662,
          386,
          592,
          369,
          654,
          326,
          524,
          517,
          276,
          489,
          682,
          575,
          487,
          634,
          592,
          556,
          496,
          411,
          333,
          663,
          448,
          429,
          653,
          460,
          531,
          619,
          466,
          651,
          396,
          408,
          521,
          496,
          460,
          490,
          316,
          372,
          658,
          398,
          533,
          559,
          488,
          351,
          485,
          624,
          679,
          384,
          614,
          556,
          566,
          401,
          378,
          609,
          284,
          438,
          461,
          538,
          607,
          528,
          533,
          286,
          451,
          442,
          551,
          483,
          555,
          492,
          558,
          347,
          622,
          574,
          506,
          337,
          517,
          297
         ],
         "y": [
          1,
          1,
          1,
          1,
          1,
          1,
          1,
          1,
          1,
          1,
          1,
          1,
          1,
          1,
          1,
          1,
          1,
          1,
          1,
          1,
          1,
          1,
          1,
          1,
          1,
          1,
          1,
          1,
          1,
          1,
          1,
          1,
          1,
          1,
          1,
          1,
          1,
          1,
          1,
          1,
          1,
          1,
          1,
          1,
          1,
          1,
          1,
          1,
          1,
          1,
          1,
          1,
          1,
          1,
          1,
          1,
          1,
          1,
          1,
          1,
          1,
          1,
          1,
          1,
          1,
          1,
          1,
          1,
          1,
          1,
          1,
          1,
          1,
          1,
          1,
          1,
          1,
          1,
          1,
          1,
          1,
          1,
          1,
          1,
          1,
          1,
          1,
          1,
          1,
          1,
          1,
          1,
          1,
          1,
          1,
          1,
          1,
          1,
          1,
          1,
          1,
          1,
          1,
          1,
          1,
          1,
          1,
          1,
          1,
          1,
          1,
          1,
          1,
          1,
          1,
          1,
          1,
          1,
          1,
          1,
          1,
          1,
          1,
          1,
          1,
          1,
          1,
          1,
          1,
          1,
          1,
          1,
          1,
          1,
          1,
          1,
          1,
          1,
          1,
          1,
          1,
          1,
          1,
          1,
          1,
          1,
          1,
          1,
          1,
          1,
          1,
          1,
          1,
          1,
          1,
          1,
          1,
          1,
          1,
          1,
          1,
          1,
          1,
          1,
          1,
          1,
          1,
          1,
          1,
          1,
          1,
          1,
          1,
          1,
          1,
          1,
          1,
          1,
          1,
          1,
          1,
          1,
          1,
          1,
          1,
          1,
          1,
          1,
          1,
          1,
          1,
          1,
          1,
          1,
          1,
          1,
          1,
          1,
          1,
          1,
          1,
          1,
          1,
          1,
          1,
          1,
          1,
          1,
          1,
          1,
          1,
          1,
          1,
          1,
          1,
          1,
          1,
          1,
          1,
          1,
          1,
          1,
          1,
          1,
          1,
          1,
          1,
          1,
          1,
          1,
          1,
          1,
          1,
          1,
          1,
          1,
          1,
          1,
          1,
          1,
          1,
          1,
          1,
          1,
          1,
          1,
          1,
          1,
          1,
          1,
          1,
          1,
          1,
          1,
          1,
          1,
          1,
          1,
          1,
          1,
          1,
          1,
          1,
          1,
          1,
          1,
          1,
          1,
          1,
          1,
          1,
          1,
          1,
          1,
          1,
          1,
          1,
          1,
          1,
          1,
          1,
          1,
          1,
          1,
          1,
          1,
          1,
          1,
          1,
          1,
          1,
          1,
          1,
          1,
          1,
          1,
          1,
          1,
          1,
          1,
          1,
          1,
          1,
          1,
          1,
          1,
          1,
          1,
          1,
          1,
          1,
          1,
          1,
          1,
          1,
          1,
          1,
          1,
          1,
          1,
          1,
          1,
          1,
          1,
          1,
          1,
          1,
          1,
          1,
          1,
          1,
          1,
          1,
          1,
          1,
          1,
          1,
          1,
          1,
          1,
          1,
          1,
          1,
          1,
          1,
          1,
          1,
          1,
          1,
          1,
          1,
          1,
          1,
          1,
          1,
          1,
          1,
          1,
          1,
          1,
          1,
          1,
          1,
          1,
          1,
          1,
          1,
          1,
          1,
          1,
          1,
          1,
          1,
          1,
          1,
          1,
          1,
          1,
          1,
          1,
          1,
          1,
          1,
          1,
          1,
          1,
          1,
          1,
          1,
          1,
          1,
          1,
          1,
          1,
          1,
          1,
          1,
          1,
          1,
          1,
          1,
          1,
          1,
          1,
          1,
          1,
          1,
          1,
          1,
          1,
          1,
          1,
          1,
          1,
          1,
          1,
          1,
          1,
          1,
          1,
          1,
          1,
          1,
          1,
          1,
          1,
          1,
          1,
          1,
          1,
          1,
          1,
          1,
          1,
          1,
          1,
          1,
          1,
          1,
          1,
          1,
          1,
          1,
          1,
          1,
          1,
          1,
          1,
          1,
          1,
          1,
          1,
          1,
          1,
          1,
          1,
          1,
          1,
          1,
          1,
          1,
          1,
          1,
          1,
          1,
          1,
          1,
          1,
          1,
          1,
          1,
          1,
          1,
          1,
          1,
          1,
          1,
          1,
          1,
          1,
          1,
          1,
          1,
          1,
          1,
          1,
          1,
          1,
          1,
          1,
          1,
          1,
          1,
          1,
          1,
          1,
          1,
          1,
          1,
          1,
          1,
          1,
          1,
          1,
          1,
          1,
          1,
          1,
          1,
          1,
          1,
          1,
          1,
          1,
          1,
          1,
          1,
          1,
          1,
          1,
          1,
          1,
          1,
          1,
          1,
          1,
          1,
          1,
          1,
          1,
          1,
          1,
          1,
          1,
          1,
          1,
          1,
          1,
          1,
          1,
          1,
          1,
          1,
          1,
          1,
          1,
          1,
          1,
          1,
          1,
          1,
          1,
          1,
          1,
          1,
          1,
          1,
          1,
          1,
          1,
          1,
          1,
          1,
          1,
          1,
          1,
          1,
          1,
          1,
          1,
          1,
          1,
          1,
          1,
          1,
          1,
          1,
          1,
          1,
          1,
          1,
          1,
          1,
          1,
          1,
          1,
          1,
          1,
          1,
          1,
          1,
          1,
          1,
          1,
          1,
          1,
          1,
          1,
          1,
          1,
          1,
          1,
          1,
          1,
          1,
          1,
          1,
          1,
          1,
          1,
          1,
          1,
          1,
          1,
          1,
          1,
          1,
          1
         ],
         "z": [
          522.4905,
          479.992,
          251.0907,
          808.2,
          751.984,
          1188.891,
          1022.9814,
          502.1814,
          569.981,
          476.991,
          797.94,
          502.1814,
          799.992,
          1239.2,
          874.1814,
          539.982,
          892.981,
          1440.57,
          2478.4,
          557.9814,
          479.984,
          835.14,
          2943.1,
          1471.55,
          1044.981,
          2609.991,
          1512.891,
          1079.982,
          949.9905,
          512.981,
          835.14,
          953.982,
          879.984,
          479.992,
          242.991,
          718.4,
          1115.9814,
          1394.9814,
          929.9814,
          2881.14,
          502.1814,
          256.4905,
          502.1814,
          522.4905,
          1424.981,
          1239.2,
          502.1814,
          343.2,
          446.4905,
          2754.9905,
          697.4907,
          343.2,
          359.2,
          417.57,
          1471.55,
          797.94,
          474.9905,
          959.984,
          1022.9814,
          522.4905,
          511.4907,
          426.55,
          853.1,
          557.9814,
          256.4905,
          251.0907,
          242.991,
          359.2,
          359.2,
          399.992,
          1512.891,
          437.0907,
          835.14,
          874.1814,
          431.984,
          437.0907,
          808.2,
          215.992,
          569.9905,
          426.55,
          1599.984,
          1228.5207,
          485.982,
          522.4905,
          569.9905,
          215.992,
          697.4907,
          2696.9907,
          464.9907,
          242.991,
          256.4905,
          386.1,
          251.0907,
          1424.981,
          479.992,
          502.1814,
          2377.782,
          375.992,
          1512.891,
          485.982,
          1079.982,
          485.982,
          343.2,
          899.982,
          242.991,
          1709.9905,
          284.9905,
          2509.881,
          1079.982,
          502.1814,
          985.7814,
          1022.9814,
          539.982,
          242.991,
          479.992,
          431.984,
          1563.3207,
          251.0907,
          1599.984,
          485.982,
          479.992,
          502.1814,
          949.981,
          522.4905,
          512.981,
          407.55,
          422.991,
          239.992,
          1899.981,
          1673.9907,
          503.4905,
          751.984,
          539.991,
          1439.992,
          1596.9405,
          407.55,
          474.9905,
          1859.9814,
          464.9907,
          1115.9814,
          503.4905,
          479.992,
          1079.982,
          1563.3207,
          799.984,
          256.4905,
          485.982,
          251.0907,
          892.981,
          3239.982,
          426.55,
          674.991,
          2478.4,
          1006.981,
          892.981,
          2478.4,
          479.992,
          359.2,
          251.0907,
          1424.981,
          959.984,
          479.992,
          375.992,
          1344.792,
          485.982,
          1599.984,
          989.982,
          512.981,
          989.982,
          251.0907,
          959.984,
          512.981,
          929.9907,
          539.991,
          1115.9814,
          569.9905,
          539.991,
          242.991,
          3239.982,
          251.0907,
          426.55,
          502.1814,
          569.981,
          1394.1,
          239.992,
          449.991,
          1440.57,
          242.991,
          512.981,
          569.9905,
          1199.984,
          398.97,
          2849.9905,
          1228.5207,
          2509.881,
          522.4905,
          251.0907,
          1440.57,
          2788.2,
          3126.6414,
          502.1814,
          1471.55,
          439.992,
          256.4905,
          989.982,
          953.982,
          422.991,
          1188.891,
          239.992,
          557.9907,
          1079.982,
          1599.984,
          492.8907,
          242.991,
          485.982,
          557.9907,
          476.991,
          949.9905,
          502.1814,
          485.982,
          2849.9905,
          959.984,
          1673.9907,
          256.4905,
          431.984,
          2509.881,
          512.981,
          1228.5207,
          215.992,
          2377.782,
          242.991,
          847.984,
          799.984,
          2849.9905,
          674.991,
          242.991,
          449.991,
          2754.9905,
          1115.9814,
          539.991,
          256.4905,
          431.984,
          751.984,
          2319.992,
          398.97,
          815.1,
          569.981,
          1022.9814,
          359.2,
          874.1814,
          485.982,
          569.9905,
          494.991,
          2849.9905,
          2113.584,
          2789.9907,
          874.1814,
          2943.1,
          494.991,
          242.991,
          1199.984,
          375.992,
          1512.891,
          215.992,
          985.7814,
          256.4905,
          1799.982,
          772.2,
          953.982,
          1079.982,
          476.991,
          1344.792,
          511.4907,
          417.57,
          2478.4,
          431.984,
          522.4905,
          1199.984,
          1394.9814,
          431.984,
          959.984,
          1056.792,
          1899.981,
          492.8907,
          949.981,
          256.4905,
          449.991,
          1599.984,
          215.992,
          1022.9814,
          712.4905,
          797.94,
          284.9905,
          949.9905,
          278.9907,
          464.9907,
          1199.984,
          1394.1,
          1394.1,
          1344.792,
          1139.981,
          2319.992,
          2113.584,
          1139.981,
          449.991,
          835.14,
          399.992,
          1044.981,
          256.4905,
          1139.981,
          2377.782,
          256.4905,
          1254.9405,
          1139.981,
          2696.9907,
          269.991,
          1056.792,
          1440.57,
          439.992,
          1899.981,
          485.982,
          1199.984,
          1239.2,
          835.14,
          1022.9814,
          251.0907,
          479.984,
          853.1,
          799.984,
          215.992,
          476.991,
          449.991,
          853.1,
          256.4905,
          569.981,
          502.1814,
          512.981,
          2789.9907,
          431.984,
          874.1814,
          718.4,
          2696.9907,
          2849.9905,
          718.4,
          1006.981,
          426.55,
          879.984,
          539.991,
          251.0907,
          251.0907,
          479.984,
          502.1814,
          2849.9905,
          426.55,
          845.982,
          1619.991,
          569.9905,
          1239.2,
          751.984,
          1139.981,
          1471.55,
          1044.981,
          512.981,
          2609.991,
          431.984,
          492.8907,
          502.1814,
          1239.2,
          1673.9907,
          853.1,
          2943.1,
          494.991,
          2319.992,
          439.992,
          1673.9907,
          879.984,
          929.9814,
          989.982,
          1394.9814,
          2319.992,
          512.981,
          2699.991,
          3126.6414,
          502.1814,
          502.1814,
          426.55,
          439.992,
          835.14,
          426.55,
          417.57,
          422.991,
          2849.9905,
          539.991,
          251.0907,
          502.1814,
          278.9907,
          718.4,
          853.1,
          256.4905,
          557.9907,
          502.1814,
          1115.9814,
          1188.891,
          215.992,
          502.1814,
          476.991,
          1079.982,
          929.9907,
          503.4905,
          1139.981,
          494.991,
          522.4905,
          512.981,
          1022.9814,
          1115.9814,
          215.992,
          3126.6414,
          959.984,
          284.9905,
          797.94,
          599.992,
          2399.992,
          2696.9907,
          1349.982,
          557.9907,
          1859.9814,
          2849.9905,
          439.992,
          474.9905,
          2754.9905,
          2699.991,
          2696.9907,
          1424.981,
          847.984,
          815.1,
          479.992,
          215.992,
          449.991,
          959.984,
          2789.9907,
          1394.9814,
          557.9814,
          557.9907,
          1115.9814,
          1349.982,
          874.1814,
          686.4,
          439.992,
          853.1,
          569.981,
          1439.992,
          959.984,
          845.982,
          1022.9814,
          422.991,
          239.992,
          899.991,
          815.1,
          3193.881,
          1394.1,
          557.9814,
          1139.981,
          1899.981,
          959.984,
          479.984,
          2789.9907,
          2113.584,
          808.2,
          751.984,
          494.991,
          426.55,
          959.984,
          853.1,
          242.991,
          485.982,
          874.1814,
          215.992,
          494.991,
          404.1,
          892.981,
          569.9905,
          446.4905,
          959.984,
          502.1814,
          502.1814,
          343.2,
          439.992,
          2399.992,
          892.981,
          697.4907,
          712.4905,
          1139.981,
          1254.9405,
          1471.55,
          3193.881,
          1440.57,
          959.984,
          512.981,
          2457.0414,
          1596.9405,
          569.9905,
          431.984,
          239.992,
          278.9907,
          1439.992,
          1344.792,
          959.984,
          494.991,
          569.9905,
          1139.981,
          949.9905,
          431.984,
          502.1814,
          1056.792,
          239.992,
          1596.9405,
          417.57,
          422.991,
          278.9907,
          1619.991,
          1424.981,
          386.1,
          874.1814,
          1394.1,
          929.9814,
          569.9905,
          522.4905,
          1254.9405,
          892.981,
          242.991,
          929.9814,
          239.992,
          242.991,
          1079.982,
          485.982,
          431.984,
          215.992,
          1619.991,
          215.992,
          2881.14,
          2319.992,
          557.9907,
          674.991,
          2849.9905,
          426.55,
          426.55,
          407.55,
          404.1,
          751.984,
          2849.9905,
          242.991,
          1056.792,
          512.981,
          2113.584,
          251.0907,
          251.0907,
          284.9905,
          439.992,
          1239.2,
          2509.881,
          959.984,
          539.991,
          422.991,
          751.984,
          874.1814,
          2478.4,
          485.982,
          989.982,
          985.7814,
          2689.584,
          2319.992,
          464.9907,
          512.981,
          3199.992,
          2696.9907,
          359.2,
          697.4907,
          2849.9905,
          242.991,
          1188.891,
          899.982,
          284.9905,
          485.982,
          2788.2,
          1899.981,
          215.992,
          479.992,
          2399.992,
          2788.2,
          557.9907,
          1044.981,
          1394.1,
          959.984,
          511.4907,
          375.992,
          1006.981,
          2399.992,
          215.992,
          256.4905,
          215.992,
          949.9905,
          845.982,
          511.4907,
          215.992,
          686.4,
          242.991,
          959.984,
          949.981,
          215.992,
          2943.1,
          2399.992,
          242.991,
          485.982,
          845.982,
          1044.981,
          3239.982,
          949.981,
          718.4
         ],
         "type": "scatter3d"
        },
        {
         "customdata": [
          [
           96
          ],
          [
           98
          ],
          [
           99
          ],
          [
           101
          ],
          [
           102
          ],
          [
           103
          ],
          [
           105
          ],
          [
           111
          ],
          [
           117
          ],
          [
           118
          ],
          [
           127
          ],
          [
           130
          ],
          [
           132
          ],
          [
           133
          ],
          [
           134
          ],
          [
           144
          ],
          [
           145
          ],
          [
           148
          ],
          [
           149
          ],
          [
           155
          ],
          [
           158
          ],
          [
           159
          ],
          [
           160
          ],
          [
           163
          ],
          [
           164
          ],
          [
           178
          ],
          [
           183
          ],
          [
           190
          ],
          [
           193
          ],
          [
           197
          ],
          [
           199
          ],
          [
           202
          ],
          [
           204
          ],
          [
           205
          ],
          [
           206
          ],
          [
           211
          ],
          [
           212
          ],
          [
           223
          ],
          [
           230
          ],
          [
           235
          ],
          [
           236
          ],
          [
           241
          ],
          [
           245
          ],
          [
           251
          ],
          [
           252
          ],
          [
           258
          ],
          [
           259
          ],
          [
           260
          ],
          [
           264
          ],
          [
           267
          ],
          [
           271
          ],
          [
           272
          ],
          [
           274
          ],
          [
           276
          ],
          [
           277
          ],
          [
           280
          ],
          [
           281
          ],
          [
           282
          ],
          [
           283
          ],
          [
           288
          ],
          [
           291
          ],
          [
           297
          ],
          [
           298
          ],
          [
           299
          ],
          [
           304
          ],
          [
           306
          ],
          [
           307
          ],
          [
           309
          ],
          [
           313
          ],
          [
           314
          ],
          [
           316
          ],
          [
           317
          ],
          [
           319
          ],
          [
           321
          ],
          [
           324
          ],
          [
           327
          ],
          [
           331
          ],
          [
           332
          ],
          [
           336
          ],
          [
           338
          ],
          [
           341
          ],
          [
           343
          ],
          [
           344
          ],
          [
           347
          ],
          [
           348
          ],
          [
           349
          ],
          [
           350
          ],
          [
           357
          ],
          [
           359
          ],
          [
           360
          ],
          [
           361
          ],
          [
           362
          ],
          [
           363
          ],
          [
           365
          ],
          [
           366
          ],
          [
           368
          ],
          [
           370
          ],
          [
           371
          ],
          [
           373
          ],
          [
           377
          ],
          [
           378
          ],
          [
           380
          ],
          [
           381
          ],
          [
           383
          ],
          [
           385
          ],
          [
           390
          ],
          [
           393
          ],
          [
           396
          ],
          [
           397
          ],
          [
           398
          ],
          [
           399
          ],
          [
           401
          ],
          [
           403
          ],
          [
           409
          ],
          [
           410
          ],
          [
           411
          ],
          [
           413
          ],
          [
           414
          ],
          [
           416
          ],
          [
           417
          ],
          [
           421
          ],
          [
           422
          ],
          [
           423
          ],
          [
           424
          ],
          [
           434
          ],
          [
           438
          ],
          [
           441
          ],
          [
           442
          ],
          [
           445
          ],
          [
           447
          ],
          [
           449
          ],
          [
           450
          ],
          [
           451
          ],
          [
           454
          ],
          [
           459
          ],
          [
           465
          ],
          [
           466
          ],
          [
           468
          ],
          [
           469
          ],
          [
           470
          ],
          [
           471
          ],
          [
           475
          ],
          [
           480
          ],
          [
           481
          ],
          [
           484
          ],
          [
           489
          ],
          [
           492
          ],
          [
           497
          ],
          [
           498
          ],
          [
           499
          ],
          [
           501
          ],
          [
           504
          ],
          [
           506
          ],
          [
           510
          ],
          [
           512
          ],
          [
           513
          ],
          [
           514
          ],
          [
           516
          ],
          [
           520
          ],
          [
           523
          ],
          [
           526
          ],
          [
           528
          ],
          [
           529
          ],
          [
           532
          ],
          [
           536
          ],
          [
           538
          ],
          [
           540
          ],
          [
           542
          ],
          [
           543
          ],
          [
           546
          ],
          [
           549
          ],
          [
           550
          ],
          [
           551
          ],
          [
           552
          ],
          [
           553
          ],
          [
           557
          ],
          [
           558
          ],
          [
           559
          ],
          [
           560
          ],
          [
           561
          ],
          [
           562
          ],
          [
           563
          ],
          [
           565
          ],
          [
           568
          ],
          [
           569
          ],
          [
           573
          ],
          [
           574
          ],
          [
           576
          ],
          [
           577
          ],
          [
           578
          ],
          [
           579
          ],
          [
           581
          ],
          [
           583
          ],
          [
           584
          ],
          [
           586
          ],
          [
           587
          ],
          [
           591
          ],
          [
           600
          ],
          [
           603
          ],
          [
           606
          ],
          [
           608
          ],
          [
           610
          ],
          [
           612
          ],
          [
           613
          ],
          [
           614
          ],
          [
           615
          ],
          [
           616
          ],
          [
           622
          ],
          [
           624
          ],
          [
           626
          ],
          [
           627
          ],
          [
           630
          ],
          [
           632
          ],
          [
           633
          ],
          [
           634
          ],
          [
           635
          ],
          [
           638
          ],
          [
           639
          ],
          [
           640
          ],
          [
           641
          ],
          [
           642
          ],
          [
           643
          ],
          [
           648
          ],
          [
           649
          ],
          [
           654
          ],
          [
           657
          ],
          [
           659
          ],
          [
           660
          ],
          [
           664
          ],
          [
           667
          ],
          [
           668
          ],
          [
           670
          ],
          [
           673
          ],
          [
           676
          ],
          [
           677
          ],
          [
           678
          ],
          [
           679
          ],
          [
           681
          ],
          [
           682
          ],
          [
           683
          ],
          [
           685
          ],
          [
           686
          ],
          [
           688
          ],
          [
           691
          ],
          [
           693
          ],
          [
           695
          ],
          [
           696
          ],
          [
           697
          ],
          [
           703
          ],
          [
           705
          ],
          [
           707
          ],
          [
           709
          ],
          [
           710
          ],
          [
           711
          ],
          [
           712
          ],
          [
           714
          ],
          [
           716
          ],
          [
           719
          ],
          [
           721
          ],
          [
           724
          ],
          [
           726
          ],
          [
           727
          ],
          [
           728
          ],
          [
           737
          ],
          [
           739
          ],
          [
           740
          ],
          [
           742
          ],
          [
           743
          ],
          [
           745
          ],
          [
           746
          ],
          [
           750
          ],
          [
           753
          ],
          [
           755
          ],
          [
           756
          ],
          [
           759
          ],
          [
           760
          ],
          [
           762
          ],
          [
           763
          ],
          [
           764
          ],
          [
           766
          ],
          [
           770
          ],
          [
           773
          ],
          [
           779
          ],
          [
           780
          ],
          [
           785
          ],
          [
           786
          ],
          [
           788
          ],
          [
           790
          ],
          [
           791
          ],
          [
           792
          ],
          [
           795
          ],
          [
           796
          ],
          [
           797
          ],
          [
           800
          ],
          [
           801
          ],
          [
           802
          ],
          [
           806
          ],
          [
           808
          ],
          [
           809
          ],
          [
           813
          ],
          [
           814
          ],
          [
           815
          ],
          [
           817
          ],
          [
           819
          ],
          [
           823
          ],
          [
           825
          ],
          [
           827
          ],
          [
           831
          ],
          [
           833
          ],
          [
           834
          ],
          [
           843
          ],
          [
           847
          ],
          [
           848
          ],
          [
           849
          ],
          [
           850
          ],
          [
           851
          ],
          [
           852
          ],
          [
           853
          ],
          [
           854
          ],
          [
           855
          ],
          [
           858
          ],
          [
           861
          ],
          [
           872
          ],
          [
           873
          ],
          [
           875
          ],
          [
           876
          ],
          [
           879
          ],
          [
           882
          ],
          [
           884
          ],
          [
           891
          ],
          [
           892
          ],
          [
           896
          ],
          [
           899
          ],
          [
           907
          ],
          [
           908
          ],
          [
           913
          ],
          [
           917
          ],
          [
           918
          ],
          [
           919
          ],
          [
           921
          ],
          [
           922
          ],
          [
           923
          ],
          [
           924
          ],
          [
           925
          ],
          [
           926
          ],
          [
           927
          ],
          [
           928
          ],
          [
           929
          ],
          [
           932
          ],
          [
           933
          ],
          [
           941
          ],
          [
           942
          ],
          [
           943
          ],
          [
           944
          ],
          [
           949
          ],
          [
           951
          ],
          [
           952
          ],
          [
           954
          ],
          [
           956
          ],
          [
           958
          ],
          [
           959
          ],
          [
           961
          ],
          [
           963
          ],
          [
           964
          ],
          [
           965
          ],
          [
           973
          ],
          [
           975
          ],
          [
           976
          ],
          [
           977
          ],
          [
           979
          ],
          [
           985
          ],
          [
           986
          ],
          [
           988
          ],
          [
           989
          ],
          [
           990
          ],
          [
           991
          ],
          [
           994
          ],
          [
           995
          ],
          [
           996
          ],
          [
           997
          ],
          [
           1001
          ],
          [
           1004
          ],
          [
           1011
          ],
          [
           1012
          ],
          [
           1019
          ],
          [
           1028
          ],
          [
           1030
          ],
          [
           1032
          ],
          [
           1034
          ],
          [
           1035
          ],
          [
           1039
          ],
          [
           1040
          ],
          [
           1045
          ],
          [
           1047
          ],
          [
           1048
          ],
          [
           1049
          ],
          [
           1054
          ],
          [
           1055
          ],
          [
           1056
          ],
          [
           1058
          ],
          [
           1062
          ],
          [
           1069
          ],
          [
           1071
          ],
          [
           1073
          ],
          [
           1074
          ],
          [
           1075
          ],
          [
           1079
          ],
          [
           1080
          ],
          [
           1082
          ],
          [
           1085
          ],
          [
           1089
          ],
          [
           1093
          ],
          [
           1094
          ],
          [
           1095
          ],
          [
           1096
          ],
          [
           1097
          ],
          [
           1102
          ],
          [
           1103
          ],
          [
           1110
          ],
          [
           1112
          ],
          [
           1121
          ],
          [
           1124
          ],
          [
           1127
          ],
          [
           1129
          ],
          [
           1130
          ],
          [
           1140
          ],
          [
           1141
          ],
          [
           1144
          ],
          [
           1146
          ],
          [
           1147
          ],
          [
           1149
          ],
          [
           1151
          ],
          [
           1153
          ],
          [
           1159
          ],
          [
           1162
          ],
          [
           1163
          ],
          [
           1165
          ],
          [
           1167
          ],
          [
           1168
          ],
          [
           1169
          ],
          [
           1173
          ],
          [
           1174
          ],
          [
           1175
          ],
          [
           1179
          ],
          [
           1182
          ],
          [
           1185
          ],
          [
           1189
          ],
          [
           1192
          ],
          [
           1193
          ],
          [
           1194
          ],
          [
           1196
          ],
          [
           1198
          ],
          [
           1199
          ],
          [
           1200
          ],
          [
           1202
          ],
          [
           1204
          ],
          [
           1205
          ],
          [
           1208
          ],
          [
           1211
          ],
          [
           1212
          ],
          [
           1217
          ],
          [
           1218
          ],
          [
           1220
          ],
          [
           1223
          ],
          [
           1227
          ],
          [
           1228
          ],
          [
           1232
          ],
          [
           1233
          ],
          [
           1234
          ],
          [
           1237
          ],
          [
           1238
          ],
          [
           1241
          ],
          [
           1242
          ],
          [
           1243
          ],
          [
           1245
          ],
          [
           1247
          ],
          [
           1248
          ],
          [
           1249
          ],
          [
           1250
          ],
          [
           1252
          ],
          [
           1253
          ],
          [
           1255
          ],
          [
           1257
          ],
          [
           1259
          ],
          [
           1261
          ],
          [
           1263
          ],
          [
           1264
          ],
          [
           1265
          ],
          [
           1267
          ],
          [
           1271
          ],
          [
           1272
          ],
          [
           1274
          ],
          [
           1275
          ],
          [
           1280
          ],
          [
           1285
          ],
          [
           1286
          ],
          [
           1288
          ],
          [
           1295
          ],
          [
           1296
          ],
          [
           1297
          ],
          [
           1299
          ],
          [
           1300
          ],
          [
           1301
          ],
          [
           1302
          ],
          [
           1305
          ],
          [
           1306
          ],
          [
           1307
          ],
          [
           1309
          ],
          [
           1313
          ],
          [
           1314
          ],
          [
           1318
          ],
          [
           1321
          ],
          [
           1322
          ],
          [
           1324
          ],
          [
           1325
          ],
          [
           1326
          ],
          [
           1331
          ],
          [
           1333
          ],
          [
           1335
          ],
          [
           1337
          ],
          [
           1340
          ],
          [
           1341
          ],
          [
           1348
          ],
          [
           1349
          ],
          [
           1350
          ],
          [
           1351
          ],
          [
           1352
          ],
          [
           1353
          ],
          [
           1354
          ],
          [
           1355
          ],
          [
           1356
          ],
          [
           1357
          ],
          [
           1358
          ],
          [
           1359
          ],
          [
           1361
          ],
          [
           1362
          ],
          [
           1365
          ],
          [
           1366
          ],
          [
           1368
          ],
          [
           1369
          ],
          [
           1371
          ],
          [
           1373
          ],
          [
           1374
          ],
          [
           1375
          ],
          [
           1377
          ],
          [
           1378
          ],
          [
           1380
          ],
          [
           1381
          ],
          [
           1387
          ],
          [
           1391
          ],
          [
           1398
          ],
          [
           1400
          ],
          [
           1404
          ],
          [
           1405
          ],
          [
           1406
          ],
          [
           1413
          ],
          [
           1420
          ],
          [
           1425
          ],
          [
           1428
          ],
          [
           1429
          ],
          [
           1430
          ],
          [
           1431
          ],
          [
           1434
          ],
          [
           1435
          ],
          [
           1437
          ],
          [
           1440
          ],
          [
           1443
          ],
          [
           1444
          ]
         ],
         "hovertemplate": "segment_name=At Risk / Churned<br>recency=%{x}<br>frequency=%{y}<br>monetary=%{z}<br>customer_id=%{customdata[0]}<extra></extra>",
         "legendgroup": "At Risk / Churned",
         "marker": {
          "color": "#D83B01",
          "symbol": "circle"
         },
         "mode": "markers",
         "name": "At Risk / Churned",
         "scene": "scene",
         "showlegend": true,
         "x": [
          749,
          980,
          993,
          829,
          753,
          851,
          968,
          799,
          992,
          738,
          973,
          734,
          865,
          917,
          984,
          855,
          941,
          809,
          833,
          801,
          913,
          920,
          762,
          732,
          1069,
          765,
          981,
          717,
          810,
          825,
          861,
          914,
          1035,
          999,
          948,
          901,
          776,
          944,
          905,
          804,
          1073,
          819,
          699,
          999,
          1075,
          1085,
          1093,
          809,
          1050,
          962,
          1033,
          839,
          888,
          1042,
          1057,
          972,
          907,
          931,
          719,
          1006,
          700,
          706,
          767,
          899,
          818,
          1031,
          956,
          748,
          785,
          834,
          1015,
          1043,
          917,
          783,
          1090,
          1020,
          861,
          1005,
          1032,
          995,
          787,
          695,
          708,
          712,
          1067,
          711,
          929,
          1000,
          846,
          913,
          704,
          831,
          963,
          769,
          1007,
          856,
          1011,
          1001,
          869,
          802,
          921,
          696,
          1053,
          710,
          1047,
          981,
          1044,
          850,
          1046,
          844,
          831,
          808,
          1018,
          1014,
          861,
          925,
          936,
          1040,
          849,
          689,
          814,
          1030,
          765,
          903,
          841,
          1011,
          874,
          1089,
          762,
          852,
          818,
          1085,
          861,
          737,
          985,
          814,
          737,
          820,
          1026,
          780,
          1024,
          864,
          892,
          816,
          1017,
          956,
          829,
          927,
          1004,
          699,
          956,
          1058,
          793,
          939,
          725,
          815,
          966,
          1042,
          729,
          1092,
          1054,
          889,
          1046,
          725,
          864,
          751,
          931,
          854,
          691,
          923,
          820,
          722,
          878,
          1082,
          819,
          1009,
          975,
          819,
          740,
          733,
          691,
          1058,
          898,
          893,
          795,
          912,
          995,
          859,
          1022,
          850,
          934,
          759,
          1069,
          880,
          803,
          1049,
          969,
          970,
          850,
          692,
          1063,
          996,
          1051,
          799,
          699,
          956,
          986,
          888,
          750,
          710,
          900,
          1027,
          936,
          1028,
          743,
          969,
          921,
          797,
          972,
          820,
          888,
          988,
          1038,
          949,
          741,
          1076,
          888,
          687,
          797,
          832,
          1042,
          895,
          721,
          792,
          1028,
          735,
          1014,
          708,
          932,
          750,
          1018,
          816,
          756,
          825,
          1008,
          903,
          1080,
          820,
          814,
          905,
          766,
          814,
          1011,
          746,
          810,
          1006,
          962,
          753,
          806,
          797,
          837,
          975,
          976,
          952,
          778,
          1024,
          954,
          969,
          705,
          1065,
          880,
          792,
          1020,
          987,
          789,
          972,
          697,
          1006,
          930,
          1019,
          707,
          792,
          887,
          917,
          810,
          1020,
          965,
          700,
          834,
          755,
          895,
          811,
          1052,
          921,
          939,
          946,
          881,
          830,
          700,
          1072,
          735,
          967,
          791,
          762,
          750,
          864,
          814,
          806,
          763,
          870,
          842,
          721,
          892,
          915,
          690,
          941,
          823,
          824,
          985,
          732,
          706,
          1066,
          1063,
          1086,
          811,
          813,
          930,
          833,
          695,
          866,
          777,
          747,
          814,
          879,
          702,
          777,
          847,
          986,
          976,
          814,
          703,
          1080,
          893,
          1022,
          1005,
          801,
          943,
          1036,
          807,
          932,
          894,
          770,
          966,
          842,
          712,
          990,
          751,
          863,
          945,
          691,
          773,
          881,
          883,
          823,
          1060,
          733,
          719,
          697,
          809,
          1067,
          716,
          801,
          827,
          766,
          753,
          1031,
          873,
          867,
          1055,
          828,
          852,
          879,
          878,
          1064,
          897,
          828,
          886,
          750,
          995,
          1078,
          841,
          731,
          934,
          1062,
          812,
          1015,
          868,
          827,
          796,
          769,
          838,
          1042,
          849,
          744,
          972,
          1056,
          992,
          860,
          946,
          834,
          821,
          722,
          1036,
          1067,
          794,
          694,
          970,
          747,
          884,
          887,
          751,
          1008,
          982,
          714,
          911,
          966,
          895,
          787,
          829,
          994,
          1078,
          849,
          718,
          742,
          686,
          734,
          1034,
          954,
          946,
          777,
          1059,
          1043,
          1082,
          961,
          1047,
          1056,
          877,
          1013,
          887,
          1035,
          689,
          822,
          720,
          993,
          848,
          1090,
          907,
          749,
          753,
          1093,
          839,
          960,
          1066,
          1045,
          924,
          785,
          753,
          692,
          1065,
          1033,
          1074,
          1059,
          692,
          893,
          908,
          975,
          775,
          714,
          1079,
          886,
          1054,
          1028,
          954,
          1073,
          821,
          896,
          1011,
          847,
          940,
          688,
          762,
          861,
          766,
          1076,
          866,
          1003,
          980,
          852,
          1069,
          862,
          880,
          874,
          922,
          724,
          1059,
          755,
          878,
          1038,
          864,
          937,
          752,
          1071,
          933,
          1091,
          997,
          1089,
          810,
          884,
          851,
          892,
          926,
          925,
          1074,
          826,
          947,
          948,
          689,
          789,
          1013,
          864,
          919,
          881,
          961,
          805,
          991,
          861,
          1018,
          975,
          958,
          1025,
          832,
          965,
          798,
          906,
          847,
          805,
          850,
          806,
          878,
          711,
          736,
          900,
          733,
          771,
          791,
          1053,
          963,
          908,
          893,
          786,
          767,
          1026,
          1067,
          951,
          853,
          822,
          774,
          739
         ],
         "y": [
          1,
          1,
          1,
          1,
          1,
          1,
          1,
          1,
          2,
          1,
          1,
          1,
          1,
          1,
          1,
          1,
          1,
          1,
          1,
          1,
          1,
          1,
          1,
          1,
          1,
          1,
          1,
          1,
          1,
          1,
          1,
          1,
          1,
          1,
          1,
          1,
          1,
          1,
          1,
          1,
          1,
          1,
          1,
          1,
          1,
          1,
          1,
          1,
          1,
          1,
          1,
          1,
          1,
          1,
          1,
          1,
          1,
          1,
          1,
          1,
          1,
          1,
          1,
          1,
          1,
          1,
          1,
          1,
          1,
          1,
          1,
          1,
          1,
          1,
          1,
          1,
          1,
          1,
          1,
          1,
          1,
          1,
          1,
          1,
          1,
          1,
          1,
          1,
          1,
          1,
          1,
          1,
          1,
          1,
          1,
          1,
          1,
          1,
          1,
          1,
          1,
          1,
          1,
          1,
          1,
          1,
          1,
          1,
          1,
          1,
          1,
          1,
          1,
          1,
          1,
          1,
          1,
          1,
          1,
          1,
          1,
          1,
          1,
          1,
          1,
          1,
          1,
          1,
          1,
          1,
          1,
          1,
          1,
          1,
          1,
          1,
          1,
          1,
          1,
          1,
          1,
          1,
          1,
          1,
          1,
          1,
          1,
          1,
          1,
          1,
          1,
          1,
          1,
          1,
          1,
          1,
          1,
          1,
          1,
          1,
          1,
          1,
          1,
          1,
          1,
          1,
          1,
          1,
          1,
          1,
          1,
          1,
          1,
          1,
          1,
          1,
          1,
          1,
          1,
          1,
          1,
          1,
          1,
          1,
          1,
          1,
          1,
          1,
          1,
          1,
          1,
          1,
          1,
          1,
          1,
          1,
          1,
          1,
          1,
          1,
          1,
          1,
          1,
          1,
          1,
          1,
          1,
          1,
          1,
          1,
          1,
          1,
          1,
          1,
          1,
          1,
          1,
          1,
          1,
          1,
          1,
          1,
          1,
          1,
          1,
          1,
          1,
          1,
          1,
          1,
          1,
          1,
          1,
          1,
          1,
          1,
          1,
          1,
          1,
          1,
          1,
          1,
          1,
          1,
          1,
          1,
          1,
          1,
          1,
          1,
          1,
          1,
          1,
          1,
          1,
          1,
          1,
          1,
          1,
          1,
          1,
          1,
          1,
          1,
          1,
          1,
          1,
          1,
          1,
          1,
          1,
          1,
          1,
          1,
          1,
          1,
          1,
          1,
          1,
          1,
          1,
          1,
          1,
          1,
          1,
          1,
          1,
          1,
          1,
          1,
          1,
          1,
          1,
          1,
          1,
          1,
          1,
          1,
          1,
          1,
          1,
          1,
          1,
          1,
          1,
          1,
          1,
          1,
          1,
          1,
          1,
          1,
          1,
          1,
          1,
          1,
          1,
          1,
          1,
          1,
          1,
          1,
          1,
          1,
          1,
          1,
          1,
          1,
          1,
          1,
          1,
          1,
          1,
          1,
          1,
          1,
          1,
          1,
          1,
          1,
          1,
          1,
          1,
          1,
          1,
          1,
          1,
          1,
          1,
          1,
          1,
          1,
          1,
          1,
          1,
          1,
          1,
          1,
          1,
          1,
          1,
          1,
          1,
          1,
          1,
          1,
          1,
          1,
          1,
          1,
          1,
          1,
          1,
          1,
          1,
          1,
          1,
          1,
          1,
          1,
          1,
          1,
          1,
          1,
          1,
          1,
          1,
          1,
          1,
          1,
          1,
          1,
          1,
          1,
          1,
          1,
          1,
          1,
          1,
          1,
          1,
          1,
          1,
          1,
          1,
          1,
          1,
          1,
          1,
          1,
          1,
          1,
          1,
          1,
          1,
          1,
          1,
          1,
          1,
          1,
          1,
          1,
          1,
          1,
          1,
          1,
          1,
          1,
          1,
          1,
          1,
          1,
          1,
          1,
          1,
          1,
          1,
          1,
          1,
          1,
          1,
          1,
          1,
          1,
          1,
          1,
          1,
          1,
          1,
          1,
          1,
          1,
          1,
          1,
          1,
          1,
          1,
          1,
          1,
          1,
          1,
          1,
          1,
          1,
          1,
          1,
          1,
          1,
          1,
          1,
          1,
          1,
          1,
          1,
          1,
          1,
          1,
          1,
          1,
          1,
          1,
          1,
          1,
          1,
          1,
          1,
          1,
          1,
          1,
          1,
          1,
          1,
          1,
          1,
          1,
          1,
          1,
          1,
          1,
          1,
          1,
          1,
          1,
          1,
          1,
          1,
          1,
          1,
          1,
          1,
          1,
          1,
          1,
          1,
          1,
          1,
          1,
          1,
          1,
          1,
          1,
          1,
          1,
          1,
          1,
          1,
          1,
          1,
          1,
          1,
          1,
          1,
          1,
          1,
          1,
          1,
          1,
          1,
          1,
          1,
          1,
          1,
          1,
          1,
          1,
          1,
          1,
          1,
          1,
          1,
          1,
          1,
          1,
          1,
          1,
          1,
          1,
          1,
          1,
          1,
          1,
          1,
          1,
          1,
          1,
          1,
          1,
          1
         ],
         "z": [
          485.982,
          278.9907,
          674.991,
          1022.9814,
          949.9905,
          929.9907,
          404.1,
          398.97,
          749.3812,
          1599.984,
          502.1814,
          437.0907,
          1079.982,
          417.57,
          899.982,
          1899.981,
          417.57,
          417.57,
          437.0907,
          2689.584,
          215.992,
          284.9905,
          989.982,
          712.4905,
          1673.9907,
          569.9905,
          989.982,
          242.991,
          1079.982,
          242.991,
          1424.981,
          431.984,
          1022.9814,
          847.984,
          539.991,
          808.2,
          1115.9814,
          1899.981,
          398.97,
          847.984,
          1079.982,
          1344.792,
          1673.9907,
          1115.9814,
          959.984,
          417.57,
          479.992,
          899.991,
          439.992,
          1139.981,
          3347.9814,
          431.984,
          1056.792,
          485.982,
          256.4905,
          1471.55,
          959.984,
          1619.991,
          417.57,
          1115.9814,
          1079.982,
          959.984,
          485.982,
          949.9905,
          522.4905,
          1139.981,
          989.982,
          2788.2,
          359.2,
          815.1,
          569.9905,
          1044.981,
          751.984,
          2113.584,
          1139.981,
          1899.981,
          569.9905,
          959.984,
          2788.2,
          417.57,
          1022.9814,
          417.57,
          1859.9814,
          2689.584,
          1439.992,
          494.991,
          599.992,
          959.984,
          892.981,
          215.992,
          959.984,
          985.7814,
          464.9907,
          502.1814,
          949.9905,
          712.4905,
          476.991,
          899.982,
          2696.9907,
          949.981,
          2879.984,
          835.14,
          2478.4,
          437.0907,
          359.2,
          494.991,
          446.4905,
          879.984,
          1254.9405,
          502.1814,
          808.2,
          539.991,
          1188.891,
          251.0907,
          2699.991,
          2319.992,
          1254.9405,
          398.97,
          417.57,
          815.1,
          256.4905,
          1056.792,
          1799.982,
          359.2,
          386.1,
          929.9814,
          1022.9814,
          1349.982,
          772.2,
          1079.982,
          989.982,
          1044.981,
          808.2,
          1394.1,
          899.982,
          479.992,
          1349.982,
          1079.982,
          1139.981,
          485.982,
          2788.2,
          2457.0414,
          242.991,
          1709.9905,
          426.55,
          399.992,
          256.4905,
          2881.14,
          569.981,
          1228.5207,
          479.992,
          386.1,
          522.4905,
          959.984,
          539.982,
          278.9907,
          522.4905,
          1439.992,
          399.992,
          2943.1,
          479.984,
          1044.981,
          1673.9907,
          1394.9814,
          404.1,
          1394.9814,
          502.1814,
          278.9907,
          386.1,
          2478.4,
          1254.9405,
          256.4905,
          407.55,
          539.991,
          1239.2,
          2319.992,
          215.992,
          512.981,
          464.9907,
          2478.4,
          1079.982,
          1440.57,
          2849.9905,
          485.982,
          1254.9405,
          949.981,
          512.981,
          2509.881,
          431.984,
          215.992,
          437.0907,
          474.9905,
          853.1,
          2696.9907,
          1044.981,
          502.1814,
          569.9905,
          1899.981,
          949.9905,
          799.992,
          256.4905,
          251.0907,
          599.992,
          2319.992,
          835.14,
          398.97,
          3239.982,
          1022.9814,
          242.991,
          512.981,
          569.9905,
          1599.984,
          845.982,
          502.1814,
          569.9905,
          1139.981,
          1139.981,
          539.991,
          386.1,
          1022.9814,
          989.982,
          1006.981,
          404.1,
          929.9814,
          892.981,
          242.991,
          437.0907,
          2696.9907,
          1709.9905,
          494.991,
          569.9905,
          359.2,
          2377.782,
          423.992,
          1254.9405,
          485.982,
          512.981,
          1349.982,
          985.7814,
          242.991,
          718.4,
          853.1,
          479.992,
          239.992,
          502.1814,
          953.982,
          492.8907,
          431.984,
          479.992,
          949.9905,
          407.55,
          1139.981,
          215.992,
          251.0907,
          1139.981,
          256.4905,
          437.0907,
          439.992,
          1079.982,
          2609.991,
          1006.981,
          2377.782,
          479.984,
          815.1,
          1859.9814,
          511.4907,
          359.2,
          439.992,
          569.9905,
          1188.891,
          426.55,
          1599.984,
          476.991,
          251.0907,
          464.9907,
          485.982,
          799.992,
          569.9905,
          407.55,
          2879.984,
          423.992,
          474.9905,
          239.992,
          242.991,
          2478.4,
          343.2,
          1859.9814,
          512.981,
          1619.991,
          1254.9405,
          485.982,
          1394.9814,
          242.991,
          539.991,
          539.982,
          2689.584,
          569.9905,
          1596.9405,
          417.57,
          437.0907,
          569.9905,
          797.94,
          929.9907,
          512.981,
          417.57,
          2699.991,
          431.984,
          557.9907,
          686.4,
          569.9905,
          398.97,
          1439.992,
          1022.9814,
          599.992,
          853.1,
          557.9814,
          2788.2,
          712.4905,
          853.1,
          2699.991,
          511.4907,
          1673.9907,
          3599.991,
          557.9907,
          2689.584,
          1199.984,
          242.991,
          2609.991,
          399.992,
          989.982,
          511.4907,
          1349.982,
          1188.891,
          1799.982,
          431.984,
          1394.9814,
          1599.984,
          485.982,
          511.4907,
          808.2,
          464.9907,
          899.991,
          437.0907,
          959.984,
          464.9907,
          1044.981,
          985.7814,
          3193.881,
          359.2,
          502.1814,
          502.1814,
          569.981,
          485.982,
          929.9814,
          815.1,
          449.991,
          1115.9814,
          431.984,
          479.992,
          2399.992,
          949.981,
          215.992,
          569.9905,
          1344.792,
          1440.57,
          474.9905,
          2113.584,
          949.981,
          512.981,
          256.4905,
          1079.982,
          417.57,
          494.991,
          1006.981,
          2943.1,
          686.4,
          539.991,
          398.97,
          1799.982,
          502.1814,
          375.992,
          437.0907,
          959.984,
          1199.984,
          386.1,
          1799.982,
          697.4907,
          989.982,
          269.991,
          256.4905,
          539.991,
          1899.981,
          899.991,
          949.981,
          485.982,
          3599.991,
          386.1,
          359.2,
          422.991,
          522.4905,
          1673.9907,
          512.981,
          3025.782,
          522.4905,
          1056.792,
          539.982,
          2609.991,
          1394.9814,
          949.981,
          718.4,
          3126.6414,
          799.984,
          3347.9814,
          502.1814,
          959.984,
          242.991,
          359.2,
          398.97,
          404.1,
          2113.584,
          879.984,
          502.1814,
          479.984,
          985.7814,
          479.984,
          251.0907,
          1512.891,
          2478.4,
          417.57,
          256.4905,
          1115.9814,
          375.992,
          1115.9814,
          1056.792,
          404.1,
          503.4905,
          557.9814,
          808.2,
          899.982,
          539.991,
          2789.9907,
          375.992,
          1859.9814,
          899.991,
          1115.9814,
          215.992,
          1056.792,
          446.4905,
          522.4905,
          899.982,
          479.984,
          1239.2,
          431.984,
          772.2,
          1344.792,
          949.9905,
          989.982,
          1139.981,
          242.991,
          3347.9814,
          1115.9814,
          522.4905,
          269.991,
          485.982,
          502.1814,
          431.984,
          251.0907,
          686.4,
          959.984,
          3599.991,
          242.991,
          2881.14,
          242.991,
          242.991,
          1044.981,
          359.2,
          512.981,
          439.992,
          772.2,
          485.982,
          835.14,
          2789.9907,
          485.982,
          815.1,
          422.991,
          485.982,
          1512.891,
          494.991,
          476.991,
          512.981,
          874.1814,
          512.981,
          1673.9907,
          1709.9905,
          539.991,
          431.984,
          599.992,
          835.14,
          479.984,
          989.982,
          417.57,
          1424.981,
          404.1,
          2319.992,
          256.4905,
          892.981,
          512.981,
          2609.991,
          1599.984,
          3239.982,
          1440.57,
          1022.9814,
          1512.891,
          2319.992,
          718.4,
          2943.1,
          522.4905,
          215.992,
          423.992,
          479.984,
          522.4905,
          1344.792,
          1596.9405,
          2943.1,
          343.2,
          494.991,
          242.991,
          712.4905,
          386.1,
          569.9905,
          697.4907,
          431.984,
          423.992,
          1512.891,
          215.992,
          215.992,
          959.984,
          989.982,
          1228.5207,
          399.992,
          215.992,
          1139.981,
          1188.891,
          503.4905,
          1079.982,
          1471.55,
          359.2,
          879.984,
          2943.1,
          269.991,
          1056.792,
          2689.584,
          242.991,
          835.14,
          284.9905,
          215.992,
          479.984,
          3025.782,
          1139.981,
          989.982,
          407.55,
          278.9907,
          251.0907,
          422.991,
          242.991,
          512.981,
          407.55,
          485.982
         ],
         "type": "scatter3d"
        },
        {
         "customdata": [
          [
           107
          ],
          [
           131
          ],
          [
           150
          ],
          [
           154
          ],
          [
           156
          ],
          [
           201
          ],
          [
           210
          ],
          [
           218
          ],
          [
           228
          ],
          [
           229
          ],
          [
           250
          ],
          [
           257
          ],
          [
           261
          ],
          [
           295
          ],
          [
           337
          ],
          [
           355
          ],
          [
           382
          ],
          [
           394
          ],
          [
           425
          ],
          [
           437
          ],
          [
           439
          ],
          [
           448
          ],
          [
           460
          ],
          [
           462
          ],
          [
           472
          ],
          [
           477
          ],
          [
           478
          ],
          [
           487
          ],
          [
           496
          ],
          [
           505
          ],
          [
           521
          ],
          [
           522
          ],
          [
           527
          ],
          [
           530
          ],
          [
           535
          ],
          [
           541
          ],
          [
           555
          ],
          [
           556
          ],
          [
           566
          ],
          [
           575
          ],
          [
           592
          ],
          [
           594
          ],
          [
           597
          ],
          [
           620
          ],
          [
           636
          ],
          [
           637
          ],
          [
           644
          ],
          [
           646
          ],
          [
           662
          ],
          [
           684
          ],
          [
           690
          ],
          [
           700
          ],
          [
           702
          ],
          [
           704
          ],
          [
           717
          ],
          [
           720
          ],
          [
           729
          ],
          [
           730
          ],
          [
           732
          ],
          [
           733
          ],
          [
           741
          ],
          [
           757
          ],
          [
           758
          ],
          [
           767
          ],
          [
           771
          ],
          [
           774
          ],
          [
           781
          ],
          [
           793
          ],
          [
           811
          ],
          [
           824
          ],
          [
           828
          ],
          [
           835
          ],
          [
           841
          ],
          [
           863
          ],
          [
           864
          ],
          [
           869
          ],
          [
           874
          ],
          [
           877
          ],
          [
           885
          ],
          [
           894
          ],
          [
           901
          ],
          [
           912
          ],
          [
           937
          ],
          [
           948
          ],
          [
           981
          ],
          [
           984
          ],
          [
           1027
          ],
          [
           1042
          ],
          [
           1051
          ],
          [
           1060
          ],
          [
           1061
          ],
          [
           1064
          ],
          [
           1070
          ],
          [
           1078
          ],
          [
           1081
          ],
          [
           1107
          ],
          [
           1108
          ],
          [
           1117
          ],
          [
           1119
          ],
          [
           1125
          ],
          [
           1131
          ],
          [
           1137
          ],
          [
           1143
          ],
          [
           1152
          ],
          [
           1156
          ],
          [
           1157
          ],
          [
           1161
          ],
          [
           1176
          ],
          [
           1183
          ],
          [
           1209
          ],
          [
           1210
          ],
          [
           1213
          ],
          [
           1215
          ],
          [
           1219
          ],
          [
           1222
          ],
          [
           1229
          ],
          [
           1235
          ],
          [
           1239
          ],
          [
           1282
          ],
          [
           1315
          ],
          [
           1328
          ],
          [
           1332
          ],
          [
           1334
          ],
          [
           1338
          ],
          [
           1360
          ],
          [
           1376
          ],
          [
           1386
          ],
          [
           1396
          ],
          [
           1397
          ]
         ],
         "hovertemplate": "segment_name=Champions (High-Value)<br>recency=%{x}<br>frequency=%{y}<br>monetary=%{z}<br>customer_id=%{customdata[0]}<extra></extra>",
         "legendgroup": "Champions (High-Value)",
         "marker": {
          "color": "#107C10",
          "symbol": "circle"
         },
         "mode": "markers",
         "name": "Champions (High-Value)",
         "scene": "scene",
         "showlegend": true,
         "x": [
          936,
          738,
          941,
          646,
          901,
          432,
          417,
          1036,
          286,
          436,
          700,
          377,
          848,
          684,
          865,
          561,
          681,
          605,
          356,
          1074,
          720,
          658,
          506,
          418,
          572,
          615,
          288,
          753,
          656,
          276,
          1046,
          855,
          867,
          695,
          1059,
          1080,
          822,
          547,
          301,
          829,
          654,
          350,
          620,
          529,
          1076,
          348,
          613,
          663,
          621,
          719,
          657,
          651,
          420,
          832,
          848,
          455,
          717,
          429,
          911,
          701,
          699,
          460,
          866,
          1060,
          443,
          398,
          578,
          497,
          635,
          379,
          491,
          791,
          660,
          646,
          678,
          455,
          825,
          585,
          908,
          768,
          720,
          481,
          334,
          625,
          868,
          817,
          369,
          876,
          711,
          392,
          827,
          531,
          532,
          1026,
          693,
          419,
          781,
          402,
          734,
          709,
          283,
          689,
          663,
          660,
          862,
          736,
          344,
          299,
          457,
          755,
          501,
          471,
          627,
          755,
          638,
          516,
          510,
          294,
          777,
          794,
          1037,
          623,
          791,
          961,
          953,
          943,
          1051,
          595,
          844
         ],
         "y": [
          1,
          1,
          1,
          1,
          1,
          1,
          1,
          1,
          1,
          1,
          1,
          1,
          1,
          1,
          1,
          1,
          1,
          1,
          1,
          1,
          1,
          1,
          1,
          1,
          1,
          1,
          1,
          1,
          1,
          1,
          1,
          1,
          1,
          1,
          1,
          1,
          1,
          1,
          1,
          1,
          1,
          1,
          1,
          1,
          1,
          1,
          1,
          1,
          1,
          1,
          1,
          1,
          1,
          1,
          1,
          1,
          1,
          1,
          1,
          1,
          1,
          1,
          1,
          1,
          1,
          1,
          1,
          1,
          1,
          1,
          1,
          1,
          1,
          1,
          1,
          1,
          1,
          1,
          1,
          1,
          1,
          1,
          1,
          1,
          1,
          1,
          1,
          1,
          1,
          1,
          1,
          1,
          1,
          1,
          1,
          1,
          1,
          1,
          1,
          1,
          1,
          1,
          1,
          1,
          1,
          1,
          1,
          1,
          1,
          1,
          1,
          1,
          1,
          1,
          1,
          1,
          1,
          1,
          1,
          1,
          1,
          1,
          1,
          1,
          1,
          1,
          1,
          1,
          1
         ],
         "z": [
          3599.991,
          3126.6414,
          5399.982,
          7439.9814,
          5399.982,
          4639.984,
          5393.9814,
          4799.984,
          5393.9814,
          5219.982,
          5393.9814,
          7599.981,
          3419.981,
          3126.6414,
          4639.984,
          3126.6414,
          3347.9814,
          7439.9814,
          4639.984,
          5219.982,
          3347.9814,
          3193.881,
          5393.9814,
          7599.981,
          3419.981,
          3419.981,
          3799.9905,
          5393.9814,
          7599.981,
          4799.984,
          6399.984,
          6399.984,
          5699.981,
          7599.981,
          4799.984,
          5579.9814,
          7599.981,
          5509.981,
          5509.981,
          7599.981,
          5579.9814,
          3799.9905,
          5399.982,
          6399.984,
          7199.982,
          5399.982,
          7199.982,
          7439.9814,
          3193.881,
          3193.881,
          5579.9814,
          3126.6414,
          3419.981,
          7439.9814,
          5399.982,
          3419.981,
          3239.982,
          7599.981,
          7439.9814,
          3719.9907,
          3199.992,
          5699.981,
          5393.9814,
          5399.982,
          3419.981,
          7199.982,
          3799.9905,
          6399.984,
          7599.981,
          3599.991,
          7439.9814,
          3239.982,
          7199.982,
          7439.9814,
          3419.981,
          5219.982,
          5509.981,
          4639.984,
          6399.984,
          3199.992,
          3126.6414,
          3419.981,
          4799.984,
          3025.782,
          7599.981,
          3199.992,
          5699.981,
          5219.982,
          3799.9905,
          7199.982,
          5509.981,
          5579.9814,
          3419.981,
          7599.981,
          2943.1,
          3419.981,
          4639.984,
          7439.9814,
          3025.782,
          7599.981,
          5579.9814,
          3025.782,
          3799.9905,
          3126.6414,
          5393.9814,
          7599.981,
          5699.981,
          3719.9907,
          3599.991,
          3126.6414,
          3193.881,
          6399.984,
          7599.981,
          7199.982,
          3599.991,
          5219.982,
          3419.981,
          3799.9905,
          4639.984,
          7439.9814,
          7199.982,
          4639.984,
          3419.981,
          7439.9814,
          5399.982,
          5509.981,
          3799.9905,
          7439.9814,
          3599.991
         ],
         "type": "scatter3d"
        }
       ],
       "layout": {
        "template": {
         "data": {
          "histogram2dcontour": [
           {
            "type": "histogram2dcontour",
            "colorbar": {
             "outlinewidth": 0,
             "ticks": ""
            },
            "colorscale": [
             [
              0.0,
              "#0d0887"
             ],
             [
              0.1111111111111111,
              "#46039f"
             ],
             [
              0.2222222222222222,
              "#7201a8"
             ],
             [
              0.3333333333333333,
              "#9c179e"
             ],
             [
              0.4444444444444444,
              "#bd3786"
             ],
             [
              0.5555555555555556,
              "#d8576b"
             ],
             [
              0.6666666666666666,
              "#ed7953"
             ],
             [
              0.7777777777777778,
              "#fb9f3a"
             ],
             [
              0.8888888888888888,
              "#fdca26"
             ],
             [
              1.0,
              "#f0f921"
             ]
            ]
           }
          ],
          "choropleth": [
           {
            "type": "choropleth",
            "colorbar": {
             "outlinewidth": 0,
             "ticks": ""
            }
           }
          ],
          "histogram2d": [
           {
            "type": "histogram2d",
            "colorbar": {
             "outlinewidth": 0,
             "ticks": ""
            },
            "colorscale": [
             [
              0.0,
              "#0d0887"
             ],
             [
              0.1111111111111111,
              "#46039f"
             ],
             [
              0.2222222222222222,
              "#7201a8"
             ],
             [
              0.3333333333333333,
              "#9c179e"
             ],
             [
              0.4444444444444444,
              "#bd3786"
             ],
             [
              0.5555555555555556,
              "#d8576b"
             ],
             [
              0.6666666666666666,
              "#ed7953"
             ],
             [
              0.7777777777777778,
              "#fb9f3a"
             ],
             [
              0.8888888888888888,
              "#fdca26"
             ],
             [
              1.0,
              "#f0f921"
             ]
            ]
           }
          ],
          "heatmap": [
           {
            "type": "heatmap",
            "colorbar": {
             "outlinewidth": 0,
             "ticks": ""
            },
            "colorscale": [
             [
              0.0,
              "#0d0887"
             ],
             [
              0.1111111111111111,
              "#46039f"
             ],
             [
              0.2222222222222222,
              "#7201a8"
             ],
             [
              0.3333333333333333,
              "#9c179e"
             ],
             [
              0.4444444444444444,
              "#bd3786"
             ],
             [
              0.5555555555555556,
              "#d8576b"
             ],
             [
              0.6666666666666666,
              "#ed7953"
             ],
             [
              0.7777777777777778,
              "#fb9f3a"
             ],
             [
              0.8888888888888888,
              "#fdca26"
             ],
             [
              1.0,
              "#f0f921"
             ]
            ]
           }
          ],
          "heatmapgl": [
           {
            "type": "heatmapgl",
            "colorbar": {
             "outlinewidth": 0,
             "ticks": ""
            },
            "colorscale": [
             [
              0.0,
              "#0d0887"
             ],
             [
              0.1111111111111111,
              "#46039f"
             ],
             [
              0.2222222222222222,
              "#7201a8"
             ],
             [
              0.3333333333333333,
              "#9c179e"
             ],
             [
              0.4444444444444444,
              "#bd3786"
             ],
             [
              0.5555555555555556,
              "#d8576b"
             ],
             [
              0.6666666666666666,
              "#ed7953"
             ],
             [
              0.7777777777777778,
              "#fb9f3a"
             ],
             [
              0.8888888888888888,
              "#fdca26"
             ],
             [
              1.0,
              "#f0f921"
             ]
            ]
           }
          ],
          "contourcarpet": [
           {
            "type": "contourcarpet",
            "colorbar": {
             "outlinewidth": 0,
             "ticks": ""
            }
           }
          ],
          "contour": [
           {
            "type": "contour",
            "colorbar": {
             "outlinewidth": 0,
             "ticks": ""
            },
            "colorscale": [
             [
              0.0,
              "#0d0887"
             ],
             [
              0.1111111111111111,
              "#46039f"
             ],
             [
              0.2222222222222222,
              "#7201a8"
             ],
             [
              0.3333333333333333,
              "#9c179e"
             ],
             [
              0.4444444444444444,
              "#bd3786"
             ],
             [
              0.5555555555555556,
              "#d8576b"
             ],
             [
              0.6666666666666666,
              "#ed7953"
             ],
             [
              0.7777777777777778,
              "#fb9f3a"
             ],
             [
              0.8888888888888888,
              "#fdca26"
             ],
             [
              1.0,
              "#f0f921"
             ]
            ]
           }
          ],
          "surface": [
           {
            "type": "surface",
            "colorbar": {
             "outlinewidth": 0,
             "ticks": ""
            },
            "colorscale": [
             [
              0.0,
              "#0d0887"
             ],
             [
              0.1111111111111111,
              "#46039f"
             ],
             [
              0.2222222222222222,
              "#7201a8"
             ],
             [
              0.3333333333333333,
              "#9c179e"
             ],
             [
              0.4444444444444444,
              "#bd3786"
             ],
             [
              0.5555555555555556,
              "#d8576b"
             ],
             [
              0.6666666666666666,
              "#ed7953"
             ],
             [
              0.7777777777777778,
              "#fb9f3a"
             ],
             [
              0.8888888888888888,
              "#fdca26"
             ],
             [
              1.0,
              "#f0f921"
             ]
            ]
           }
          ],
          "mesh3d": [
           {
            "type": "mesh3d",
            "colorbar": {
             "outlinewidth": 0,
             "ticks": ""
            }
           }
          ],
          "scatter": [
           {
            "fillpattern": {
             "fillmode": "overlay",
             "size": 10,
             "solidity": 0.2
            },
            "type": "scatter"
           }
          ],
          "parcoords": [
           {
            "type": "parcoords",
            "line": {
             "colorbar": {
              "outlinewidth": 0,
              "ticks": ""
             }
            }
           }
          ],
          "scatterpolargl": [
           {
            "type": "scatterpolargl",
            "marker": {
             "colorbar": {
              "outlinewidth": 0,
              "ticks": ""
             }
            }
           }
          ],
          "bar": [
           {
            "error_x": {
             "color": "#2a3f5f"
            },
            "error_y": {
             "color": "#2a3f5f"
            },
            "marker": {
             "line": {
              "color": "#E5ECF6",
              "width": 0.5
             },
             "pattern": {
              "fillmode": "overlay",
              "size": 10,
              "solidity": 0.2
             }
            },
            "type": "bar"
           }
          ],
          "scattergeo": [
           {
            "type": "scattergeo",
            "marker": {
             "colorbar": {
              "outlinewidth": 0,
              "ticks": ""
             }
            }
           }
          ],
          "scatterpolar": [
           {
            "type": "scatterpolar",
            "marker": {
             "colorbar": {
              "outlinewidth": 0,
              "ticks": ""
             }
            }
           }
          ],
          "histogram": [
           {
            "marker": {
             "pattern": {
              "fillmode": "overlay",
              "size": 10,
              "solidity": 0.2
             }
            },
            "type": "histogram"
           }
          ],
          "scattergl": [
           {
            "type": "scattergl",
            "marker": {
             "colorbar": {
              "outlinewidth": 0,
              "ticks": ""
             }
            }
           }
          ],
          "scatter3d": [
           {
            "type": "scatter3d",
            "line": {
             "colorbar": {
              "outlinewidth": 0,
              "ticks": ""
             }
            },
            "marker": {
             "colorbar": {
              "outlinewidth": 0,
              "ticks": ""
             }
            }
           }
          ],
          "scattermapbox": [
           {
            "type": "scattermapbox",
            "marker": {
             "colorbar": {
              "outlinewidth": 0,
              "ticks": ""
             }
            }
           }
          ],
          "scatterternary": [
           {
            "type": "scatterternary",
            "marker": {
             "colorbar": {
              "outlinewidth": 0,
              "ticks": ""
             }
            }
           }
          ],
          "scattercarpet": [
           {
            "type": "scattercarpet",
            "marker": {
             "colorbar": {
              "outlinewidth": 0,
              "ticks": ""
             }
            }
           }
          ],
          "carpet": [
           {
            "aaxis": {
             "endlinecolor": "#2a3f5f",
             "gridcolor": "white",
             "linecolor": "white",
             "minorgridcolor": "white",
             "startlinecolor": "#2a3f5f"
            },
            "baxis": {
             "endlinecolor": "#2a3f5f",
             "gridcolor": "white",
             "linecolor": "white",
             "minorgridcolor": "white",
             "startlinecolor": "#2a3f5f"
            },
            "type": "carpet"
           }
          ],
          "table": [
           {
            "cells": {
             "fill": {
              "color": "#EBF0F8"
             },
             "line": {
              "color": "white"
             }
            },
            "header": {
             "fill": {
              "color": "#C8D4E3"
             },
             "line": {
              "color": "white"
             }
            },
            "type": "table"
           }
          ],
          "barpolar": [
           {
            "marker": {
             "line": {
              "color": "#E5ECF6",
              "width": 0.5
             },
             "pattern": {
              "fillmode": "overlay",
              "size": 10,
              "solidity": 0.2
             }
            },
            "type": "barpolar"
           }
          ],
          "pie": [
           {
            "automargin": true,
            "type": "pie"
           }
          ]
         },
         "layout": {
          "autotypenumbers": "strict",
          "colorway": [
           "#636efa",
           "#EF553B",
           "#00cc96",
           "#ab63fa",
           "#FFA15A",
           "#19d3f3",
           "#FF6692",
           "#B6E880",
           "#FF97FF",
           "#FECB52"
          ],
          "font": {
           "color": "#2a3f5f"
          },
          "hovermode": "closest",
          "hoverlabel": {
           "align": "left"
          },
          "paper_bgcolor": "white",
          "plot_bgcolor": "#E5ECF6",
          "polar": {
           "bgcolor": "#E5ECF6",
           "angularaxis": {
            "gridcolor": "white",
            "linecolor": "white",
            "ticks": ""
           },
           "radialaxis": {
            "gridcolor": "white",
            "linecolor": "white",
            "ticks": ""
           }
          },
          "ternary": {
           "bgcolor": "#E5ECF6",
           "aaxis": {
            "gridcolor": "white",
            "linecolor": "white",
            "ticks": ""
           },
           "baxis": {
            "gridcolor": "white",
            "linecolor": "white",
            "ticks": ""
           },
           "caxis": {
            "gridcolor": "white",
            "linecolor": "white",
            "ticks": ""
           }
          },
          "coloraxis": {
           "colorbar": {
            "outlinewidth": 0,
            "ticks": ""
           }
          },
          "colorscale": {
           "sequential": [
            [
             0.0,
             "#0d0887"
            ],
            [
             0.1111111111111111,
             "#46039f"
            ],
            [
             0.2222222222222222,
             "#7201a8"
            ],
            [
             0.3333333333333333,
             "#9c179e"
            ],
            [
             0.4444444444444444,
             "#bd3786"
            ],
            [
             0.5555555555555556,
             "#d8576b"
            ],
            [
             0.6666666666666666,
             "#ed7953"
            ],
            [
             0.7777777777777778,
             "#fb9f3a"
            ],
            [
             0.8888888888888888,
             "#fdca26"
            ],
            [
             1.0,
             "#f0f921"
            ]
           ],
           "sequentialminus": [
            [
             0.0,
             "#0d0887"
            ],
            [
             0.1111111111111111,
             "#46039f"
            ],
            [
             0.2222222222222222,
             "#7201a8"
            ],
            [
             0.3333333333333333,
             "#9c179e"
            ],
            [
             0.4444444444444444,
             "#bd3786"
            ],
            [
             0.5555555555555556,
             "#d8576b"
            ],
            [
             0.6666666666666666,
             "#ed7953"
            ],
            [
             0.7777777777777778,
             "#fb9f3a"
            ],
            [
             0.8888888888888888,
             "#fdca26"
            ],
            [
             1.0,
             "#f0f921"
            ]
           ],
           "diverging": [
            [
             0,
             "#8e0152"
            ],
            [
             0.1,
             "#c51b7d"
            ],
            [
             0.2,
             "#de77ae"
            ],
            [
             0.3,
             "#f1b6da"
            ],
            [
             0.4,
             "#fde0ef"
            ],
            [
             0.5,
             "#f7f7f7"
            ],
            [
             0.6,
             "#e6f5d0"
            ],
            [
             0.7,
             "#b8e186"
            ],
            [
             0.8,
             "#7fbc41"
            ],
            [
             0.9,
             "#4d9221"
            ],
            [
             1,
             "#276419"
            ]
           ]
          },
          "xaxis": {
           "gridcolor": "white",
           "linecolor": "white",
           "ticks": "",
           "title": {
            "standoff": 15
           },
           "zerolinecolor": "white",
           "automargin": true,
           "zerolinewidth": 2
          },
          "yaxis": {
           "gridcolor": "white",
           "linecolor": "white",
           "ticks": "",
           "title": {
            "standoff": 15
           },
           "zerolinecolor": "white",
           "automargin": true,
           "zerolinewidth": 2
          },
          "scene": {
           "xaxis": {
            "backgroundcolor": "#E5ECF6",
            "gridcolor": "white",
            "linecolor": "white",
            "showbackground": true,
            "ticks": "",
            "zerolinecolor": "white",
            "gridwidth": 2
           },
           "yaxis": {
            "backgroundcolor": "#E5ECF6",
            "gridcolor": "white",
            "linecolor": "white",
            "showbackground": true,
            "ticks": "",
            "zerolinecolor": "white",
            "gridwidth": 2
           },
           "zaxis": {
            "backgroundcolor": "#E5ECF6",
            "gridcolor": "white",
            "linecolor": "white",
            "showbackground": true,
            "ticks": "",
            "zerolinecolor": "white",
            "gridwidth": 2
           }
          },
          "shapedefaults": {
           "line": {
            "color": "#2a3f5f"
           }
          },
          "annotationdefaults": {
           "arrowcolor": "#2a3f5f",
           "arrowhead": 0,
           "arrowwidth": 1
          },
          "geo": {
           "bgcolor": "white",
           "landcolor": "#E5ECF6",
           "subunitcolor": "white",
           "showland": true,
           "showlakes": true,
           "lakecolor": "white"
          },
          "title": {
           "x": 0.05
          },
          "mapbox": {
           "style": "light"
          }
         }
        },
        "scene": {
         "domain": {
          "x": [
           0.0,
           1.0
          ],
          "y": [
           0.0,
           1.0
          ]
         },
         "xaxis": {
          "title": {
           "text": "recency"
          }
         },
         "yaxis": {
          "title": {
           "text": "frequency"
          }
         },
         "zaxis": {
          "title": {
           "text": "monetary"
          }
         }
        },
        "legend": {
         "title": {
          "text": "Customer Segment"
         },
         "tracegroupgap": 0
        },
        "title": {
         "text": "3D Interactive RFM Customer Segments"
        },
        "margin": {
         "l": 0,
         "r": 0,
         "b": 0,
         "t": 40
        }
       },
       "config": {
        "plotlyServerURL": "https://plot.ly"
       }
      },
      "text/html": [
       "<div>                            <div id=\"a3c6f29e-b979-4f81-89ba-76a6fdd61df8\" class=\"plotly-graph-div\" style=\"height:525px; width:100%;\"></div>            <script type=\"text/javascript\">                require([\"plotly\"], function(Plotly) {                    window.PLOTLYENV=window.PLOTLYENV || {};                                    if (document.getElementById(\"a3c6f29e-b979-4f81-89ba-76a6fdd61df8\")) {                    Plotly.newPlot(                        \"a3c6f29e-b979-4f81-89ba-76a6fdd61df8\",                        [{\"customdata\":[[1],[2],[3],[4],[5],[6],[7],[8],[9],[10],[11],[12],[13],[14],[15],[16],[17],[18],[19],[20],[21],[22],[23],[24],[25],[26],[27],[28],[29],[30],[31],[32],[33],[34],[35],[36],[37],[38],[39],[40],[41],[42],[43],[44],[45],[46],[47],[48],[49],[50],[51],[52],[53],[54],[55],[56],[57],[58],[59],[60],[61],[62],[63],[64],[65],[66],[67],[68],[69],[70],[71],[72],[73],[74],[75],[76],[77],[78],[79],[80],[81],[82],[83],[84],[85],[86],[87],[88],[89],[90],[91],[92],[93],[94],[97],[104],[109],[110],[116],[119],[120],[121],[123],[124],[135],[136],[138],[151],[153],[157],[165],[169],[170],[172],[175],[176],[181],[187],[188],[191],[192],[194],[208],[217],[224],[231],[233],[237],[239],[240]],\"hovertemplate\":\"segment_name=Loyal Customers (Mid-Value)\\u003cbr\\u003erecency=%{x}\\u003cbr\\u003efrequency=%{y}\\u003cbr\\u003emonetary=%{z}\\u003cbr\\u003ecustomer_id=%{customdata[0]}\\u003cextra\\u003e\\u003c\\u002fextra\\u003e\",\"legendgroup\":\"Loyal Customers (Mid-Value)\",\"marker\":{\"color\":\"#0078D4\",\"symbol\":\"circle\"},\"mode\":\"markers\",\"name\":\"Loyal Customers (Mid-Value)\",\"scene\":\"scene\",\"showlegend\":true,\"x\":[41,264,69,255,256,114,195,261,246,128,247,250,261,251,126,264,256,259,259,261,245,265,272,250,264,262,272,260,251,255,267,263,171,259,271,258,261,261,256,246,269,253,244,248,245,252,262,250,244,261,271,267,170,251,243,245,253,257,261,252,263,272,254,269,253,262,256,264,268,256,245,252,256,243,265,257,253,261,258,251,267,269,267,271,265,268,263,253,252,244,256,265,250,272,262,249,247,260,258,172,267,254,181,250,31,1,246,267,637,247,246,256,256,255,262,247,270,257,248,249,252,270,266,270,250,247,260,265,244,248],\"y\":[3,3,3,3,3,3,3,3,3,3,3,3,3,3,3,3,3,3,3,3,3,2,2,3,2,2,2,2,2,3,3,3,3,2,2,2,2,2,2,3,2,2,3,2,2,3,3,2,2,3,2,2,3,2,2,3,2,2,2,2,3,2,2,3,2,3,2,3,2,2,2,2,2,2,2,2,3,2,2,2,2,2,2,2,2,2,2,2,2,2,2,2,2,2,2,2,2,2,3,2,2,2,2,2,2,2,2,2,2,2,2,2,2,2,2,2,2,2,2,2,2,2,2,2,2,2,2,2,2,2],\"z\":[5339.967000000001,3298.375,5271.073700000001,12952.4555,1829.0715,3799.9732,1596.5324999999998,8238.0654,2616.7645,4242.073,4621.4732,893.6327,5121.383,2243.906,6886.1448,3844.0627,3297.9468,7924.0812,1744.113,2775.3625,3242.1464,1304.091,4597.9305,2291.9561,3239.982,2240.554,1913.966,1406.9816999999998,6226.963,4409.0631,2486.5225,2079.96,7525.103,3708.9725,1615.192,821.0812,5039.972,2348.031,3136.4745,4032.6127,737.0727,6039.9827000000005,2603.0825,5896.081,3114.5607,6579.7474,1494.4654999999998,2049.3027,8454.9715,2267.967,3500.7725,1442.975,1815.114,669.541,917.966,6055.975,1043.9727,1064.9827,3597.981,992.9815,4873.065,751.4815,2738.892,3637.112,3269.972,1301.0587,1518.3919999999998,2218.3724,1624.972,5125.966,3779.9727,7696.4719,4859.973,3212.0745,3776.9727,3319.976,4456.112999999999,1995.9654,3583.7727,2394.9215,3359.9812,1046.972,6329.9634,1557.962,1157.9734,1530.963,5159.184,1210.4717,812.9815,5019.983,893.961,755.972,3092.192,2877.9827,3986.091,1316.973,2732.9719,4242.6228,3812.559,1285.974,1652.1840000000002,7513.566,1282.481,1267.4812,1814.4114,1303.4745,1506.0312,1647.968,1808.776,6957.974700000001,2461.532,1393.1307,2889.2727,2105.9634,1396.4715,2019.983,1657.4747,1837.966,1379.966,776.77,2424.774,4709.9727,5794.9715,778.981,1890.963,926.975,3247.8812,1015.1624,1082.9715,3872.9719],\"type\":\"scatter3d\"},{\"customdata\":[[95],[100],[106],[108],[112],[113],[114],[115],[122],[125],[126],[128],[129],[137],[139],[140],[141],[142],[143],[146],[147],[152],[161],[162],[166],[167],[168],[171],[173],[174],[177],[179],[180],[182],[184],[185],[186],[189],[195],[196],[198],[200],[203],[207],[209],[213],[214],[215],[216],[219],[220],[221],[222],[225],[226],[227],[232],[234],[238],[242],[243],[244],[246],[247],[248],[249],[253],[254],[255],[256],[262],[263],[265],[266],[268],[269],[270],[273],[275],[278],[279],[284],[285],[286],[287],[289],[290],[292],[293],[294],[296],[300],[301],[302],[303],[305],[308],[310],[311],[312],[315],[318],[320],[322],[323],[325],[326],[328],[329],[330],[333],[334],[335],[339],[340],[342],[345],[346],[351],[352],[353],[354],[356],[358],[364],[367],[369],[372],[374],[375],[376],[379],[384],[386],[387],[388],[389],[391],[392],[395],[400],[402],[404],[405],[406],[407],[408],[412],[415],[418],[419],[420],[426],[427],[428],[429],[430],[431],[432],[433],[435],[436],[440],[443],[444],[446],[452],[453],[455],[456],[457],[458],[461],[463],[464],[467],[473],[474],[476],[479],[482],[483],[485],[486],[488],[490],[491],[493],[494],[495],[500],[502],[503],[507],[508],[509],[511],[515],[517],[518],[519],[524],[525],[531],[533],[534],[537],[539],[544],[545],[547],[548],[554],[564],[567],[570],[571],[572],[580],[582],[585],[588],[589],[590],[593],[595],[596],[598],[599],[601],[602],[604],[605],[607],[609],[611],[617],[618],[619],[621],[623],[625],[628],[629],[631],[645],[647],[650],[651],[652],[653],[655],[656],[658],[661],[663],[665],[666],[669],[671],[672],[674],[675],[680],[687],[689],[692],[694],[698],[699],[701],[706],[708],[713],[715],[718],[722],[723],[725],[731],[734],[735],[736],[738],[744],[747],[748],[749],[751],[752],[754],[761],[765],[768],[769],[772],[775],[776],[777],[778],[782],[783],[784],[787],[789],[794],[798],[799],[803],[804],[805],[807],[810],[812],[816],[818],[820],[821],[822],[826],[829],[830],[832],[836],[837],[838],[839],[840],[842],[844],[845],[846],[856],[857],[859],[860],[862],[865],[866],[867],[868],[870],[871],[878],[880],[881],[883],[886],[887],[888],[889],[890],[893],[895],[897],[898],[900],[902],[903],[904],[905],[906],[909],[910],[911],[914],[915],[916],[920],[930],[931],[934],[935],[936],[938],[939],[940],[945],[946],[947],[950],[953],[955],[957],[960],[962],[966],[967],[968],[969],[970],[971],[972],[974],[978],[980],[982],[983],[987],[992],[993],[998],[999],[1000],[1002],[1003],[1005],[1006],[1007],[1008],[1009],[1010],[1013],[1014],[1015],[1016],[1017],[1018],[1020],[1021],[1022],[1023],[1024],[1025],[1026],[1029],[1031],[1033],[1036],[1037],[1038],[1041],[1043],[1044],[1046],[1050],[1052],[1053],[1057],[1059],[1063],[1065],[1066],[1067],[1068],[1072],[1076],[1077],[1083],[1084],[1086],[1087],[1088],[1090],[1091],[1092],[1098],[1099],[1100],[1101],[1104],[1105],[1106],[1109],[1111],[1113],[1114],[1115],[1116],[1118],[1120],[1122],[1123],[1126],[1128],[1132],[1133],[1134],[1135],[1136],[1138],[1139],[1142],[1145],[1148],[1150],[1154],[1155],[1158],[1160],[1164],[1166],[1170],[1171],[1172],[1177],[1178],[1180],[1181],[1184],[1186],[1187],[1188],[1190],[1191],[1195],[1197],[1201],[1203],[1206],[1207],[1214],[1216],[1221],[1224],[1225],[1226],[1230],[1231],[1236],[1240],[1244],[1246],[1251],[1254],[1256],[1258],[1260],[1262],[1266],[1268],[1269],[1270],[1273],[1276],[1277],[1278],[1279],[1281],[1283],[1284],[1287],[1289],[1290],[1291],[1292],[1293],[1294],[1298],[1303],[1304],[1308],[1310],[1311],[1312],[1316],[1317],[1319],[1320],[1323],[1327],[1329],[1330],[1336],[1339],[1342],[1343],[1344],[1345],[1346],[1347],[1363],[1364],[1367],[1370],[1372],[1379],[1382],[1383],[1384],[1385],[1388],[1389],[1390],[1392],[1393],[1394],[1395],[1399],[1401],[1402],[1403],[1407],[1408],[1409],[1410],[1411],[1412],[1414],[1415],[1416],[1417],[1418],[1419],[1421],[1422],[1423],[1424],[1426],[1427],[1432],[1433],[1436],[1438],[1439],[1441],[1442],[1445]],\"hovertemplate\":\"segment_name=New \\u002f Potential Customers\\u003cbr\\u003erecency=%{x}\\u003cbr\\u003efrequency=%{y}\\u003cbr\\u003emonetary=%{z}\\u003cbr\\u003ecustomer_id=%{customdata[0]}\\u003cextra\\u003e\\u003c\\u002fextra\\u003e\",\"legendgroup\":\"New \\u002f Potential Customers\",\"marker\":{\"color\":\"#FFB900\",\"symbol\":\"circle\"},\"mode\":\"markers\",\"name\":\"New \\u002f Potential Customers\",\"scene\":\"scene\",\"showlegend\":true,\"x\":[640,307,499,380,274,400,275,335,338,524,297,390,566,668,282,504,660,561,474,316,671,278,518,613,668,563,527,593,684,528,616,586,273,501,670,509,438,505,296,599,500,681,357,684,506,428,600,580,441,535,495,634,429,499,420,393,665,639,553,578,416,366,629,348,556,651,342,464,665,357,390,289,567,532,484,434,554,363,472,562,387,662,384,452,284,407,525,446,301,632,285,300,634,274,413,495,293,340,369,333,638,432,391,378,323,504,491,551,620,286,412,477,664,561,641,582,587,413,466,588,524,534,524,606,300,654,441,623,645,405,589,487,593,603,399,479,557,667,273,284,551,583,557,284,626,518,525,497,632,367,538,640,408,334,623,517,653,627,649,669,401,545,343,359,370,610,311,499,625,504,557,405,547,289,348,399,611,300,344,647,423,293,536,440,325,656,321,499,470,529,676,346,533,597,436,401,553,287,466,289,581,637,563,663,380,450,564,510,421,407,318,447,462,660,362,558,415,661,352,517,565,521,489,535,431,290,499,472,299,284,499,367,588,642,585,560,460,562,643,536,279,681,577,636,570,535,440,559,593,453,646,501,577,561,604,468,418,631,428,658,682,629,494,327,551,338,281,670,668,581,660,543,456,372,621,580,560,540,633,664,397,482,565,278,290,484,528,475,541,488,284,359,336,420,577,650,616,619,508,387,503,427,602,458,455,651,480,528,424,570,683,427,465,497,274,327,287,372,285,450,605,594,671,555,524,300,301,425,661,607,678,368,317,590,289,339,362,455,324,561,607,678,597,378,560,579,617,427,582,454,454,626,394,517,677,500,451,610,414,354,353,318,570,672,498,319,536,350,317,481,369,454,397,470,297,671,625,471,660,383,400,663,356,572,441,678,578,386,657,678,354,588,288,609,466,393,289,330,315,646,631,415,297,627,429,497,305,464,331,342,483,344,334,393,650,347,425,654,585,370,442,477,600,564,361,284,451,390,479,349,594,420,303,290,603,465,317,307,642,622,464,442,351,454,580,666,463,514,361,341,497,461,378,440,429,552,406,404,478,282,662,641,497,447,445,669,438,531,296,336,441,358,551,324,488,473,623,509,277,405,677,618,293,545,639,443,288,427,550,494,637,411,414,313,306,611,467,419,633,560,331,319,407,551,430,595,415,664,637,600,422,348,379,454,572,512,429,611,298,398,309,456,684,635,323,330,351,492,454,552,397,475,509,520,559,430,587,280,516,517,385,550,433,424,662,386,592,369,654,326,524,517,276,489,682,575,487,634,592,556,496,411,333,663,448,429,653,460,531,619,466,651,396,408,521,496,460,490,316,372,658,398,533,559,488,351,485,624,679,384,614,556,566,401,378,609,284,438,461,538,607,528,533,286,451,442,551,483,555,492,558,347,622,574,506,337,517,297],\"y\":[1,1,1,1,1,1,1,1,1,1,1,1,1,1,1,1,1,1,1,1,1,1,1,1,1,1,1,1,1,1,1,1,1,1,1,1,1,1,1,1,1,1,1,1,1,1,1,1,1,1,1,1,1,1,1,1,1,1,1,1,1,1,1,1,1,1,1,1,1,1,1,1,1,1,1,1,1,1,1,1,1,1,1,1,1,1,1,1,1,1,1,1,1,1,1,1,1,1,1,1,1,1,1,1,1,1,1,1,1,1,1,1,1,1,1,1,1,1,1,1,1,1,1,1,1,1,1,1,1,1,1,1,1,1,1,1,1,1,1,1,1,1,1,1,1,1,1,1,1,1,1,1,1,1,1,1,1,1,1,1,1,1,1,1,1,1,1,1,1,1,1,1,1,1,1,1,1,1,1,1,1,1,1,1,1,1,1,1,1,1,1,1,1,1,1,1,1,1,1,1,1,1,1,1,1,1,1,1,1,1,1,1,1,1,1,1,1,1,1,1,1,1,1,1,1,1,1,1,1,1,1,1,1,1,1,1,1,1,1,1,1,1,1,1,1,1,1,1,1,1,1,1,1,1,1,1,1,1,1,1,1,1,1,1,1,1,1,1,1,1,1,1,1,1,1,1,1,1,1,1,1,1,1,1,1,1,1,1,1,1,1,1,1,1,1,1,1,1,1,1,1,1,1,1,1,1,1,1,1,1,1,1,1,1,1,1,1,1,1,1,1,1,1,1,1,1,1,1,1,1,1,1,1,1,1,1,1,1,1,1,1,1,1,1,1,1,1,1,1,1,1,1,1,1,1,1,1,1,1,1,1,1,1,1,1,1,1,1,1,1,1,1,1,1,1,1,1,1,1,1,1,1,1,1,1,1,1,1,1,1,1,1,1,1,1,1,1,1,1,1,1,1,1,1,1,1,1,1,1,1,1,1,1,1,1,1,1,1,1,1,1,1,1,1,1,1,1,1,1,1,1,1,1,1,1,1,1,1,1,1,1,1,1,1,1,1,1,1,1,1,1,1,1,1,1,1,1,1,1,1,1,1,1,1,1,1,1,1,1,1,1,1,1,1,1,1,1,1,1,1,1,1,1,1,1,1,1,1,1,1,1,1,1,1,1,1,1,1,1,1,1,1,1,1,1,1,1,1,1,1,1,1,1,1,1,1,1,1,1,1,1,1,1,1,1,1,1,1,1,1,1,1,1,1,1,1,1,1,1,1,1,1,1,1,1,1,1,1,1,1,1,1,1,1,1,1,1,1,1,1,1,1,1,1,1,1,1,1,1,1,1,1,1,1,1,1,1,1,1,1,1,1,1,1,1,1,1,1,1,1,1,1,1,1,1,1,1,1,1,1,1,1,1,1,1,1,1,1,1,1,1,1,1,1,1,1,1,1],\"z\":[522.4905,479.992,251.0907,808.2,751.984,1188.891,1022.9814,502.1814,569.981,476.991,797.94,502.1814,799.992,1239.2,874.1814,539.982,892.981,1440.57,2478.4,557.9814,479.984,835.14,2943.1,1471.55,1044.981,2609.991,1512.891,1079.982,949.9905,512.981,835.14,953.982,879.984,479.992,242.991,718.4,1115.9814,1394.9814,929.9814,2881.14,502.1814,256.4905,502.1814,522.4905,1424.981,1239.2,502.1814,343.2,446.4905,2754.9905,697.4907,343.2,359.2,417.57,1471.55,797.94,474.9905,959.984,1022.9814,522.4905,511.4907,426.55,853.1,557.9814,256.4905,251.0907,242.991,359.2,359.2,399.992,1512.891,437.0907,835.14,874.1814,431.984,437.0907,808.2,215.992,569.9905,426.55,1599.984,1228.5207,485.982,522.4905,569.9905,215.992,697.4907,2696.9907,464.9907,242.991,256.4905,386.1,251.0907,1424.981,479.992,502.1814,2377.782,375.992,1512.891,485.982,1079.982,485.982,343.2,899.982,242.991,1709.9905,284.9905,2509.881,1079.982,502.1814,985.7814,1022.9814,539.982,242.991,479.992,431.984,1563.3207,251.0907,1599.984,485.982,479.992,502.1814,949.981,522.4905,512.981,407.55,422.991,239.992,1899.981,1673.9907,503.4905,751.984,539.991,1439.992,1596.9405,407.55,474.9905,1859.9814,464.9907,1115.9814,503.4905,479.992,1079.982,1563.3207,799.984,256.4905,485.982,251.0907,892.981,3239.982,426.55,674.991,2478.4,1006.981,892.981,2478.4,479.992,359.2,251.0907,1424.981,959.984,479.992,375.992,1344.792,485.982,1599.984,989.982,512.981,989.982,251.0907,959.984,512.981,929.9907,539.991,1115.9814,569.9905,539.991,242.991,3239.982,251.0907,426.55,502.1814,569.981,1394.1,239.992,449.991,1440.57,242.991,512.981,569.9905,1199.984,398.97,2849.9905,1228.5207,2509.881,522.4905,251.0907,1440.57,2788.2,3126.6414,502.1814,1471.55,439.992,256.4905,989.982,953.982,422.991,1188.891,239.992,557.9907,1079.982,1599.984,492.8907,242.991,485.982,557.9907,476.991,949.9905,502.1814,485.982,2849.9905,959.984,1673.9907,256.4905,431.984,2509.881,512.981,1228.5207,215.992,2377.782,242.991,847.984,799.984,2849.9905,674.991,242.991,449.991,2754.9905,1115.9814,539.991,256.4905,431.984,751.984,2319.992,398.97,815.1,569.981,1022.9814,359.2,874.1814,485.982,569.9905,494.991,2849.9905,2113.584,2789.9907,874.1814,2943.1,494.991,242.991,1199.984,375.992,1512.891,215.992,985.7814,256.4905,1799.982,772.2,953.982,1079.982,476.991,1344.792,511.4907,417.57,2478.4,431.984,522.4905,1199.984,1394.9814,431.984,959.984,1056.792,1899.981,492.8907,949.981,256.4905,449.991,1599.984,215.992,1022.9814,712.4905,797.94,284.9905,949.9905,278.9907,464.9907,1199.984,1394.1,1394.1,1344.792,1139.981,2319.992,2113.584,1139.981,449.991,835.14,399.992,1044.981,256.4905,1139.981,2377.782,256.4905,1254.9405,1139.981,2696.9907,269.991,1056.792,1440.57,439.992,1899.981,485.982,1199.984,1239.2,835.14,1022.9814,251.0907,479.984,853.1,799.984,215.992,476.991,449.991,853.1,256.4905,569.981,502.1814,512.981,2789.9907,431.984,874.1814,718.4,2696.9907,2849.9905,718.4,1006.981,426.55,879.984,539.991,251.0907,251.0907,479.984,502.1814,2849.9905,426.55,845.982,1619.991,569.9905,1239.2,751.984,1139.981,1471.55,1044.981,512.981,2609.991,431.984,492.8907,502.1814,1239.2,1673.9907,853.1,2943.1,494.991,2319.992,439.992,1673.9907,879.984,929.9814,989.982,1394.9814,2319.992,512.981,2699.991,3126.6414,502.1814,502.1814,426.55,439.992,835.14,426.55,417.57,422.991,2849.9905,539.991,251.0907,502.1814,278.9907,718.4,853.1,256.4905,557.9907,502.1814,1115.9814,1188.891,215.992,502.1814,476.991,1079.982,929.9907,503.4905,1139.981,494.991,522.4905,512.981,1022.9814,1115.9814,215.992,3126.6414,959.984,284.9905,797.94,599.992,2399.992,2696.9907,1349.982,557.9907,1859.9814,2849.9905,439.992,474.9905,2754.9905,2699.991,2696.9907,1424.981,847.984,815.1,479.992,215.992,449.991,959.984,2789.9907,1394.9814,557.9814,557.9907,1115.9814,1349.982,874.1814,686.4,439.992,853.1,569.981,1439.992,959.984,845.982,1022.9814,422.991,239.992,899.991,815.1,3193.881,1394.1,557.9814,1139.981,1899.981,959.984,479.984,2789.9907,2113.584,808.2,751.984,494.991,426.55,959.984,853.1,242.991,485.982,874.1814,215.992,494.991,404.1,892.981,569.9905,446.4905,959.984,502.1814,502.1814,343.2,439.992,2399.992,892.981,697.4907,712.4905,1139.981,1254.9405,1471.55,3193.881,1440.57,959.984,512.981,2457.0414,1596.9405,569.9905,431.984,239.992,278.9907,1439.992,1344.792,959.984,494.991,569.9905,1139.981,949.9905,431.984,502.1814,1056.792,239.992,1596.9405,417.57,422.991,278.9907,1619.991,1424.981,386.1,874.1814,1394.1,929.9814,569.9905,522.4905,1254.9405,892.981,242.991,929.9814,239.992,242.991,1079.982,485.982,431.984,215.992,1619.991,215.992,2881.14,2319.992,557.9907,674.991,2849.9905,426.55,426.55,407.55,404.1,751.984,2849.9905,242.991,1056.792,512.981,2113.584,251.0907,251.0907,284.9905,439.992,1239.2,2509.881,959.984,539.991,422.991,751.984,874.1814,2478.4,485.982,989.982,985.7814,2689.584,2319.992,464.9907,512.981,3199.992,2696.9907,359.2,697.4907,2849.9905,242.991,1188.891,899.982,284.9905,485.982,2788.2,1899.981,215.992,479.992,2399.992,2788.2,557.9907,1044.981,1394.1,959.984,511.4907,375.992,1006.981,2399.992,215.992,256.4905,215.992,949.9905,845.982,511.4907,215.992,686.4,242.991,959.984,949.981,215.992,2943.1,2399.992,242.991,485.982,845.982,1044.981,3239.982,949.981,718.4],\"type\":\"scatter3d\"},{\"customdata\":[[96],[98],[99],[101],[102],[103],[105],[111],[117],[118],[127],[130],[132],[133],[134],[144],[145],[148],[149],[155],[158],[159],[160],[163],[164],[178],[183],[190],[193],[197],[199],[202],[204],[205],[206],[211],[212],[223],[230],[235],[236],[241],[245],[251],[252],[258],[259],[260],[264],[267],[271],[272],[274],[276],[277],[280],[281],[282],[283],[288],[291],[297],[298],[299],[304],[306],[307],[309],[313],[314],[316],[317],[319],[321],[324],[327],[331],[332],[336],[338],[341],[343],[344],[347],[348],[349],[350],[357],[359],[360],[361],[362],[363],[365],[366],[368],[370],[371],[373],[377],[378],[380],[381],[383],[385],[390],[393],[396],[397],[398],[399],[401],[403],[409],[410],[411],[413],[414],[416],[417],[421],[422],[423],[424],[434],[438],[441],[442],[445],[447],[449],[450],[451],[454],[459],[465],[466],[468],[469],[470],[471],[475],[480],[481],[484],[489],[492],[497],[498],[499],[501],[504],[506],[510],[512],[513],[514],[516],[520],[523],[526],[528],[529],[532],[536],[538],[540],[542],[543],[546],[549],[550],[551],[552],[553],[557],[558],[559],[560],[561],[562],[563],[565],[568],[569],[573],[574],[576],[577],[578],[579],[581],[583],[584],[586],[587],[591],[600],[603],[606],[608],[610],[612],[613],[614],[615],[616],[622],[624],[626],[627],[630],[632],[633],[634],[635],[638],[639],[640],[641],[642],[643],[648],[649],[654],[657],[659],[660],[664],[667],[668],[670],[673],[676],[677],[678],[679],[681],[682],[683],[685],[686],[688],[691],[693],[695],[696],[697],[703],[705],[707],[709],[710],[711],[712],[714],[716],[719],[721],[724],[726],[727],[728],[737],[739],[740],[742],[743],[745],[746],[750],[753],[755],[756],[759],[760],[762],[763],[764],[766],[770],[773],[779],[780],[785],[786],[788],[790],[791],[792],[795],[796],[797],[800],[801],[802],[806],[808],[809],[813],[814],[815],[817],[819],[823],[825],[827],[831],[833],[834],[843],[847],[848],[849],[850],[851],[852],[853],[854],[855],[858],[861],[872],[873],[875],[876],[879],[882],[884],[891],[892],[896],[899],[907],[908],[913],[917],[918],[919],[921],[922],[923],[924],[925],[926],[927],[928],[929],[932],[933],[941],[942],[943],[944],[949],[951],[952],[954],[956],[958],[959],[961],[963],[964],[965],[973],[975],[976],[977],[979],[985],[986],[988],[989],[990],[991],[994],[995],[996],[997],[1001],[1004],[1011],[1012],[1019],[1028],[1030],[1032],[1034],[1035],[1039],[1040],[1045],[1047],[1048],[1049],[1054],[1055],[1056],[1058],[1062],[1069],[1071],[1073],[1074],[1075],[1079],[1080],[1082],[1085],[1089],[1093],[1094],[1095],[1096],[1097],[1102],[1103],[1110],[1112],[1121],[1124],[1127],[1129],[1130],[1140],[1141],[1144],[1146],[1147],[1149],[1151],[1153],[1159],[1162],[1163],[1165],[1167],[1168],[1169],[1173],[1174],[1175],[1179],[1182],[1185],[1189],[1192],[1193],[1194],[1196],[1198],[1199],[1200],[1202],[1204],[1205],[1208],[1211],[1212],[1217],[1218],[1220],[1223],[1227],[1228],[1232],[1233],[1234],[1237],[1238],[1241],[1242],[1243],[1245],[1247],[1248],[1249],[1250],[1252],[1253],[1255],[1257],[1259],[1261],[1263],[1264],[1265],[1267],[1271],[1272],[1274],[1275],[1280],[1285],[1286],[1288],[1295],[1296],[1297],[1299],[1300],[1301],[1302],[1305],[1306],[1307],[1309],[1313],[1314],[1318],[1321],[1322],[1324],[1325],[1326],[1331],[1333],[1335],[1337],[1340],[1341],[1348],[1349],[1350],[1351],[1352],[1353],[1354],[1355],[1356],[1357],[1358],[1359],[1361],[1362],[1365],[1366],[1368],[1369],[1371],[1373],[1374],[1375],[1377],[1378],[1380],[1381],[1387],[1391],[1398],[1400],[1404],[1405],[1406],[1413],[1420],[1425],[1428],[1429],[1430],[1431],[1434],[1435],[1437],[1440],[1443],[1444]],\"hovertemplate\":\"segment_name=At Risk \\u002f Churned\\u003cbr\\u003erecency=%{x}\\u003cbr\\u003efrequency=%{y}\\u003cbr\\u003emonetary=%{z}\\u003cbr\\u003ecustomer_id=%{customdata[0]}\\u003cextra\\u003e\\u003c\\u002fextra\\u003e\",\"legendgroup\":\"At Risk \\u002f Churned\",\"marker\":{\"color\":\"#D83B01\",\"symbol\":\"circle\"},\"mode\":\"markers\",\"name\":\"At Risk \\u002f Churned\",\"scene\":\"scene\",\"showlegend\":true,\"x\":[749,980,993,829,753,851,968,799,992,738,973,734,865,917,984,855,941,809,833,801,913,920,762,732,1069,765,981,717,810,825,861,914,1035,999,948,901,776,944,905,804,1073,819,699,999,1075,1085,1093,809,1050,962,1033,839,888,1042,1057,972,907,931,719,1006,700,706,767,899,818,1031,956,748,785,834,1015,1043,917,783,1090,1020,861,1005,1032,995,787,695,708,712,1067,711,929,1000,846,913,704,831,963,769,1007,856,1011,1001,869,802,921,696,1053,710,1047,981,1044,850,1046,844,831,808,1018,1014,861,925,936,1040,849,689,814,1030,765,903,841,1011,874,1089,762,852,818,1085,861,737,985,814,737,820,1026,780,1024,864,892,816,1017,956,829,927,1004,699,956,1058,793,939,725,815,966,1042,729,1092,1054,889,1046,725,864,751,931,854,691,923,820,722,878,1082,819,1009,975,819,740,733,691,1058,898,893,795,912,995,859,1022,850,934,759,1069,880,803,1049,969,970,850,692,1063,996,1051,799,699,956,986,888,750,710,900,1027,936,1028,743,969,921,797,972,820,888,988,1038,949,741,1076,888,687,797,832,1042,895,721,792,1028,735,1014,708,932,750,1018,816,756,825,1008,903,1080,820,814,905,766,814,1011,746,810,1006,962,753,806,797,837,975,976,952,778,1024,954,969,705,1065,880,792,1020,987,789,972,697,1006,930,1019,707,792,887,917,810,1020,965,700,834,755,895,811,1052,921,939,946,881,830,700,1072,735,967,791,762,750,864,814,806,763,870,842,721,892,915,690,941,823,824,985,732,706,1066,1063,1086,811,813,930,833,695,866,777,747,814,879,702,777,847,986,976,814,703,1080,893,1022,1005,801,943,1036,807,932,894,770,966,842,712,990,751,863,945,691,773,881,883,823,1060,733,719,697,809,1067,716,801,827,766,753,1031,873,867,1055,828,852,879,878,1064,897,828,886,750,995,1078,841,731,934,1062,812,1015,868,827,796,769,838,1042,849,744,972,1056,992,860,946,834,821,722,1036,1067,794,694,970,747,884,887,751,1008,982,714,911,966,895,787,829,994,1078,849,718,742,686,734,1034,954,946,777,1059,1043,1082,961,1047,1056,877,1013,887,1035,689,822,720,993,848,1090,907,749,753,1093,839,960,1066,1045,924,785,753,692,1065,1033,1074,1059,692,893,908,975,775,714,1079,886,1054,1028,954,1073,821,896,1011,847,940,688,762,861,766,1076,866,1003,980,852,1069,862,880,874,922,724,1059,755,878,1038,864,937,752,1071,933,1091,997,1089,810,884,851,892,926,925,1074,826,947,948,689,789,1013,864,919,881,961,805,991,861,1018,975,958,1025,832,965,798,906,847,805,850,806,878,711,736,900,733,771,791,1053,963,908,893,786,767,1026,1067,951,853,822,774,739],\"y\":[1,1,1,1,1,1,1,1,2,1,1,1,1,1,1,1,1,1,1,1,1,1,1,1,1,1,1,1,1,1,1,1,1,1,1,1,1,1,1,1,1,1,1,1,1,1,1,1,1,1,1,1,1,1,1,1,1,1,1,1,1,1,1,1,1,1,1,1,1,1,1,1,1,1,1,1,1,1,1,1,1,1,1,1,1,1,1,1,1,1,1,1,1,1,1,1,1,1,1,1,1,1,1,1,1,1,1,1,1,1,1,1,1,1,1,1,1,1,1,1,1,1,1,1,1,1,1,1,1,1,1,1,1,1,1,1,1,1,1,1,1,1,1,1,1,1,1,1,1,1,1,1,1,1,1,1,1,1,1,1,1,1,1,1,1,1,1,1,1,1,1,1,1,1,1,1,1,1,1,1,1,1,1,1,1,1,1,1,1,1,1,1,1,1,1,1,1,1,1,1,1,1,1,1,1,1,1,1,1,1,1,1,1,1,1,1,1,1,1,1,1,1,1,1,1,1,1,1,1,1,1,1,1,1,1,1,1,1,1,1,1,1,1,1,1,1,1,1,1,1,1,1,1,1,1,1,1,1,1,1,1,1,1,1,1,1,1,1,1,1,1,1,1,1,1,1,1,1,1,1,1,1,1,1,1,1,1,1,1,1,1,1,1,1,1,1,1,1,1,1,1,1,1,1,1,1,1,1,1,1,1,1,1,1,1,1,1,1,1,1,1,1,1,1,1,1,1,1,1,1,1,1,1,1,1,1,1,1,1,1,1,1,1,1,1,1,1,1,1,1,1,1,1,1,1,1,1,1,1,1,1,1,1,1,1,1,1,1,1,1,1,1,1,1,1,1,1,1,1,1,1,1,1,1,1,1,1,1,1,1,1,1,1,1,1,1,1,1,1,1,1,1,1,1,1,1,1,1,1,1,1,1,1,1,1,1,1,1,1,1,1,1,1,1,1,1,1,1,1,1,1,1,1,1,1,1,1,1,1,1,1,1,1,1,1,1,1,1,1,1,1,1,1,1,1,1,1,1,1,1,1,1,1,1,1,1,1,1,1,1,1,1,1,1,1,1,1,1,1,1,1,1,1,1,1,1,1,1,1,1,1,1,1,1,1,1,1,1,1,1,1,1,1,1,1,1,1,1,1,1,1,1,1,1,1,1,1,1,1,1,1,1,1,1,1,1,1,1,1,1,1,1,1,1,1,1,1,1,1,1,1,1,1,1,1,1,1,1,1,1,1,1,1,1,1,1,1,1,1,1,1,1,1,1,1,1,1,1],\"z\":[485.982,278.9907,674.991,1022.9814,949.9905,929.9907,404.1,398.97,749.3812,1599.984,502.1814,437.0907,1079.982,417.57,899.982,1899.981,417.57,417.57,437.0907,2689.584,215.992,284.9905,989.982,712.4905,1673.9907,569.9905,989.982,242.991,1079.982,242.991,1424.981,431.984,1022.9814,847.984,539.991,808.2,1115.9814,1899.981,398.97,847.984,1079.982,1344.792,1673.9907,1115.9814,959.984,417.57,479.992,899.991,439.992,1139.981,3347.9814,431.984,1056.792,485.982,256.4905,1471.55,959.984,1619.991,417.57,1115.9814,1079.982,959.984,485.982,949.9905,522.4905,1139.981,989.982,2788.2,359.2,815.1,569.9905,1044.981,751.984,2113.584,1139.981,1899.981,569.9905,959.984,2788.2,417.57,1022.9814,417.57,1859.9814,2689.584,1439.992,494.991,599.992,959.984,892.981,215.992,959.984,985.7814,464.9907,502.1814,949.9905,712.4905,476.991,899.982,2696.9907,949.981,2879.984,835.14,2478.4,437.0907,359.2,494.991,446.4905,879.984,1254.9405,502.1814,808.2,539.991,1188.891,251.0907,2699.991,2319.992,1254.9405,398.97,417.57,815.1,256.4905,1056.792,1799.982,359.2,386.1,929.9814,1022.9814,1349.982,772.2,1079.982,989.982,1044.981,808.2,1394.1,899.982,479.992,1349.982,1079.982,1139.981,485.982,2788.2,2457.0414,242.991,1709.9905,426.55,399.992,256.4905,2881.14,569.981,1228.5207,479.992,386.1,522.4905,959.984,539.982,278.9907,522.4905,1439.992,399.992,2943.1,479.984,1044.981,1673.9907,1394.9814,404.1,1394.9814,502.1814,278.9907,386.1,2478.4,1254.9405,256.4905,407.55,539.991,1239.2,2319.992,215.992,512.981,464.9907,2478.4,1079.982,1440.57,2849.9905,485.982,1254.9405,949.981,512.981,2509.881,431.984,215.992,437.0907,474.9905,853.1,2696.9907,1044.981,502.1814,569.9905,1899.981,949.9905,799.992,256.4905,251.0907,599.992,2319.992,835.14,398.97,3239.982,1022.9814,242.991,512.981,569.9905,1599.984,845.982,502.1814,569.9905,1139.981,1139.981,539.991,386.1,1022.9814,989.982,1006.981,404.1,929.9814,892.981,242.991,437.0907,2696.9907,1709.9905,494.991,569.9905,359.2,2377.782,423.992,1254.9405,485.982,512.981,1349.982,985.7814,242.991,718.4,853.1,479.992,239.992,502.1814,953.982,492.8907,431.984,479.992,949.9905,407.55,1139.981,215.992,251.0907,1139.981,256.4905,437.0907,439.992,1079.982,2609.991,1006.981,2377.782,479.984,815.1,1859.9814,511.4907,359.2,439.992,569.9905,1188.891,426.55,1599.984,476.991,251.0907,464.9907,485.982,799.992,569.9905,407.55,2879.984,423.992,474.9905,239.992,242.991,2478.4,343.2,1859.9814,512.981,1619.991,1254.9405,485.982,1394.9814,242.991,539.991,539.982,2689.584,569.9905,1596.9405,417.57,437.0907,569.9905,797.94,929.9907,512.981,417.57,2699.991,431.984,557.9907,686.4,569.9905,398.97,1439.992,1022.9814,599.992,853.1,557.9814,2788.2,712.4905,853.1,2699.991,511.4907,1673.9907,3599.991,557.9907,2689.584,1199.984,242.991,2609.991,399.992,989.982,511.4907,1349.982,1188.891,1799.982,431.984,1394.9814,1599.984,485.982,511.4907,808.2,464.9907,899.991,437.0907,959.984,464.9907,1044.981,985.7814,3193.881,359.2,502.1814,502.1814,569.981,485.982,929.9814,815.1,449.991,1115.9814,431.984,479.992,2399.992,949.981,215.992,569.9905,1344.792,1440.57,474.9905,2113.584,949.981,512.981,256.4905,1079.982,417.57,494.991,1006.981,2943.1,686.4,539.991,398.97,1799.982,502.1814,375.992,437.0907,959.984,1199.984,386.1,1799.982,697.4907,989.982,269.991,256.4905,539.991,1899.981,899.991,949.981,485.982,3599.991,386.1,359.2,422.991,522.4905,1673.9907,512.981,3025.782,522.4905,1056.792,539.982,2609.991,1394.9814,949.981,718.4,3126.6414,799.984,3347.9814,502.1814,959.984,242.991,359.2,398.97,404.1,2113.584,879.984,502.1814,479.984,985.7814,479.984,251.0907,1512.891,2478.4,417.57,256.4905,1115.9814,375.992,1115.9814,1056.792,404.1,503.4905,557.9814,808.2,899.982,539.991,2789.9907,375.992,1859.9814,899.991,1115.9814,215.992,1056.792,446.4905,522.4905,899.982,479.984,1239.2,431.984,772.2,1344.792,949.9905,989.982,1139.981,242.991,3347.9814,1115.9814,522.4905,269.991,485.982,502.1814,431.984,251.0907,686.4,959.984,3599.991,242.991,2881.14,242.991,242.991,1044.981,359.2,512.981,439.992,772.2,485.982,835.14,2789.9907,485.982,815.1,422.991,485.982,1512.891,494.991,476.991,512.981,874.1814,512.981,1673.9907,1709.9905,539.991,431.984,599.992,835.14,479.984,989.982,417.57,1424.981,404.1,2319.992,256.4905,892.981,512.981,2609.991,1599.984,3239.982,1440.57,1022.9814,1512.891,2319.992,718.4,2943.1,522.4905,215.992,423.992,479.984,522.4905,1344.792,1596.9405,2943.1,343.2,494.991,242.991,712.4905,386.1,569.9905,697.4907,431.984,423.992,1512.891,215.992,215.992,959.984,989.982,1228.5207,399.992,215.992,1139.981,1188.891,503.4905,1079.982,1471.55,359.2,879.984,2943.1,269.991,1056.792,2689.584,242.991,835.14,284.9905,215.992,479.984,3025.782,1139.981,989.982,407.55,278.9907,251.0907,422.991,242.991,512.981,407.55,485.982],\"type\":\"scatter3d\"},{\"customdata\":[[107],[131],[150],[154],[156],[201],[210],[218],[228],[229],[250],[257],[261],[295],[337],[355],[382],[394],[425],[437],[439],[448],[460],[462],[472],[477],[478],[487],[496],[505],[521],[522],[527],[530],[535],[541],[555],[556],[566],[575],[592],[594],[597],[620],[636],[637],[644],[646],[662],[684],[690],[700],[702],[704],[717],[720],[729],[730],[732],[733],[741],[757],[758],[767],[771],[774],[781],[793],[811],[824],[828],[835],[841],[863],[864],[869],[874],[877],[885],[894],[901],[912],[937],[948],[981],[984],[1027],[1042],[1051],[1060],[1061],[1064],[1070],[1078],[1081],[1107],[1108],[1117],[1119],[1125],[1131],[1137],[1143],[1152],[1156],[1157],[1161],[1176],[1183],[1209],[1210],[1213],[1215],[1219],[1222],[1229],[1235],[1239],[1282],[1315],[1328],[1332],[1334],[1338],[1360],[1376],[1386],[1396],[1397]],\"hovertemplate\":\"segment_name=Champions (High-Value)\\u003cbr\\u003erecency=%{x}\\u003cbr\\u003efrequency=%{y}\\u003cbr\\u003emonetary=%{z}\\u003cbr\\u003ecustomer_id=%{customdata[0]}\\u003cextra\\u003e\\u003c\\u002fextra\\u003e\",\"legendgroup\":\"Champions (High-Value)\",\"marker\":{\"color\":\"#107C10\",\"symbol\":\"circle\"},\"mode\":\"markers\",\"name\":\"Champions (High-Value)\",\"scene\":\"scene\",\"showlegend\":true,\"x\":[936,738,941,646,901,432,417,1036,286,436,700,377,848,684,865,561,681,605,356,1074,720,658,506,418,572,615,288,753,656,276,1046,855,867,695,1059,1080,822,547,301,829,654,350,620,529,1076,348,613,663,621,719,657,651,420,832,848,455,717,429,911,701,699,460,866,1060,443,398,578,497,635,379,491,791,660,646,678,455,825,585,908,768,720,481,334,625,868,817,369,876,711,392,827,531,532,1026,693,419,781,402,734,709,283,689,663,660,862,736,344,299,457,755,501,471,627,755,638,516,510,294,777,794,1037,623,791,961,953,943,1051,595,844],\"y\":[1,1,1,1,1,1,1,1,1,1,1,1,1,1,1,1,1,1,1,1,1,1,1,1,1,1,1,1,1,1,1,1,1,1,1,1,1,1,1,1,1,1,1,1,1,1,1,1,1,1,1,1,1,1,1,1,1,1,1,1,1,1,1,1,1,1,1,1,1,1,1,1,1,1,1,1,1,1,1,1,1,1,1,1,1,1,1,1,1,1,1,1,1,1,1,1,1,1,1,1,1,1,1,1,1,1,1,1,1,1,1,1,1,1,1,1,1,1,1,1,1,1,1,1,1,1,1,1,1],\"z\":[3599.991,3126.6414,5399.982,7439.9814,5399.982,4639.984,5393.9814,4799.984,5393.9814,5219.982,5393.9814,7599.981,3419.981,3126.6414,4639.984,3126.6414,3347.9814,7439.9814,4639.984,5219.982,3347.9814,3193.881,5393.9814,7599.981,3419.981,3419.981,3799.9905,5393.9814,7599.981,4799.984,6399.984,6399.984,5699.981,7599.981,4799.984,5579.9814,7599.981,5509.981,5509.981,7599.981,5579.9814,3799.9905,5399.982,6399.984,7199.982,5399.982,7199.982,7439.9814,3193.881,3193.881,5579.9814,3126.6414,3419.981,7439.9814,5399.982,3419.981,3239.982,7599.981,7439.9814,3719.9907,3199.992,5699.981,5393.9814,5399.982,3419.981,7199.982,3799.9905,6399.984,7599.981,3599.991,7439.9814,3239.982,7199.982,7439.9814,3419.981,5219.982,5509.981,4639.984,6399.984,3199.992,3126.6414,3419.981,4799.984,3025.782,7599.981,3199.992,5699.981,5219.982,3799.9905,7199.982,5509.981,5579.9814,3419.981,7599.981,2943.1,3419.981,4639.984,7439.9814,3025.782,7599.981,5579.9814,3025.782,3799.9905,3126.6414,5393.9814,7599.981,5699.981,3719.9907,3599.991,3126.6414,3193.881,6399.984,7599.981,7199.982,3599.991,5219.982,3419.981,3799.9905,4639.984,7439.9814,7199.982,4639.984,3419.981,7439.9814,5399.982,5509.981,3799.9905,7439.9814,3599.991],\"type\":\"scatter3d\"}],                        {\"template\":{\"data\":{\"histogram2dcontour\":[{\"type\":\"histogram2dcontour\",\"colorbar\":{\"outlinewidth\":0,\"ticks\":\"\"},\"colorscale\":[[0.0,\"#0d0887\"],[0.1111111111111111,\"#46039f\"],[0.2222222222222222,\"#7201a8\"],[0.3333333333333333,\"#9c179e\"],[0.4444444444444444,\"#bd3786\"],[0.5555555555555556,\"#d8576b\"],[0.6666666666666666,\"#ed7953\"],[0.7777777777777778,\"#fb9f3a\"],[0.8888888888888888,\"#fdca26\"],[1.0,\"#f0f921\"]]}],\"choropleth\":[{\"type\":\"choropleth\",\"colorbar\":{\"outlinewidth\":0,\"ticks\":\"\"}}],\"histogram2d\":[{\"type\":\"histogram2d\",\"colorbar\":{\"outlinewidth\":0,\"ticks\":\"\"},\"colorscale\":[[0.0,\"#0d0887\"],[0.1111111111111111,\"#46039f\"],[0.2222222222222222,\"#7201a8\"],[0.3333333333333333,\"#9c179e\"],[0.4444444444444444,\"#bd3786\"],[0.5555555555555556,\"#d8576b\"],[0.6666666666666666,\"#ed7953\"],[0.7777777777777778,\"#fb9f3a\"],[0.8888888888888888,\"#fdca26\"],[1.0,\"#f0f921\"]]}],\"heatmap\":[{\"type\":\"heatmap\",\"colorbar\":{\"outlinewidth\":0,\"ticks\":\"\"},\"colorscale\":[[0.0,\"#0d0887\"],[0.1111111111111111,\"#46039f\"],[0.2222222222222222,\"#7201a8\"],[0.3333333333333333,\"#9c179e\"],[0.4444444444444444,\"#bd3786\"],[0.5555555555555556,\"#d8576b\"],[0.6666666666666666,\"#ed7953\"],[0.7777777777777778,\"#fb9f3a\"],[0.8888888888888888,\"#fdca26\"],[1.0,\"#f0f921\"]]}],\"heatmapgl\":[{\"type\":\"heatmapgl\",\"colorbar\":{\"outlinewidth\":0,\"ticks\":\"\"},\"colorscale\":[[0.0,\"#0d0887\"],[0.1111111111111111,\"#46039f\"],[0.2222222222222222,\"#7201a8\"],[0.3333333333333333,\"#9c179e\"],[0.4444444444444444,\"#bd3786\"],[0.5555555555555556,\"#d8576b\"],[0.6666666666666666,\"#ed7953\"],[0.7777777777777778,\"#fb9f3a\"],[0.8888888888888888,\"#fdca26\"],[1.0,\"#f0f921\"]]}],\"contourcarpet\":[{\"type\":\"contourcarpet\",\"colorbar\":{\"outlinewidth\":0,\"ticks\":\"\"}}],\"contour\":[{\"type\":\"contour\",\"colorbar\":{\"outlinewidth\":0,\"ticks\":\"\"},\"colorscale\":[[0.0,\"#0d0887\"],[0.1111111111111111,\"#46039f\"],[0.2222222222222222,\"#7201a8\"],[0.3333333333333333,\"#9c179e\"],[0.4444444444444444,\"#bd3786\"],[0.5555555555555556,\"#d8576b\"],[0.6666666666666666,\"#ed7953\"],[0.7777777777777778,\"#fb9f3a\"],[0.8888888888888888,\"#fdca26\"],[1.0,\"#f0f921\"]]}],\"surface\":[{\"type\":\"surface\",\"colorbar\":{\"outlinewidth\":0,\"ticks\":\"\"},\"colorscale\":[[0.0,\"#0d0887\"],[0.1111111111111111,\"#46039f\"],[0.2222222222222222,\"#7201a8\"],[0.3333333333333333,\"#9c179e\"],[0.4444444444444444,\"#bd3786\"],[0.5555555555555556,\"#d8576b\"],[0.6666666666666666,\"#ed7953\"],[0.7777777777777778,\"#fb9f3a\"],[0.8888888888888888,\"#fdca26\"],[1.0,\"#f0f921\"]]}],\"mesh3d\":[{\"type\":\"mesh3d\",\"colorbar\":{\"outlinewidth\":0,\"ticks\":\"\"}}],\"scatter\":[{\"fillpattern\":{\"fillmode\":\"overlay\",\"size\":10,\"solidity\":0.2},\"type\":\"scatter\"}],\"parcoords\":[{\"type\":\"parcoords\",\"line\":{\"colorbar\":{\"outlinewidth\":0,\"ticks\":\"\"}}}],\"scatterpolargl\":[{\"type\":\"scatterpolargl\",\"marker\":{\"colorbar\":{\"outlinewidth\":0,\"ticks\":\"\"}}}],\"bar\":[{\"error_x\":{\"color\":\"#2a3f5f\"},\"error_y\":{\"color\":\"#2a3f5f\"},\"marker\":{\"line\":{\"color\":\"#E5ECF6\",\"width\":0.5},\"pattern\":{\"fillmode\":\"overlay\",\"size\":10,\"solidity\":0.2}},\"type\":\"bar\"}],\"scattergeo\":[{\"type\":\"scattergeo\",\"marker\":{\"colorbar\":{\"outlinewidth\":0,\"ticks\":\"\"}}}],\"scatterpolar\":[{\"type\":\"scatterpolar\",\"marker\":{\"colorbar\":{\"outlinewidth\":0,\"ticks\":\"\"}}}],\"histogram\":[{\"marker\":{\"pattern\":{\"fillmode\":\"overlay\",\"size\":10,\"solidity\":0.2}},\"type\":\"histogram\"}],\"scattergl\":[{\"type\":\"scattergl\",\"marker\":{\"colorbar\":{\"outlinewidth\":0,\"ticks\":\"\"}}}],\"scatter3d\":[{\"type\":\"scatter3d\",\"line\":{\"colorbar\":{\"outlinewidth\":0,\"ticks\":\"\"}},\"marker\":{\"colorbar\":{\"outlinewidth\":0,\"ticks\":\"\"}}}],\"scattermapbox\":[{\"type\":\"scattermapbox\",\"marker\":{\"colorbar\":{\"outlinewidth\":0,\"ticks\":\"\"}}}],\"scatterternary\":[{\"type\":\"scatterternary\",\"marker\":{\"colorbar\":{\"outlinewidth\":0,\"ticks\":\"\"}}}],\"scattercarpet\":[{\"type\":\"scattercarpet\",\"marker\":{\"colorbar\":{\"outlinewidth\":0,\"ticks\":\"\"}}}],\"carpet\":[{\"aaxis\":{\"endlinecolor\":\"#2a3f5f\",\"gridcolor\":\"white\",\"linecolor\":\"white\",\"minorgridcolor\":\"white\",\"startlinecolor\":\"#2a3f5f\"},\"baxis\":{\"endlinecolor\":\"#2a3f5f\",\"gridcolor\":\"white\",\"linecolor\":\"white\",\"minorgridcolor\":\"white\",\"startlinecolor\":\"#2a3f5f\"},\"type\":\"carpet\"}],\"table\":[{\"cells\":{\"fill\":{\"color\":\"#EBF0F8\"},\"line\":{\"color\":\"white\"}},\"header\":{\"fill\":{\"color\":\"#C8D4E3\"},\"line\":{\"color\":\"white\"}},\"type\":\"table\"}],\"barpolar\":[{\"marker\":{\"line\":{\"color\":\"#E5ECF6\",\"width\":0.5},\"pattern\":{\"fillmode\":\"overlay\",\"size\":10,\"solidity\":0.2}},\"type\":\"barpolar\"}],\"pie\":[{\"automargin\":true,\"type\":\"pie\"}]},\"layout\":{\"autotypenumbers\":\"strict\",\"colorway\":[\"#636efa\",\"#EF553B\",\"#00cc96\",\"#ab63fa\",\"#FFA15A\",\"#19d3f3\",\"#FF6692\",\"#B6E880\",\"#FF97FF\",\"#FECB52\"],\"font\":{\"color\":\"#2a3f5f\"},\"hovermode\":\"closest\",\"hoverlabel\":{\"align\":\"left\"},\"paper_bgcolor\":\"white\",\"plot_bgcolor\":\"#E5ECF6\",\"polar\":{\"bgcolor\":\"#E5ECF6\",\"angularaxis\":{\"gridcolor\":\"white\",\"linecolor\":\"white\",\"ticks\":\"\"},\"radialaxis\":{\"gridcolor\":\"white\",\"linecolor\":\"white\",\"ticks\":\"\"}},\"ternary\":{\"bgcolor\":\"#E5ECF6\",\"aaxis\":{\"gridcolor\":\"white\",\"linecolor\":\"white\",\"ticks\":\"\"},\"baxis\":{\"gridcolor\":\"white\",\"linecolor\":\"white\",\"ticks\":\"\"},\"caxis\":{\"gridcolor\":\"white\",\"linecolor\":\"white\",\"ticks\":\"\"}},\"coloraxis\":{\"colorbar\":{\"outlinewidth\":0,\"ticks\":\"\"}},\"colorscale\":{\"sequential\":[[0.0,\"#0d0887\"],[0.1111111111111111,\"#46039f\"],[0.2222222222222222,\"#7201a8\"],[0.3333333333333333,\"#9c179e\"],[0.4444444444444444,\"#bd3786\"],[0.5555555555555556,\"#d8576b\"],[0.6666666666666666,\"#ed7953\"],[0.7777777777777778,\"#fb9f3a\"],[0.8888888888888888,\"#fdca26\"],[1.0,\"#f0f921\"]],\"sequentialminus\":[[0.0,\"#0d0887\"],[0.1111111111111111,\"#46039f\"],[0.2222222222222222,\"#7201a8\"],[0.3333333333333333,\"#9c179e\"],[0.4444444444444444,\"#bd3786\"],[0.5555555555555556,\"#d8576b\"],[0.6666666666666666,\"#ed7953\"],[0.7777777777777778,\"#fb9f3a\"],[0.8888888888888888,\"#fdca26\"],[1.0,\"#f0f921\"]],\"diverging\":[[0,\"#8e0152\"],[0.1,\"#c51b7d\"],[0.2,\"#de77ae\"],[0.3,\"#f1b6da\"],[0.4,\"#fde0ef\"],[0.5,\"#f7f7f7\"],[0.6,\"#e6f5d0\"],[0.7,\"#b8e186\"],[0.8,\"#7fbc41\"],[0.9,\"#4d9221\"],[1,\"#276419\"]]},\"xaxis\":{\"gridcolor\":\"white\",\"linecolor\":\"white\",\"ticks\":\"\",\"title\":{\"standoff\":15},\"zerolinecolor\":\"white\",\"automargin\":true,\"zerolinewidth\":2},\"yaxis\":{\"gridcolor\":\"white\",\"linecolor\":\"white\",\"ticks\":\"\",\"title\":{\"standoff\":15},\"zerolinecolor\":\"white\",\"automargin\":true,\"zerolinewidth\":2},\"scene\":{\"xaxis\":{\"backgroundcolor\":\"#E5ECF6\",\"gridcolor\":\"white\",\"linecolor\":\"white\",\"showbackground\":true,\"ticks\":\"\",\"zerolinecolor\":\"white\",\"gridwidth\":2},\"yaxis\":{\"backgroundcolor\":\"#E5ECF6\",\"gridcolor\":\"white\",\"linecolor\":\"white\",\"showbackground\":true,\"ticks\":\"\",\"zerolinecolor\":\"white\",\"gridwidth\":2},\"zaxis\":{\"backgroundcolor\":\"#E5ECF6\",\"gridcolor\":\"white\",\"linecolor\":\"white\",\"showbackground\":true,\"ticks\":\"\",\"zerolinecolor\":\"white\",\"gridwidth\":2}},\"shapedefaults\":{\"line\":{\"color\":\"#2a3f5f\"}},\"annotationdefaults\":{\"arrowcolor\":\"#2a3f5f\",\"arrowhead\":0,\"arrowwidth\":1},\"geo\":{\"bgcolor\":\"white\",\"landcolor\":\"#E5ECF6\",\"subunitcolor\":\"white\",\"showland\":true,\"showlakes\":true,\"lakecolor\":\"white\"},\"title\":{\"x\":0.05},\"mapbox\":{\"style\":\"light\"}}},\"scene\":{\"domain\":{\"x\":[0.0,1.0],\"y\":[0.0,1.0]},\"xaxis\":{\"title\":{\"text\":\"recency\"}},\"yaxis\":{\"title\":{\"text\":\"frequency\"}},\"zaxis\":{\"title\":{\"text\":\"monetary\"}}},\"legend\":{\"title\":{\"text\":\"Customer Segment\"},\"tracegroupgap\":0},\"title\":{\"text\":\"3D Interactive RFM Customer Segments\"},\"margin\":{\"l\":0,\"r\":0,\"b\":0,\"t\":40}},                        {\"responsive\": true}                    ).then(function(){\n",
       "                            \n",
       "var gd = document.getElementById('a3c6f29e-b979-4f81-89ba-76a6fdd61df8');\n",
       "var x = new MutationObserver(function (mutations, observer) {{\n",
       "        var display = window.getComputedStyle(gd).display;\n",
       "        if (!display || display === 'none') {{\n",
       "            console.log([gd, 'removed!']);\n",
       "            Plotly.purge(gd);\n",
       "            observer.disconnect();\n",
       "        }}\n",
       "}});\n",
       "\n",
       "// Listen for the removal of the full notebook cells\n",
       "var notebookContainer = gd.closest('#notebook-container');\n",
       "if (notebookContainer) {{\n",
       "    x.observe(notebookContainer, {childList: true});\n",
       "}}\n",
       "\n",
       "// Listen for the clearing of the current output cell\n",
       "var outputEl = gd.closest('.output');\n",
       "if (outputEl) {{\n",
       "    x.observe(outputEl, {childList: true});\n",
       "}}\n",
       "\n",
       "                        })                };                });            </script>        </div>"
      ]
     },
     "metadata": {},
     "output_type": "display_data"
    },
    {
     "name": "stdout",
     "output_type": "stream",
     "text": [
      "Generating Plot 2: Segment Characteristics\n"
     ]
    },
    {
     "data": {
      "application/vnd.plotly.v1+json": {
       "data": [
        {
         "marker": {
          "color": [
           "rgb(8,48,107)",
           "rgb(8,81,156)",
           "rgb(33,113,181)",
           "rgb(66,146,198)",
           "rgb(107,174,214)",
           "rgb(158,202,225)",
           "rgb(198,219,239)",
           "rgb(222,235,247)",
           "rgb(247,251,255)"
          ]
         },
         "name": "Recency",
         "x": [
          "Champions (High-Value)",
          "Loyal Customers (Mid-Value)",
          "New / Potential Customers",
          "At Risk / Churned"
         ],
         "y": [
          658.8759689922481,
          247.2076923076923,
          483.205501618123,
          887.6637323943662
         ],
         "type": "bar",
         "xaxis": "x",
         "yaxis": "y"
        },
        {
         "marker": {
          "color": [
           "rgb(0,68,27)",
           "rgb(0,109,44)",
           "rgb(35,139,69)",
           "rgb(65,171,93)",
           "rgb(116,196,118)",
           "rgb(161,217,155)",
           "rgb(199,233,192)",
           "rgb(229,245,224)",
           "rgb(247,252,245)"
          ]
         },
         "name": "Frequency",
         "x": [
          "Champions (High-Value)",
          "Loyal Customers (Mid-Value)",
          "New / Potential Customers",
          "At Risk / Churned"
         ],
         "y": [
          1.0,
          2.3,
          1.0,
          1.0017605633802817
         ],
         "type": "bar",
         "xaxis": "x2",
         "yaxis": "y2"
        },
        {
         "marker": {
          "color": [
           "rgb(127,39,4)",
           "rgb(166,54,3)",
           "rgb(217,72,1)",
           "rgb(241,105,19)",
           "rgb(253,141,60)",
           "rgb(253,174,107)",
           "rgb(253,208,162)",
           "rgb(254,230,206)",
           "rgb(255,245,235)"
          ]
         },
         "name": "Monetary",
         "x": [
          "Champions (High-Value)",
          "Loyal Customers (Mid-Value)",
          "New / Potential Customers",
          "At Risk / Churned"
         ],
         "y": [
          5143.911199224806,
          3086.778779230769,
          967.0612323624596,
          960.4327882042253
         ],
         "type": "bar",
         "xaxis": "x3",
         "yaxis": "y3"
        }
       ],
       "layout": {
        "template": {
         "data": {
          "histogram2dcontour": [
           {
            "type": "histogram2dcontour",
            "colorbar": {
             "outlinewidth": 0,
             "ticks": ""
            },
            "colorscale": [
             [
              0.0,
              "#0d0887"
             ],
             [
              0.1111111111111111,
              "#46039f"
             ],
             [
              0.2222222222222222,
              "#7201a8"
             ],
             [
              0.3333333333333333,
              "#9c179e"
             ],
             [
              0.4444444444444444,
              "#bd3786"
             ],
             [
              0.5555555555555556,
              "#d8576b"
             ],
             [
              0.6666666666666666,
              "#ed7953"
             ],
             [
              0.7777777777777778,
              "#fb9f3a"
             ],
             [
              0.8888888888888888,
              "#fdca26"
             ],
             [
              1.0,
              "#f0f921"
             ]
            ]
           }
          ],
          "choropleth": [
           {
            "type": "choropleth",
            "colorbar": {
             "outlinewidth": 0,
             "ticks": ""
            }
           }
          ],
          "histogram2d": [
           {
            "type": "histogram2d",
            "colorbar": {
             "outlinewidth": 0,
             "ticks": ""
            },
            "colorscale": [
             [
              0.0,
              "#0d0887"
             ],
             [
              0.1111111111111111,
              "#46039f"
             ],
             [
              0.2222222222222222,
              "#7201a8"
             ],
             [
              0.3333333333333333,
              "#9c179e"
             ],
             [
              0.4444444444444444,
              "#bd3786"
             ],
             [
              0.5555555555555556,
              "#d8576b"
             ],
             [
              0.6666666666666666,
              "#ed7953"
             ],
             [
              0.7777777777777778,
              "#fb9f3a"
             ],
             [
              0.8888888888888888,
              "#fdca26"
             ],
             [
              1.0,
              "#f0f921"
             ]
            ]
           }
          ],
          "heatmap": [
           {
            "type": "heatmap",
            "colorbar": {
             "outlinewidth": 0,
             "ticks": ""
            },
            "colorscale": [
             [
              0.0,
              "#0d0887"
             ],
             [
              0.1111111111111111,
              "#46039f"
             ],
             [
              0.2222222222222222,
              "#7201a8"
             ],
             [
              0.3333333333333333,
              "#9c179e"
             ],
             [
              0.4444444444444444,
              "#bd3786"
             ],
             [
              0.5555555555555556,
              "#d8576b"
             ],
             [
              0.6666666666666666,
              "#ed7953"
             ],
             [
              0.7777777777777778,
              "#fb9f3a"
             ],
             [
              0.8888888888888888,
              "#fdca26"
             ],
             [
              1.0,
              "#f0f921"
             ]
            ]
           }
          ],
          "heatmapgl": [
           {
            "type": "heatmapgl",
            "colorbar": {
             "outlinewidth": 0,
             "ticks": ""
            },
            "colorscale": [
             [
              0.0,
              "#0d0887"
             ],
             [
              0.1111111111111111,
              "#46039f"
             ],
             [
              0.2222222222222222,
              "#7201a8"
             ],
             [
              0.3333333333333333,
              "#9c179e"
             ],
             [
              0.4444444444444444,
              "#bd3786"
             ],
             [
              0.5555555555555556,
              "#d8576b"
             ],
             [
              0.6666666666666666,
              "#ed7953"
             ],
             [
              0.7777777777777778,
              "#fb9f3a"
             ],
             [
              0.8888888888888888,
              "#fdca26"
             ],
             [
              1.0,
              "#f0f921"
             ]
            ]
           }
          ],
          "contourcarpet": [
           {
            "type": "contourcarpet",
            "colorbar": {
             "outlinewidth": 0,
             "ticks": ""
            }
           }
          ],
          "contour": [
           {
            "type": "contour",
            "colorbar": {
             "outlinewidth": 0,
             "ticks": ""
            },
            "colorscale": [
             [
              0.0,
              "#0d0887"
             ],
             [
              0.1111111111111111,
              "#46039f"
             ],
             [
              0.2222222222222222,
              "#7201a8"
             ],
             [
              0.3333333333333333,
              "#9c179e"
             ],
             [
              0.4444444444444444,
              "#bd3786"
             ],
             [
              0.5555555555555556,
              "#d8576b"
             ],
             [
              0.6666666666666666,
              "#ed7953"
             ],
             [
              0.7777777777777778,
              "#fb9f3a"
             ],
             [
              0.8888888888888888,
              "#fdca26"
             ],
             [
              1.0,
              "#f0f921"
             ]
            ]
           }
          ],
          "surface": [
           {
            "type": "surface",
            "colorbar": {
             "outlinewidth": 0,
             "ticks": ""
            },
            "colorscale": [
             [
              0.0,
              "#0d0887"
             ],
             [
              0.1111111111111111,
              "#46039f"
             ],
             [
              0.2222222222222222,
              "#7201a8"
             ],
             [
              0.3333333333333333,
              "#9c179e"
             ],
             [
              0.4444444444444444,
              "#bd3786"
             ],
             [
              0.5555555555555556,
              "#d8576b"
             ],
             [
              0.6666666666666666,
              "#ed7953"
             ],
             [
              0.7777777777777778,
              "#fb9f3a"
             ],
             [
              0.8888888888888888,
              "#fdca26"
             ],
             [
              1.0,
              "#f0f921"
             ]
            ]
           }
          ],
          "mesh3d": [
           {
            "type": "mesh3d",
            "colorbar": {
             "outlinewidth": 0,
             "ticks": ""
            }
           }
          ],
          "scatter": [
           {
            "fillpattern": {
             "fillmode": "overlay",
             "size": 10,
             "solidity": 0.2
            },
            "type": "scatter"
           }
          ],
          "parcoords": [
           {
            "type": "parcoords",
            "line": {
             "colorbar": {
              "outlinewidth": 0,
              "ticks": ""
             }
            }
           }
          ],
          "scatterpolargl": [
           {
            "type": "scatterpolargl",
            "marker": {
             "colorbar": {
              "outlinewidth": 0,
              "ticks": ""
             }
            }
           }
          ],
          "bar": [
           {
            "error_x": {
             "color": "#2a3f5f"
            },
            "error_y": {
             "color": "#2a3f5f"
            },
            "marker": {
             "line": {
              "color": "#E5ECF6",
              "width": 0.5
             },
             "pattern": {
              "fillmode": "overlay",
              "size": 10,
              "solidity": 0.2
             }
            },
            "type": "bar"
           }
          ],
          "scattergeo": [
           {
            "type": "scattergeo",
            "marker": {
             "colorbar": {
              "outlinewidth": 0,
              "ticks": ""
             }
            }
           }
          ],
          "scatterpolar": [
           {
            "type": "scatterpolar",
            "marker": {
             "colorbar": {
              "outlinewidth": 0,
              "ticks": ""
             }
            }
           }
          ],
          "histogram": [
           {
            "marker": {
             "pattern": {
              "fillmode": "overlay",
              "size": 10,
              "solidity": 0.2
             }
            },
            "type": "histogram"
           }
          ],
          "scattergl": [
           {
            "type": "scattergl",
            "marker": {
             "colorbar": {
              "outlinewidth": 0,
              "ticks": ""
             }
            }
           }
          ],
          "scatter3d": [
           {
            "type": "scatter3d",
            "line": {
             "colorbar": {
              "outlinewidth": 0,
              "ticks": ""
             }
            },
            "marker": {
             "colorbar": {
              "outlinewidth": 0,
              "ticks": ""
             }
            }
           }
          ],
          "scattermapbox": [
           {
            "type": "scattermapbox",
            "marker": {
             "colorbar": {
              "outlinewidth": 0,
              "ticks": ""
             }
            }
           }
          ],
          "scatterternary": [
           {
            "type": "scatterternary",
            "marker": {
             "colorbar": {
              "outlinewidth": 0,
              "ticks": ""
             }
            }
           }
          ],
          "scattercarpet": [
           {
            "type": "scattercarpet",
            "marker": {
             "colorbar": {
              "outlinewidth": 0,
              "ticks": ""
             }
            }
           }
          ],
          "carpet": [
           {
            "aaxis": {
             "endlinecolor": "#2a3f5f",
             "gridcolor": "white",
             "linecolor": "white",
             "minorgridcolor": "white",
             "startlinecolor": "#2a3f5f"
            },
            "baxis": {
             "endlinecolor": "#2a3f5f",
             "gridcolor": "white",
             "linecolor": "white",
             "minorgridcolor": "white",
             "startlinecolor": "#2a3f5f"
            },
            "type": "carpet"
           }
          ],
          "table": [
           {
            "cells": {
             "fill": {
              "color": "#EBF0F8"
             },
             "line": {
              "color": "white"
             }
            },
            "header": {
             "fill": {
              "color": "#C8D4E3"
             },
             "line": {
              "color": "white"
             }
            },
            "type": "table"
           }
          ],
          "barpolar": [
           {
            "marker": {
             "line": {
              "color": "#E5ECF6",
              "width": 0.5
             },
             "pattern": {
              "fillmode": "overlay",
              "size": 10,
              "solidity": 0.2
             }
            },
            "type": "barpolar"
           }
          ],
          "pie": [
           {
            "automargin": true,
            "type": "pie"
           }
          ]
         },
         "layout": {
          "autotypenumbers": "strict",
          "colorway": [
           "#636efa",
           "#EF553B",
           "#00cc96",
           "#ab63fa",
           "#FFA15A",
           "#19d3f3",
           "#FF6692",
           "#B6E880",
           "#FF97FF",
           "#FECB52"
          ],
          "font": {
           "color": "#2a3f5f"
          },
          "hovermode": "closest",
          "hoverlabel": {
           "align": "left"
          },
          "paper_bgcolor": "white",
          "plot_bgcolor": "#E5ECF6",
          "polar": {
           "bgcolor": "#E5ECF6",
           "angularaxis": {
            "gridcolor": "white",
            "linecolor": "white",
            "ticks": ""
           },
           "radialaxis": {
            "gridcolor": "white",
            "linecolor": "white",
            "ticks": ""
           }
          },
          "ternary": {
           "bgcolor": "#E5ECF6",
           "aaxis": {
            "gridcolor": "white",
            "linecolor": "white",
            "ticks": ""
           },
           "baxis": {
            "gridcolor": "white",
            "linecolor": "white",
            "ticks": ""
           },
           "caxis": {
            "gridcolor": "white",
            "linecolor": "white",
            "ticks": ""
           }
          },
          "coloraxis": {
           "colorbar": {
            "outlinewidth": 0,
            "ticks": ""
           }
          },
          "colorscale": {
           "sequential": [
            [
             0.0,
             "#0d0887"
            ],
            [
             0.1111111111111111,
             "#46039f"
            ],
            [
             0.2222222222222222,
             "#7201a8"
            ],
            [
             0.3333333333333333,
             "#9c179e"
            ],
            [
             0.4444444444444444,
             "#bd3786"
            ],
            [
             0.5555555555555556,
             "#d8576b"
            ],
            [
             0.6666666666666666,
             "#ed7953"
            ],
            [
             0.7777777777777778,
             "#fb9f3a"
            ],
            [
             0.8888888888888888,
             "#fdca26"
            ],
            [
             1.0,
             "#f0f921"
            ]
           ],
           "sequentialminus": [
            [
             0.0,
             "#0d0887"
            ],
            [
             0.1111111111111111,
             "#46039f"
            ],
            [
             0.2222222222222222,
             "#7201a8"
            ],
            [
             0.3333333333333333,
             "#9c179e"
            ],
            [
             0.4444444444444444,
             "#bd3786"
            ],
            [
             0.5555555555555556,
             "#d8576b"
            ],
            [
             0.6666666666666666,
             "#ed7953"
            ],
            [
             0.7777777777777778,
             "#fb9f3a"
            ],
            [
             0.8888888888888888,
             "#fdca26"
            ],
            [
             1.0,
             "#f0f921"
            ]
           ],
           "diverging": [
            [
             0,
             "#8e0152"
            ],
            [
             0.1,
             "#c51b7d"
            ],
            [
             0.2,
             "#de77ae"
            ],
            [
             0.3,
             "#f1b6da"
            ],
            [
             0.4,
             "#fde0ef"
            ],
            [
             0.5,
             "#f7f7f7"
            ],
            [
             0.6,
             "#e6f5d0"
            ],
            [
             0.7,
             "#b8e186"
            ],
            [
             0.8,
             "#7fbc41"
            ],
            [
             0.9,
             "#4d9221"
            ],
            [
             1,
             "#276419"
            ]
           ]
          },
          "xaxis": {
           "gridcolor": "white",
           "linecolor": "white",
           "ticks": "",
           "title": {
            "standoff": 15
           },
           "zerolinecolor": "white",
           "automargin": true,
           "zerolinewidth": 2
          },
          "yaxis": {
           "gridcolor": "white",
           "linecolor": "white",
           "ticks": "",
           "title": {
            "standoff": 15
           },
           "zerolinecolor": "white",
           "automargin": true,
           "zerolinewidth": 2
          },
          "scene": {
           "xaxis": {
            "backgroundcolor": "#E5ECF6",
            "gridcolor": "white",
            "linecolor": "white",
            "showbackground": true,
            "ticks": "",
            "zerolinecolor": "white",
            "gridwidth": 2
           },
           "yaxis": {
            "backgroundcolor": "#E5ECF6",
            "gridcolor": "white",
            "linecolor": "white",
            "showbackground": true,
            "ticks": "",
            "zerolinecolor": "white",
            "gridwidth": 2
           },
           "zaxis": {
            "backgroundcolor": "#E5ECF6",
            "gridcolor": "white",
            "linecolor": "white",
            "showbackground": true,
            "ticks": "",
            "zerolinecolor": "white",
            "gridwidth": 2
           }
          },
          "shapedefaults": {
           "line": {
            "color": "#2a3f5f"
           }
          },
          "annotationdefaults": {
           "arrowcolor": "#2a3f5f",
           "arrowhead": 0,
           "arrowwidth": 1
          },
          "geo": {
           "bgcolor": "white",
           "landcolor": "#E5ECF6",
           "subunitcolor": "white",
           "showland": true,
           "showlakes": true,
           "lakecolor": "white"
          },
          "title": {
           "x": 0.05
          },
          "mapbox": {
           "style": "light"
          }
         }
        },
        "xaxis": {
         "anchor": "y",
         "domain": [
          0.0,
          0.2888888888888889
         ]
        },
        "yaxis": {
         "anchor": "x",
         "domain": [
          0.0,
          1.0
         ]
        },
        "xaxis2": {
         "anchor": "y2",
         "domain": [
          0.35555555555555557,
          0.6444444444444445
         ]
        },
        "yaxis2": {
         "anchor": "x2",
         "domain": [
          0.0,
          1.0
         ]
        },
        "xaxis3": {
         "anchor": "y3",
         "domain": [
          0.7111111111111111,
          1.0
         ]
        },
        "yaxis3": {
         "anchor": "x3",
         "domain": [
          0.0,
          1.0
         ]
        },
        "annotations": [
         {
          "font": {
           "size": 16
          },
          "showarrow": false,
          "text": "Average Recency (Days)",
          "x": 0.14444444444444446,
          "xanchor": "center",
          "xref": "paper",
          "y": 1.0,
          "yanchor": "bottom",
          "yref": "paper"
         },
         {
          "font": {
           "size": 16
          },
          "showarrow": false,
          "text": "Average Frequency (Orders)",
          "x": 0.5,
          "xanchor": "center",
          "xref": "paper",
          "y": 1.0,
          "yanchor": "bottom",
          "yref": "paper"
         },
         {
          "font": {
           "size": 16
          },
          "showarrow": false,
          "text": "Average Monetary Value ($)",
          "x": 0.8555555555555556,
          "xanchor": "center",
          "xref": "paper",
          "y": 1.0,
          "yanchor": "bottom",
          "yref": "paper"
         }
        ],
        "title": {
         "text": "Customer Segment Characteristics"
        },
        "showlegend": false
       },
       "config": {
        "plotlyServerURL": "https://plot.ly"
       }
      },
      "text/html": [
       "<div>                            <div id=\"0091668c-1217-4ba6-8746-0e289ed02415\" class=\"plotly-graph-div\" style=\"height:525px; width:100%;\"></div>            <script type=\"text/javascript\">                require([\"plotly\"], function(Plotly) {                    window.PLOTLYENV=window.PLOTLYENV || {};                                    if (document.getElementById(\"0091668c-1217-4ba6-8746-0e289ed02415\")) {                    Plotly.newPlot(                        \"0091668c-1217-4ba6-8746-0e289ed02415\",                        [{\"marker\":{\"color\":[\"rgb(8,48,107)\",\"rgb(8,81,156)\",\"rgb(33,113,181)\",\"rgb(66,146,198)\",\"rgb(107,174,214)\",\"rgb(158,202,225)\",\"rgb(198,219,239)\",\"rgb(222,235,247)\",\"rgb(247,251,255)\"]},\"name\":\"Recency\",\"x\":[\"Champions (High-Value)\",\"Loyal Customers (Mid-Value)\",\"New \\u002f Potential Customers\",\"At Risk \\u002f Churned\"],\"y\":[658.8759689922481,247.2076923076923,483.205501618123,887.6637323943662],\"type\":\"bar\",\"xaxis\":\"x\",\"yaxis\":\"y\"},{\"marker\":{\"color\":[\"rgb(0,68,27)\",\"rgb(0,109,44)\",\"rgb(35,139,69)\",\"rgb(65,171,93)\",\"rgb(116,196,118)\",\"rgb(161,217,155)\",\"rgb(199,233,192)\",\"rgb(229,245,224)\",\"rgb(247,252,245)\"]},\"name\":\"Frequency\",\"x\":[\"Champions (High-Value)\",\"Loyal Customers (Mid-Value)\",\"New \\u002f Potential Customers\",\"At Risk \\u002f Churned\"],\"y\":[1.0,2.3,1.0,1.0017605633802817],\"type\":\"bar\",\"xaxis\":\"x2\",\"yaxis\":\"y2\"},{\"marker\":{\"color\":[\"rgb(127,39,4)\",\"rgb(166,54,3)\",\"rgb(217,72,1)\",\"rgb(241,105,19)\",\"rgb(253,141,60)\",\"rgb(253,174,107)\",\"rgb(253,208,162)\",\"rgb(254,230,206)\",\"rgb(255,245,235)\"]},\"name\":\"Monetary\",\"x\":[\"Champions (High-Value)\",\"Loyal Customers (Mid-Value)\",\"New \\u002f Potential Customers\",\"At Risk \\u002f Churned\"],\"y\":[5143.911199224806,3086.778779230769,967.0612323624596,960.4327882042253],\"type\":\"bar\",\"xaxis\":\"x3\",\"yaxis\":\"y3\"}],                        {\"template\":{\"data\":{\"histogram2dcontour\":[{\"type\":\"histogram2dcontour\",\"colorbar\":{\"outlinewidth\":0,\"ticks\":\"\"},\"colorscale\":[[0.0,\"#0d0887\"],[0.1111111111111111,\"#46039f\"],[0.2222222222222222,\"#7201a8\"],[0.3333333333333333,\"#9c179e\"],[0.4444444444444444,\"#bd3786\"],[0.5555555555555556,\"#d8576b\"],[0.6666666666666666,\"#ed7953\"],[0.7777777777777778,\"#fb9f3a\"],[0.8888888888888888,\"#fdca26\"],[1.0,\"#f0f921\"]]}],\"choropleth\":[{\"type\":\"choropleth\",\"colorbar\":{\"outlinewidth\":0,\"ticks\":\"\"}}],\"histogram2d\":[{\"type\":\"histogram2d\",\"colorbar\":{\"outlinewidth\":0,\"ticks\":\"\"},\"colorscale\":[[0.0,\"#0d0887\"],[0.1111111111111111,\"#46039f\"],[0.2222222222222222,\"#7201a8\"],[0.3333333333333333,\"#9c179e\"],[0.4444444444444444,\"#bd3786\"],[0.5555555555555556,\"#d8576b\"],[0.6666666666666666,\"#ed7953\"],[0.7777777777777778,\"#fb9f3a\"],[0.8888888888888888,\"#fdca26\"],[1.0,\"#f0f921\"]]}],\"heatmap\":[{\"type\":\"heatmap\",\"colorbar\":{\"outlinewidth\":0,\"ticks\":\"\"},\"colorscale\":[[0.0,\"#0d0887\"],[0.1111111111111111,\"#46039f\"],[0.2222222222222222,\"#7201a8\"],[0.3333333333333333,\"#9c179e\"],[0.4444444444444444,\"#bd3786\"],[0.5555555555555556,\"#d8576b\"],[0.6666666666666666,\"#ed7953\"],[0.7777777777777778,\"#fb9f3a\"],[0.8888888888888888,\"#fdca26\"],[1.0,\"#f0f921\"]]}],\"heatmapgl\":[{\"type\":\"heatmapgl\",\"colorbar\":{\"outlinewidth\":0,\"ticks\":\"\"},\"colorscale\":[[0.0,\"#0d0887\"],[0.1111111111111111,\"#46039f\"],[0.2222222222222222,\"#7201a8\"],[0.3333333333333333,\"#9c179e\"],[0.4444444444444444,\"#bd3786\"],[0.5555555555555556,\"#d8576b\"],[0.6666666666666666,\"#ed7953\"],[0.7777777777777778,\"#fb9f3a\"],[0.8888888888888888,\"#fdca26\"],[1.0,\"#f0f921\"]]}],\"contourcarpet\":[{\"type\":\"contourcarpet\",\"colorbar\":{\"outlinewidth\":0,\"ticks\":\"\"}}],\"contour\":[{\"type\":\"contour\",\"colorbar\":{\"outlinewidth\":0,\"ticks\":\"\"},\"colorscale\":[[0.0,\"#0d0887\"],[0.1111111111111111,\"#46039f\"],[0.2222222222222222,\"#7201a8\"],[0.3333333333333333,\"#9c179e\"],[0.4444444444444444,\"#bd3786\"],[0.5555555555555556,\"#d8576b\"],[0.6666666666666666,\"#ed7953\"],[0.7777777777777778,\"#fb9f3a\"],[0.8888888888888888,\"#fdca26\"],[1.0,\"#f0f921\"]]}],\"surface\":[{\"type\":\"surface\",\"colorbar\":{\"outlinewidth\":0,\"ticks\":\"\"},\"colorscale\":[[0.0,\"#0d0887\"],[0.1111111111111111,\"#46039f\"],[0.2222222222222222,\"#7201a8\"],[0.3333333333333333,\"#9c179e\"],[0.4444444444444444,\"#bd3786\"],[0.5555555555555556,\"#d8576b\"],[0.6666666666666666,\"#ed7953\"],[0.7777777777777778,\"#fb9f3a\"],[0.8888888888888888,\"#fdca26\"],[1.0,\"#f0f921\"]]}],\"mesh3d\":[{\"type\":\"mesh3d\",\"colorbar\":{\"outlinewidth\":0,\"ticks\":\"\"}}],\"scatter\":[{\"fillpattern\":{\"fillmode\":\"overlay\",\"size\":10,\"solidity\":0.2},\"type\":\"scatter\"}],\"parcoords\":[{\"type\":\"parcoords\",\"line\":{\"colorbar\":{\"outlinewidth\":0,\"ticks\":\"\"}}}],\"scatterpolargl\":[{\"type\":\"scatterpolargl\",\"marker\":{\"colorbar\":{\"outlinewidth\":0,\"ticks\":\"\"}}}],\"bar\":[{\"error_x\":{\"color\":\"#2a3f5f\"},\"error_y\":{\"color\":\"#2a3f5f\"},\"marker\":{\"line\":{\"color\":\"#E5ECF6\",\"width\":0.5},\"pattern\":{\"fillmode\":\"overlay\",\"size\":10,\"solidity\":0.2}},\"type\":\"bar\"}],\"scattergeo\":[{\"type\":\"scattergeo\",\"marker\":{\"colorbar\":{\"outlinewidth\":0,\"ticks\":\"\"}}}],\"scatterpolar\":[{\"type\":\"scatterpolar\",\"marker\":{\"colorbar\":{\"outlinewidth\":0,\"ticks\":\"\"}}}],\"histogram\":[{\"marker\":{\"pattern\":{\"fillmode\":\"overlay\",\"size\":10,\"solidity\":0.2}},\"type\":\"histogram\"}],\"scattergl\":[{\"type\":\"scattergl\",\"marker\":{\"colorbar\":{\"outlinewidth\":0,\"ticks\":\"\"}}}],\"scatter3d\":[{\"type\":\"scatter3d\",\"line\":{\"colorbar\":{\"outlinewidth\":0,\"ticks\":\"\"}},\"marker\":{\"colorbar\":{\"outlinewidth\":0,\"ticks\":\"\"}}}],\"scattermapbox\":[{\"type\":\"scattermapbox\",\"marker\":{\"colorbar\":{\"outlinewidth\":0,\"ticks\":\"\"}}}],\"scatterternary\":[{\"type\":\"scatterternary\",\"marker\":{\"colorbar\":{\"outlinewidth\":0,\"ticks\":\"\"}}}],\"scattercarpet\":[{\"type\":\"scattercarpet\",\"marker\":{\"colorbar\":{\"outlinewidth\":0,\"ticks\":\"\"}}}],\"carpet\":[{\"aaxis\":{\"endlinecolor\":\"#2a3f5f\",\"gridcolor\":\"white\",\"linecolor\":\"white\",\"minorgridcolor\":\"white\",\"startlinecolor\":\"#2a3f5f\"},\"baxis\":{\"endlinecolor\":\"#2a3f5f\",\"gridcolor\":\"white\",\"linecolor\":\"white\",\"minorgridcolor\":\"white\",\"startlinecolor\":\"#2a3f5f\"},\"type\":\"carpet\"}],\"table\":[{\"cells\":{\"fill\":{\"color\":\"#EBF0F8\"},\"line\":{\"color\":\"white\"}},\"header\":{\"fill\":{\"color\":\"#C8D4E3\"},\"line\":{\"color\":\"white\"}},\"type\":\"table\"}],\"barpolar\":[{\"marker\":{\"line\":{\"color\":\"#E5ECF6\",\"width\":0.5},\"pattern\":{\"fillmode\":\"overlay\",\"size\":10,\"solidity\":0.2}},\"type\":\"barpolar\"}],\"pie\":[{\"automargin\":true,\"type\":\"pie\"}]},\"layout\":{\"autotypenumbers\":\"strict\",\"colorway\":[\"#636efa\",\"#EF553B\",\"#00cc96\",\"#ab63fa\",\"#FFA15A\",\"#19d3f3\",\"#FF6692\",\"#B6E880\",\"#FF97FF\",\"#FECB52\"],\"font\":{\"color\":\"#2a3f5f\"},\"hovermode\":\"closest\",\"hoverlabel\":{\"align\":\"left\"},\"paper_bgcolor\":\"white\",\"plot_bgcolor\":\"#E5ECF6\",\"polar\":{\"bgcolor\":\"#E5ECF6\",\"angularaxis\":{\"gridcolor\":\"white\",\"linecolor\":\"white\",\"ticks\":\"\"},\"radialaxis\":{\"gridcolor\":\"white\",\"linecolor\":\"white\",\"ticks\":\"\"}},\"ternary\":{\"bgcolor\":\"#E5ECF6\",\"aaxis\":{\"gridcolor\":\"white\",\"linecolor\":\"white\",\"ticks\":\"\"},\"baxis\":{\"gridcolor\":\"white\",\"linecolor\":\"white\",\"ticks\":\"\"},\"caxis\":{\"gridcolor\":\"white\",\"linecolor\":\"white\",\"ticks\":\"\"}},\"coloraxis\":{\"colorbar\":{\"outlinewidth\":0,\"ticks\":\"\"}},\"colorscale\":{\"sequential\":[[0.0,\"#0d0887\"],[0.1111111111111111,\"#46039f\"],[0.2222222222222222,\"#7201a8\"],[0.3333333333333333,\"#9c179e\"],[0.4444444444444444,\"#bd3786\"],[0.5555555555555556,\"#d8576b\"],[0.6666666666666666,\"#ed7953\"],[0.7777777777777778,\"#fb9f3a\"],[0.8888888888888888,\"#fdca26\"],[1.0,\"#f0f921\"]],\"sequentialminus\":[[0.0,\"#0d0887\"],[0.1111111111111111,\"#46039f\"],[0.2222222222222222,\"#7201a8\"],[0.3333333333333333,\"#9c179e\"],[0.4444444444444444,\"#bd3786\"],[0.5555555555555556,\"#d8576b\"],[0.6666666666666666,\"#ed7953\"],[0.7777777777777778,\"#fb9f3a\"],[0.8888888888888888,\"#fdca26\"],[1.0,\"#f0f921\"]],\"diverging\":[[0,\"#8e0152\"],[0.1,\"#c51b7d\"],[0.2,\"#de77ae\"],[0.3,\"#f1b6da\"],[0.4,\"#fde0ef\"],[0.5,\"#f7f7f7\"],[0.6,\"#e6f5d0\"],[0.7,\"#b8e186\"],[0.8,\"#7fbc41\"],[0.9,\"#4d9221\"],[1,\"#276419\"]]},\"xaxis\":{\"gridcolor\":\"white\",\"linecolor\":\"white\",\"ticks\":\"\",\"title\":{\"standoff\":15},\"zerolinecolor\":\"white\",\"automargin\":true,\"zerolinewidth\":2},\"yaxis\":{\"gridcolor\":\"white\",\"linecolor\":\"white\",\"ticks\":\"\",\"title\":{\"standoff\":15},\"zerolinecolor\":\"white\",\"automargin\":true,\"zerolinewidth\":2},\"scene\":{\"xaxis\":{\"backgroundcolor\":\"#E5ECF6\",\"gridcolor\":\"white\",\"linecolor\":\"white\",\"showbackground\":true,\"ticks\":\"\",\"zerolinecolor\":\"white\",\"gridwidth\":2},\"yaxis\":{\"backgroundcolor\":\"#E5ECF6\",\"gridcolor\":\"white\",\"linecolor\":\"white\",\"showbackground\":true,\"ticks\":\"\",\"zerolinecolor\":\"white\",\"gridwidth\":2},\"zaxis\":{\"backgroundcolor\":\"#E5ECF6\",\"gridcolor\":\"white\",\"linecolor\":\"white\",\"showbackground\":true,\"ticks\":\"\",\"zerolinecolor\":\"white\",\"gridwidth\":2}},\"shapedefaults\":{\"line\":{\"color\":\"#2a3f5f\"}},\"annotationdefaults\":{\"arrowcolor\":\"#2a3f5f\",\"arrowhead\":0,\"arrowwidth\":1},\"geo\":{\"bgcolor\":\"white\",\"landcolor\":\"#E5ECF6\",\"subunitcolor\":\"white\",\"showland\":true,\"showlakes\":true,\"lakecolor\":\"white\"},\"title\":{\"x\":0.05},\"mapbox\":{\"style\":\"light\"}}},\"xaxis\":{\"anchor\":\"y\",\"domain\":[0.0,0.2888888888888889]},\"yaxis\":{\"anchor\":\"x\",\"domain\":[0.0,1.0]},\"xaxis2\":{\"anchor\":\"y2\",\"domain\":[0.35555555555555557,0.6444444444444445]},\"yaxis2\":{\"anchor\":\"x2\",\"domain\":[0.0,1.0]},\"xaxis3\":{\"anchor\":\"y3\",\"domain\":[0.7111111111111111,1.0]},\"yaxis3\":{\"anchor\":\"x3\",\"domain\":[0.0,1.0]},\"annotations\":[{\"font\":{\"size\":16},\"showarrow\":false,\"text\":\"Average Recency (Days)\",\"x\":0.14444444444444446,\"xanchor\":\"center\",\"xref\":\"paper\",\"y\":1.0,\"yanchor\":\"bottom\",\"yref\":\"paper\"},{\"font\":{\"size\":16},\"showarrow\":false,\"text\":\"Average Frequency (Orders)\",\"x\":0.5,\"xanchor\":\"center\",\"xref\":\"paper\",\"y\":1.0,\"yanchor\":\"bottom\",\"yref\":\"paper\"},{\"font\":{\"size\":16},\"showarrow\":false,\"text\":\"Average Monetary Value ($)\",\"x\":0.8555555555555556,\"xanchor\":\"center\",\"xref\":\"paper\",\"y\":1.0,\"yanchor\":\"bottom\",\"yref\":\"paper\"}],\"title\":{\"text\":\"Customer Segment Characteristics\"},\"showlegend\":false},                        {\"responsive\": true}                    ).then(function(){\n",
       "                            \n",
       "var gd = document.getElementById('0091668c-1217-4ba6-8746-0e289ed02415');\n",
       "var x = new MutationObserver(function (mutations, observer) {{\n",
       "        var display = window.getComputedStyle(gd).display;\n",
       "        if (!display || display === 'none') {{\n",
       "            console.log([gd, 'removed!']);\n",
       "            Plotly.purge(gd);\n",
       "            observer.disconnect();\n",
       "        }}\n",
       "}});\n",
       "\n",
       "// Listen for the removal of the full notebook cells\n",
       "var notebookContainer = gd.closest('#notebook-container');\n",
       "if (notebookContainer) {{\n",
       "    x.observe(notebookContainer, {childList: true});\n",
       "}}\n",
       "\n",
       "// Listen for the clearing of the current output cell\n",
       "var outputEl = gd.closest('.output');\n",
       "if (outputEl) {{\n",
       "    x.observe(outputEl, {childList: true});\n",
       "}}\n",
       "\n",
       "                        })                };                });            </script>        </div>"
      ]
     },
     "metadata": {},
     "output_type": "display_data"
    },
    {
     "name": "stdout",
     "output_type": "stream",
     "text": [
      "Generating Plot 3: Segment Size & Value Treemap\n"
     ]
    },
    {
     "name": "stderr",
     "output_type": "stream",
     "text": [
      "C:\\Users\\jaiku\\AppData\\Local\\Temp\\ipykernel_4304\\2344381323.py:127: FutureWarning:\n",
      "\n",
      "The default of observed=False is deprecated and will be changed to True in a future version of pandas. Pass observed=False to retain current behavior or observed=True to adopt the future default and silence this warning.\n",
      "\n",
      "C:\\Users\\jaiku\\anaconda3\\Lib\\site-packages\\plotly\\express\\_core.py:1727: FutureWarning:\n",
      "\n",
      "The default of observed=False is deprecated and will be changed to True in a future version of pandas. Pass observed=False to retain current behavior or observed=True to adopt the future default and silence this warning.\n",
      "\n"
     ]
    },
    {
     "data": {
      "application/vnd.plotly.v1+json": {
       "data": [
        {
         "branchvalues": "total",
         "customdata": [
          [
           "Champions (High-Value)",
           129,
           663564.5447
          ],
          [
           "Loyal Customers (Mid-Value)",
           130,
           401281.2413
          ],
          [
           "New / Potential Customers",
           618,
           597643.8416
          ],
          [
           "At Risk / Churned",
           568,
           545525.8237
          ],
          [
           "(?)",
           1445,
           565376.4357132872
          ]
         ],
         "domain": {
          "x": [
           0.0,
           1.0
          ],
          "y": [
           0.0,
           1.0
          ]
         },
         "hovertemplate": "labels=%{label}<br>customer_count=%{customdata[1]:.}<br>parent=%{parent}<br>id=%{id}<br>total_value=%{color:$,.2f}<extra></extra>",
         "ids": [
          "All Customers/Champions (High-Value)",
          "All Customers/Loyal Customers (Mid-Value)",
          "All Customers/New / Potential Customers",
          "All Customers/At Risk / Churned",
          "All Customers"
         ],
         "labels": [
          "Champions (High-Value)",
          "Loyal Customers (Mid-Value)",
          "New / Potential Customers",
          "At Risk / Churned",
          "All Customers"
         ],
         "marker": {
          "coloraxis": "coloraxis",
          "colors": [
           663564.5447,
           401281.2413,
           597643.8416,
           545525.8237,
           565376.4357132872
          ]
         },
         "name": "",
         "parents": [
          "All Customers",
          "All Customers",
          "All Customers",
          "All Customers",
          ""
         ],
         "values": [
          129,
          130,
          618,
          568,
          1445
         ],
         "type": "treemap",
         "textposition": "middle center",
         "texttemplate": "<b>%{label}</b><br>%{value} Customers<br>%{percentParent:.1%} of Total"
        }
       ],
       "layout": {
        "template": {
         "data": {
          "histogram2dcontour": [
           {
            "type": "histogram2dcontour",
            "colorbar": {
             "outlinewidth": 0,
             "ticks": ""
            },
            "colorscale": [
             [
              0.0,
              "#0d0887"
             ],
             [
              0.1111111111111111,
              "#46039f"
             ],
             [
              0.2222222222222222,
              "#7201a8"
             ],
             [
              0.3333333333333333,
              "#9c179e"
             ],
             [
              0.4444444444444444,
              "#bd3786"
             ],
             [
              0.5555555555555556,
              "#d8576b"
             ],
             [
              0.6666666666666666,
              "#ed7953"
             ],
             [
              0.7777777777777778,
              "#fb9f3a"
             ],
             [
              0.8888888888888888,
              "#fdca26"
             ],
             [
              1.0,
              "#f0f921"
             ]
            ]
           }
          ],
          "choropleth": [
           {
            "type": "choropleth",
            "colorbar": {
             "outlinewidth": 0,
             "ticks": ""
            }
           }
          ],
          "histogram2d": [
           {
            "type": "histogram2d",
            "colorbar": {
             "outlinewidth": 0,
             "ticks": ""
            },
            "colorscale": [
             [
              0.0,
              "#0d0887"
             ],
             [
              0.1111111111111111,
              "#46039f"
             ],
             [
              0.2222222222222222,
              "#7201a8"
             ],
             [
              0.3333333333333333,
              "#9c179e"
             ],
             [
              0.4444444444444444,
              "#bd3786"
             ],
             [
              0.5555555555555556,
              "#d8576b"
             ],
             [
              0.6666666666666666,
              "#ed7953"
             ],
             [
              0.7777777777777778,
              "#fb9f3a"
             ],
             [
              0.8888888888888888,
              "#fdca26"
             ],
             [
              1.0,
              "#f0f921"
             ]
            ]
           }
          ],
          "heatmap": [
           {
            "type": "heatmap",
            "colorbar": {
             "outlinewidth": 0,
             "ticks": ""
            },
            "colorscale": [
             [
              0.0,
              "#0d0887"
             ],
             [
              0.1111111111111111,
              "#46039f"
             ],
             [
              0.2222222222222222,
              "#7201a8"
             ],
             [
              0.3333333333333333,
              "#9c179e"
             ],
             [
              0.4444444444444444,
              "#bd3786"
             ],
             [
              0.5555555555555556,
              "#d8576b"
             ],
             [
              0.6666666666666666,
              "#ed7953"
             ],
             [
              0.7777777777777778,
              "#fb9f3a"
             ],
             [
              0.8888888888888888,
              "#fdca26"
             ],
             [
              1.0,
              "#f0f921"
             ]
            ]
           }
          ],
          "heatmapgl": [
           {
            "type": "heatmapgl",
            "colorbar": {
             "outlinewidth": 0,
             "ticks": ""
            },
            "colorscale": [
             [
              0.0,
              "#0d0887"
             ],
             [
              0.1111111111111111,
              "#46039f"
             ],
             [
              0.2222222222222222,
              "#7201a8"
             ],
             [
              0.3333333333333333,
              "#9c179e"
             ],
             [
              0.4444444444444444,
              "#bd3786"
             ],
             [
              0.5555555555555556,
              "#d8576b"
             ],
             [
              0.6666666666666666,
              "#ed7953"
             ],
             [
              0.7777777777777778,
              "#fb9f3a"
             ],
             [
              0.8888888888888888,
              "#fdca26"
             ],
             [
              1.0,
              "#f0f921"
             ]
            ]
           }
          ],
          "contourcarpet": [
           {
            "type": "contourcarpet",
            "colorbar": {
             "outlinewidth": 0,
             "ticks": ""
            }
           }
          ],
          "contour": [
           {
            "type": "contour",
            "colorbar": {
             "outlinewidth": 0,
             "ticks": ""
            },
            "colorscale": [
             [
              0.0,
              "#0d0887"
             ],
             [
              0.1111111111111111,
              "#46039f"
             ],
             [
              0.2222222222222222,
              "#7201a8"
             ],
             [
              0.3333333333333333,
              "#9c179e"
             ],
             [
              0.4444444444444444,
              "#bd3786"
             ],
             [
              0.5555555555555556,
              "#d8576b"
             ],
             [
              0.6666666666666666,
              "#ed7953"
             ],
             [
              0.7777777777777778,
              "#fb9f3a"
             ],
             [
              0.8888888888888888,
              "#fdca26"
             ],
             [
              1.0,
              "#f0f921"
             ]
            ]
           }
          ],
          "surface": [
           {
            "type": "surface",
            "colorbar": {
             "outlinewidth": 0,
             "ticks": ""
            },
            "colorscale": [
             [
              0.0,
              "#0d0887"
             ],
             [
              0.1111111111111111,
              "#46039f"
             ],
             [
              0.2222222222222222,
              "#7201a8"
             ],
             [
              0.3333333333333333,
              "#9c179e"
             ],
             [
              0.4444444444444444,
              "#bd3786"
             ],
             [
              0.5555555555555556,
              "#d8576b"
             ],
             [
              0.6666666666666666,
              "#ed7953"
             ],
             [
              0.7777777777777778,
              "#fb9f3a"
             ],
             [
              0.8888888888888888,
              "#fdca26"
             ],
             [
              1.0,
              "#f0f921"
             ]
            ]
           }
          ],
          "mesh3d": [
           {
            "type": "mesh3d",
            "colorbar": {
             "outlinewidth": 0,
             "ticks": ""
            }
           }
          ],
          "scatter": [
           {
            "fillpattern": {
             "fillmode": "overlay",
             "size": 10,
             "solidity": 0.2
            },
            "type": "scatter"
           }
          ],
          "parcoords": [
           {
            "type": "parcoords",
            "line": {
             "colorbar": {
              "outlinewidth": 0,
              "ticks": ""
             }
            }
           }
          ],
          "scatterpolargl": [
           {
            "type": "scatterpolargl",
            "marker": {
             "colorbar": {
              "outlinewidth": 0,
              "ticks": ""
             }
            }
           }
          ],
          "bar": [
           {
            "error_x": {
             "color": "#2a3f5f"
            },
            "error_y": {
             "color": "#2a3f5f"
            },
            "marker": {
             "line": {
              "color": "#E5ECF6",
              "width": 0.5
             },
             "pattern": {
              "fillmode": "overlay",
              "size": 10,
              "solidity": 0.2
             }
            },
            "type": "bar"
           }
          ],
          "scattergeo": [
           {
            "type": "scattergeo",
            "marker": {
             "colorbar": {
              "outlinewidth": 0,
              "ticks": ""
             }
            }
           }
          ],
          "scatterpolar": [
           {
            "type": "scatterpolar",
            "marker": {
             "colorbar": {
              "outlinewidth": 0,
              "ticks": ""
             }
            }
           }
          ],
          "histogram": [
           {
            "marker": {
             "pattern": {
              "fillmode": "overlay",
              "size": 10,
              "solidity": 0.2
             }
            },
            "type": "histogram"
           }
          ],
          "scattergl": [
           {
            "type": "scattergl",
            "marker": {
             "colorbar": {
              "outlinewidth": 0,
              "ticks": ""
             }
            }
           }
          ],
          "scatter3d": [
           {
            "type": "scatter3d",
            "line": {
             "colorbar": {
              "outlinewidth": 0,
              "ticks": ""
             }
            },
            "marker": {
             "colorbar": {
              "outlinewidth": 0,
              "ticks": ""
             }
            }
           }
          ],
          "scattermapbox": [
           {
            "type": "scattermapbox",
            "marker": {
             "colorbar": {
              "outlinewidth": 0,
              "ticks": ""
             }
            }
           }
          ],
          "scatterternary": [
           {
            "type": "scatterternary",
            "marker": {
             "colorbar": {
              "outlinewidth": 0,
              "ticks": ""
             }
            }
           }
          ],
          "scattercarpet": [
           {
            "type": "scattercarpet",
            "marker": {
             "colorbar": {
              "outlinewidth": 0,
              "ticks": ""
             }
            }
           }
          ],
          "carpet": [
           {
            "aaxis": {
             "endlinecolor": "#2a3f5f",
             "gridcolor": "white",
             "linecolor": "white",
             "minorgridcolor": "white",
             "startlinecolor": "#2a3f5f"
            },
            "baxis": {
             "endlinecolor": "#2a3f5f",
             "gridcolor": "white",
             "linecolor": "white",
             "minorgridcolor": "white",
             "startlinecolor": "#2a3f5f"
            },
            "type": "carpet"
           }
          ],
          "table": [
           {
            "cells": {
             "fill": {
              "color": "#EBF0F8"
             },
             "line": {
              "color": "white"
             }
            },
            "header": {
             "fill": {
              "color": "#C8D4E3"
             },
             "line": {
              "color": "white"
             }
            },
            "type": "table"
           }
          ],
          "barpolar": [
           {
            "marker": {
             "line": {
              "color": "#E5ECF6",
              "width": 0.5
             },
             "pattern": {
              "fillmode": "overlay",
              "size": 10,
              "solidity": 0.2
             }
            },
            "type": "barpolar"
           }
          ],
          "pie": [
           {
            "automargin": true,
            "type": "pie"
           }
          ]
         },
         "layout": {
          "autotypenumbers": "strict",
          "colorway": [
           "#636efa",
           "#EF553B",
           "#00cc96",
           "#ab63fa",
           "#FFA15A",
           "#19d3f3",
           "#FF6692",
           "#B6E880",
           "#FF97FF",
           "#FECB52"
          ],
          "font": {
           "color": "#2a3f5f"
          },
          "hovermode": "closest",
          "hoverlabel": {
           "align": "left"
          },
          "paper_bgcolor": "white",
          "plot_bgcolor": "#E5ECF6",
          "polar": {
           "bgcolor": "#E5ECF6",
           "angularaxis": {
            "gridcolor": "white",
            "linecolor": "white",
            "ticks": ""
           },
           "radialaxis": {
            "gridcolor": "white",
            "linecolor": "white",
            "ticks": ""
           }
          },
          "ternary": {
           "bgcolor": "#E5ECF6",
           "aaxis": {
            "gridcolor": "white",
            "linecolor": "white",
            "ticks": ""
           },
           "baxis": {
            "gridcolor": "white",
            "linecolor": "white",
            "ticks": ""
           },
           "caxis": {
            "gridcolor": "white",
            "linecolor": "white",
            "ticks": ""
           }
          },
          "coloraxis": {
           "colorbar": {
            "outlinewidth": 0,
            "ticks": ""
           }
          },
          "colorscale": {
           "sequential": [
            [
             0.0,
             "#0d0887"
            ],
            [
             0.1111111111111111,
             "#46039f"
            ],
            [
             0.2222222222222222,
             "#7201a8"
            ],
            [
             0.3333333333333333,
             "#9c179e"
            ],
            [
             0.4444444444444444,
             "#bd3786"
            ],
            [
             0.5555555555555556,
             "#d8576b"
            ],
            [
             0.6666666666666666,
             "#ed7953"
            ],
            [
             0.7777777777777778,
             "#fb9f3a"
            ],
            [
             0.8888888888888888,
             "#fdca26"
            ],
            [
             1.0,
             "#f0f921"
            ]
           ],
           "sequentialminus": [
            [
             0.0,
             "#0d0887"
            ],
            [
             0.1111111111111111,
             "#46039f"
            ],
            [
             0.2222222222222222,
             "#7201a8"
            ],
            [
             0.3333333333333333,
             "#9c179e"
            ],
            [
             0.4444444444444444,
             "#bd3786"
            ],
            [
             0.5555555555555556,
             "#d8576b"
            ],
            [
             0.6666666666666666,
             "#ed7953"
            ],
            [
             0.7777777777777778,
             "#fb9f3a"
            ],
            [
             0.8888888888888888,
             "#fdca26"
            ],
            [
             1.0,
             "#f0f921"
            ]
           ],
           "diverging": [
            [
             0,
             "#8e0152"
            ],
            [
             0.1,
             "#c51b7d"
            ],
            [
             0.2,
             "#de77ae"
            ],
            [
             0.3,
             "#f1b6da"
            ],
            [
             0.4,
             "#fde0ef"
            ],
            [
             0.5,
             "#f7f7f7"
            ],
            [
             0.6,
             "#e6f5d0"
            ],
            [
             0.7,
             "#b8e186"
            ],
            [
             0.8,
             "#7fbc41"
            ],
            [
             0.9,
             "#4d9221"
            ],
            [
             1,
             "#276419"
            ]
           ]
          },
          "xaxis": {
           "gridcolor": "white",
           "linecolor": "white",
           "ticks": "",
           "title": {
            "standoff": 15
           },
           "zerolinecolor": "white",
           "automargin": true,
           "zerolinewidth": 2
          },
          "yaxis": {
           "gridcolor": "white",
           "linecolor": "white",
           "ticks": "",
           "title": {
            "standoff": 15
           },
           "zerolinecolor": "white",
           "automargin": true,
           "zerolinewidth": 2
          },
          "scene": {
           "xaxis": {
            "backgroundcolor": "#E5ECF6",
            "gridcolor": "white",
            "linecolor": "white",
            "showbackground": true,
            "ticks": "",
            "zerolinecolor": "white",
            "gridwidth": 2
           },
           "yaxis": {
            "backgroundcolor": "#E5ECF6",
            "gridcolor": "white",
            "linecolor": "white",
            "showbackground": true,
            "ticks": "",
            "zerolinecolor": "white",
            "gridwidth": 2
           },
           "zaxis": {
            "backgroundcolor": "#E5ECF6",
            "gridcolor": "white",
            "linecolor": "white",
            "showbackground": true,
            "ticks": "",
            "zerolinecolor": "white",
            "gridwidth": 2
           }
          },
          "shapedefaults": {
           "line": {
            "color": "#2a3f5f"
           }
          },
          "annotationdefaults": {
           "arrowcolor": "#2a3f5f",
           "arrowhead": 0,
           "arrowwidth": 1
          },
          "geo": {
           "bgcolor": "white",
           "landcolor": "#E5ECF6",
           "subunitcolor": "white",
           "showland": true,
           "showlakes": true,
           "lakecolor": "white"
          },
          "title": {
           "x": 0.05
          },
          "mapbox": {
           "style": "light"
          }
         }
        },
        "coloraxis": {
         "colorbar": {
          "title": {
           "text": "total_value"
          }
         },
         "colorscale": [
          [
           0.0,
           "rgb(247,252,245)"
          ],
          [
           0.125,
           "rgb(229,245,224)"
          ],
          [
           0.25,
           "rgb(199,233,192)"
          ],
          [
           0.375,
           "rgb(161,217,155)"
          ],
          [
           0.5,
           "rgb(116,196,118)"
          ],
          [
           0.625,
           "rgb(65,171,93)"
          ],
          [
           0.75,
           "rgb(35,139,69)"
          ],
          [
           0.875,
           "rgb(0,109,44)"
          ],
          [
           1.0,
           "rgb(0,68,27)"
          ]
         ]
        },
        "legend": {
         "tracegroupgap": 0
        },
        "title": {
         "text": "Customer Segment Size (by Count) & Total Value (by Color)"
        },
        "margin": {
         "l": 0,
         "r": 0,
         "b": 0,
         "t": 30
        }
       },
       "config": {
        "plotlyServerURL": "https://plot.ly"
       }
      },
      "text/html": [
       "<div>                            <div id=\"8f997ea5-5dc5-4435-9377-f6c13a506ccd\" class=\"plotly-graph-div\" style=\"height:525px; width:100%;\"></div>            <script type=\"text/javascript\">                require([\"plotly\"], function(Plotly) {                    window.PLOTLYENV=window.PLOTLYENV || {};                                    if (document.getElementById(\"8f997ea5-5dc5-4435-9377-f6c13a506ccd\")) {                    Plotly.newPlot(                        \"8f997ea5-5dc5-4435-9377-f6c13a506ccd\",                        [{\"branchvalues\":\"total\",\"customdata\":[[\"Champions (High-Value)\",129,663564.5447],[\"Loyal Customers (Mid-Value)\",130,401281.2413],[\"New \\u002f Potential Customers\",618,597643.8416],[\"At Risk \\u002f Churned\",568,545525.8237],[\"(?)\",1445,565376.4357132872]],\"domain\":{\"x\":[0.0,1.0],\"y\":[0.0,1.0]},\"hovertemplate\":\"labels=%{label}\\u003cbr\\u003ecustomer_count=%{customdata[1]:.}\\u003cbr\\u003eparent=%{parent}\\u003cbr\\u003eid=%{id}\\u003cbr\\u003etotal_value=%{color:$,.2f}\\u003cextra\\u003e\\u003c\\u002fextra\\u003e\",\"ids\":[\"All Customers\\u002fChampions (High-Value)\",\"All Customers\\u002fLoyal Customers (Mid-Value)\",\"All Customers\\u002fNew \\u002f Potential Customers\",\"All Customers\\u002fAt Risk \\u002f Churned\",\"All Customers\"],\"labels\":[\"Champions (High-Value)\",\"Loyal Customers (Mid-Value)\",\"New \\u002f Potential Customers\",\"At Risk \\u002f Churned\",\"All Customers\"],\"marker\":{\"coloraxis\":\"coloraxis\",\"colors\":[663564.5447,401281.2413,597643.8416,545525.8237,565376.4357132872]},\"name\":\"\",\"parents\":[\"All Customers\",\"All Customers\",\"All Customers\",\"All Customers\",\"\"],\"values\":[129,130,618,568,1445],\"type\":\"treemap\",\"textposition\":\"middle center\",\"texttemplate\":\"\\u003cb\\u003e%{label}\\u003c\\u002fb\\u003e\\u003cbr\\u003e%{value} Customers\\u003cbr\\u003e%{percentParent:.1%} of Total\"}],                        {\"template\":{\"data\":{\"histogram2dcontour\":[{\"type\":\"histogram2dcontour\",\"colorbar\":{\"outlinewidth\":0,\"ticks\":\"\"},\"colorscale\":[[0.0,\"#0d0887\"],[0.1111111111111111,\"#46039f\"],[0.2222222222222222,\"#7201a8\"],[0.3333333333333333,\"#9c179e\"],[0.4444444444444444,\"#bd3786\"],[0.5555555555555556,\"#d8576b\"],[0.6666666666666666,\"#ed7953\"],[0.7777777777777778,\"#fb9f3a\"],[0.8888888888888888,\"#fdca26\"],[1.0,\"#f0f921\"]]}],\"choropleth\":[{\"type\":\"choropleth\",\"colorbar\":{\"outlinewidth\":0,\"ticks\":\"\"}}],\"histogram2d\":[{\"type\":\"histogram2d\",\"colorbar\":{\"outlinewidth\":0,\"ticks\":\"\"},\"colorscale\":[[0.0,\"#0d0887\"],[0.1111111111111111,\"#46039f\"],[0.2222222222222222,\"#7201a8\"],[0.3333333333333333,\"#9c179e\"],[0.4444444444444444,\"#bd3786\"],[0.5555555555555556,\"#d8576b\"],[0.6666666666666666,\"#ed7953\"],[0.7777777777777778,\"#fb9f3a\"],[0.8888888888888888,\"#fdca26\"],[1.0,\"#f0f921\"]]}],\"heatmap\":[{\"type\":\"heatmap\",\"colorbar\":{\"outlinewidth\":0,\"ticks\":\"\"},\"colorscale\":[[0.0,\"#0d0887\"],[0.1111111111111111,\"#46039f\"],[0.2222222222222222,\"#7201a8\"],[0.3333333333333333,\"#9c179e\"],[0.4444444444444444,\"#bd3786\"],[0.5555555555555556,\"#d8576b\"],[0.6666666666666666,\"#ed7953\"],[0.7777777777777778,\"#fb9f3a\"],[0.8888888888888888,\"#fdca26\"],[1.0,\"#f0f921\"]]}],\"heatmapgl\":[{\"type\":\"heatmapgl\",\"colorbar\":{\"outlinewidth\":0,\"ticks\":\"\"},\"colorscale\":[[0.0,\"#0d0887\"],[0.1111111111111111,\"#46039f\"],[0.2222222222222222,\"#7201a8\"],[0.3333333333333333,\"#9c179e\"],[0.4444444444444444,\"#bd3786\"],[0.5555555555555556,\"#d8576b\"],[0.6666666666666666,\"#ed7953\"],[0.7777777777777778,\"#fb9f3a\"],[0.8888888888888888,\"#fdca26\"],[1.0,\"#f0f921\"]]}],\"contourcarpet\":[{\"type\":\"contourcarpet\",\"colorbar\":{\"outlinewidth\":0,\"ticks\":\"\"}}],\"contour\":[{\"type\":\"contour\",\"colorbar\":{\"outlinewidth\":0,\"ticks\":\"\"},\"colorscale\":[[0.0,\"#0d0887\"],[0.1111111111111111,\"#46039f\"],[0.2222222222222222,\"#7201a8\"],[0.3333333333333333,\"#9c179e\"],[0.4444444444444444,\"#bd3786\"],[0.5555555555555556,\"#d8576b\"],[0.6666666666666666,\"#ed7953\"],[0.7777777777777778,\"#fb9f3a\"],[0.8888888888888888,\"#fdca26\"],[1.0,\"#f0f921\"]]}],\"surface\":[{\"type\":\"surface\",\"colorbar\":{\"outlinewidth\":0,\"ticks\":\"\"},\"colorscale\":[[0.0,\"#0d0887\"],[0.1111111111111111,\"#46039f\"],[0.2222222222222222,\"#7201a8\"],[0.3333333333333333,\"#9c179e\"],[0.4444444444444444,\"#bd3786\"],[0.5555555555555556,\"#d8576b\"],[0.6666666666666666,\"#ed7953\"],[0.7777777777777778,\"#fb9f3a\"],[0.8888888888888888,\"#fdca26\"],[1.0,\"#f0f921\"]]}],\"mesh3d\":[{\"type\":\"mesh3d\",\"colorbar\":{\"outlinewidth\":0,\"ticks\":\"\"}}],\"scatter\":[{\"fillpattern\":{\"fillmode\":\"overlay\",\"size\":10,\"solidity\":0.2},\"type\":\"scatter\"}],\"parcoords\":[{\"type\":\"parcoords\",\"line\":{\"colorbar\":{\"outlinewidth\":0,\"ticks\":\"\"}}}],\"scatterpolargl\":[{\"type\":\"scatterpolargl\",\"marker\":{\"colorbar\":{\"outlinewidth\":0,\"ticks\":\"\"}}}],\"bar\":[{\"error_x\":{\"color\":\"#2a3f5f\"},\"error_y\":{\"color\":\"#2a3f5f\"},\"marker\":{\"line\":{\"color\":\"#E5ECF6\",\"width\":0.5},\"pattern\":{\"fillmode\":\"overlay\",\"size\":10,\"solidity\":0.2}},\"type\":\"bar\"}],\"scattergeo\":[{\"type\":\"scattergeo\",\"marker\":{\"colorbar\":{\"outlinewidth\":0,\"ticks\":\"\"}}}],\"scatterpolar\":[{\"type\":\"scatterpolar\",\"marker\":{\"colorbar\":{\"outlinewidth\":0,\"ticks\":\"\"}}}],\"histogram\":[{\"marker\":{\"pattern\":{\"fillmode\":\"overlay\",\"size\":10,\"solidity\":0.2}},\"type\":\"histogram\"}],\"scattergl\":[{\"type\":\"scattergl\",\"marker\":{\"colorbar\":{\"outlinewidth\":0,\"ticks\":\"\"}}}],\"scatter3d\":[{\"type\":\"scatter3d\",\"line\":{\"colorbar\":{\"outlinewidth\":0,\"ticks\":\"\"}},\"marker\":{\"colorbar\":{\"outlinewidth\":0,\"ticks\":\"\"}}}],\"scattermapbox\":[{\"type\":\"scattermapbox\",\"marker\":{\"colorbar\":{\"outlinewidth\":0,\"ticks\":\"\"}}}],\"scatterternary\":[{\"type\":\"scatterternary\",\"marker\":{\"colorbar\":{\"outlinewidth\":0,\"ticks\":\"\"}}}],\"scattercarpet\":[{\"type\":\"scattercarpet\",\"marker\":{\"colorbar\":{\"outlinewidth\":0,\"ticks\":\"\"}}}],\"carpet\":[{\"aaxis\":{\"endlinecolor\":\"#2a3f5f\",\"gridcolor\":\"white\",\"linecolor\":\"white\",\"minorgridcolor\":\"white\",\"startlinecolor\":\"#2a3f5f\"},\"baxis\":{\"endlinecolor\":\"#2a3f5f\",\"gridcolor\":\"white\",\"linecolor\":\"white\",\"minorgridcolor\":\"white\",\"startlinecolor\":\"#2a3f5f\"},\"type\":\"carpet\"}],\"table\":[{\"cells\":{\"fill\":{\"color\":\"#EBF0F8\"},\"line\":{\"color\":\"white\"}},\"header\":{\"fill\":{\"color\":\"#C8D4E3\"},\"line\":{\"color\":\"white\"}},\"type\":\"table\"}],\"barpolar\":[{\"marker\":{\"line\":{\"color\":\"#E5ECF6\",\"width\":0.5},\"pattern\":{\"fillmode\":\"overlay\",\"size\":10,\"solidity\":0.2}},\"type\":\"barpolar\"}],\"pie\":[{\"automargin\":true,\"type\":\"pie\"}]},\"layout\":{\"autotypenumbers\":\"strict\",\"colorway\":[\"#636efa\",\"#EF553B\",\"#00cc96\",\"#ab63fa\",\"#FFA15A\",\"#19d3f3\",\"#FF6692\",\"#B6E880\",\"#FF97FF\",\"#FECB52\"],\"font\":{\"color\":\"#2a3f5f\"},\"hovermode\":\"closest\",\"hoverlabel\":{\"align\":\"left\"},\"paper_bgcolor\":\"white\",\"plot_bgcolor\":\"#E5ECF6\",\"polar\":{\"bgcolor\":\"#E5ECF6\",\"angularaxis\":{\"gridcolor\":\"white\",\"linecolor\":\"white\",\"ticks\":\"\"},\"radialaxis\":{\"gridcolor\":\"white\",\"linecolor\":\"white\",\"ticks\":\"\"}},\"ternary\":{\"bgcolor\":\"#E5ECF6\",\"aaxis\":{\"gridcolor\":\"white\",\"linecolor\":\"white\",\"ticks\":\"\"},\"baxis\":{\"gridcolor\":\"white\",\"linecolor\":\"white\",\"ticks\":\"\"},\"caxis\":{\"gridcolor\":\"white\",\"linecolor\":\"white\",\"ticks\":\"\"}},\"coloraxis\":{\"colorbar\":{\"outlinewidth\":0,\"ticks\":\"\"}},\"colorscale\":{\"sequential\":[[0.0,\"#0d0887\"],[0.1111111111111111,\"#46039f\"],[0.2222222222222222,\"#7201a8\"],[0.3333333333333333,\"#9c179e\"],[0.4444444444444444,\"#bd3786\"],[0.5555555555555556,\"#d8576b\"],[0.6666666666666666,\"#ed7953\"],[0.7777777777777778,\"#fb9f3a\"],[0.8888888888888888,\"#fdca26\"],[1.0,\"#f0f921\"]],\"sequentialminus\":[[0.0,\"#0d0887\"],[0.1111111111111111,\"#46039f\"],[0.2222222222222222,\"#7201a8\"],[0.3333333333333333,\"#9c179e\"],[0.4444444444444444,\"#bd3786\"],[0.5555555555555556,\"#d8576b\"],[0.6666666666666666,\"#ed7953\"],[0.7777777777777778,\"#fb9f3a\"],[0.8888888888888888,\"#fdca26\"],[1.0,\"#f0f921\"]],\"diverging\":[[0,\"#8e0152\"],[0.1,\"#c51b7d\"],[0.2,\"#de77ae\"],[0.3,\"#f1b6da\"],[0.4,\"#fde0ef\"],[0.5,\"#f7f7f7\"],[0.6,\"#e6f5d0\"],[0.7,\"#b8e186\"],[0.8,\"#7fbc41\"],[0.9,\"#4d9221\"],[1,\"#276419\"]]},\"xaxis\":{\"gridcolor\":\"white\",\"linecolor\":\"white\",\"ticks\":\"\",\"title\":{\"standoff\":15},\"zerolinecolor\":\"white\",\"automargin\":true,\"zerolinewidth\":2},\"yaxis\":{\"gridcolor\":\"white\",\"linecolor\":\"white\",\"ticks\":\"\",\"title\":{\"standoff\":15},\"zerolinecolor\":\"white\",\"automargin\":true,\"zerolinewidth\":2},\"scene\":{\"xaxis\":{\"backgroundcolor\":\"#E5ECF6\",\"gridcolor\":\"white\",\"linecolor\":\"white\",\"showbackground\":true,\"ticks\":\"\",\"zerolinecolor\":\"white\",\"gridwidth\":2},\"yaxis\":{\"backgroundcolor\":\"#E5ECF6\",\"gridcolor\":\"white\",\"linecolor\":\"white\",\"showbackground\":true,\"ticks\":\"\",\"zerolinecolor\":\"white\",\"gridwidth\":2},\"zaxis\":{\"backgroundcolor\":\"#E5ECF6\",\"gridcolor\":\"white\",\"linecolor\":\"white\",\"showbackground\":true,\"ticks\":\"\",\"zerolinecolor\":\"white\",\"gridwidth\":2}},\"shapedefaults\":{\"line\":{\"color\":\"#2a3f5f\"}},\"annotationdefaults\":{\"arrowcolor\":\"#2a3f5f\",\"arrowhead\":0,\"arrowwidth\":1},\"geo\":{\"bgcolor\":\"white\",\"landcolor\":\"#E5ECF6\",\"subunitcolor\":\"white\",\"showland\":true,\"showlakes\":true,\"lakecolor\":\"white\"},\"title\":{\"x\":0.05},\"mapbox\":{\"style\":\"light\"}}},\"coloraxis\":{\"colorbar\":{\"title\":{\"text\":\"total_value\"}},\"colorscale\":[[0.0,\"rgb(247,252,245)\"],[0.125,\"rgb(229,245,224)\"],[0.25,\"rgb(199,233,192)\"],[0.375,\"rgb(161,217,155)\"],[0.5,\"rgb(116,196,118)\"],[0.625,\"rgb(65,171,93)\"],[0.75,\"rgb(35,139,69)\"],[0.875,\"rgb(0,109,44)\"],[1.0,\"rgb(0,68,27)\"]]},\"legend\":{\"tracegroupgap\":0},\"title\":{\"text\":\"Customer Segment Size (by Count) & Total Value (by Color)\"},\"margin\":{\"l\":0,\"r\":0,\"b\":0,\"t\":30}},                        {\"responsive\": true}                    ).then(function(){\n",
       "                            \n",
       "var gd = document.getElementById('8f997ea5-5dc5-4435-9377-f6c13a506ccd');\n",
       "var x = new MutationObserver(function (mutations, observer) {{\n",
       "        var display = window.getComputedStyle(gd).display;\n",
       "        if (!display || display === 'none') {{\n",
       "            console.log([gd, 'removed!']);\n",
       "            Plotly.purge(gd);\n",
       "            observer.disconnect();\n",
       "        }}\n",
       "}});\n",
       "\n",
       "// Listen for the removal of the full notebook cells\n",
       "var notebookContainer = gd.closest('#notebook-container');\n",
       "if (notebookContainer) {{\n",
       "    x.observe(notebookContainer, {childList: true});\n",
       "}}\n",
       "\n",
       "// Listen for the clearing of the current output cell\n",
       "var outputEl = gd.closest('.output');\n",
       "if (outputEl) {{\n",
       "    x.observe(outputEl, {childList: true});\n",
       "}}\n",
       "\n",
       "                        })                };                });            </script>        </div>"
      ]
     },
     "metadata": {},
     "output_type": "display_data"
    }
   ],
   "execution_count": 14
  },
  {
   "metadata": {},
   "cell_type": "code",
   "outputs": [],
   "execution_count": null,
   "source": "",
   "id": "1fdf92fb49504750"
  }
 ],
 "metadata": {
  "kernelspec": {
   "display_name": "Python 3",
   "language": "python",
   "name": "python3"
  },
  "language_info": {
   "codemirror_mode": {
    "name": "ipython",
    "version": 2
   },
   "file_extension": ".py",
   "mimetype": "text/x-python",
   "name": "python",
   "nbconvert_exporter": "python",
   "pygments_lexer": "ipython2",
   "version": "2.7.6"
  }
 },
 "nbformat": 4,
 "nbformat_minor": 5
}
